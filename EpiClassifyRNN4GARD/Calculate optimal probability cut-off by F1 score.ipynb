{
 "cells": [
  {
   "cell_type": "markdown",
   "id": "99dd631d",
   "metadata": {},
   "source": [
    "The goal of this notebook is to calculate the optimal cut-off value for output of logistic sigmoid function (interpreted as probability...)"
   ]
  },
  {
   "cell_type": "code",
   "execution_count": 1,
   "id": "c96e1817",
   "metadata": {},
   "outputs": [],
   "source": [
    "import pandas as pd\n",
    "import requests\n",
    "from sklearn.metrics import f1_score, precision_score, recall_score\n",
    "\n",
    "pd.set_option('display.max_rows', 500)\n",
    "pd.set_option('display.max_colwidth', None)"
   ]
  },
  {
   "cell_type": "markdown",
   "id": "02ee9d8d",
   "metadata": {},
   "source": [
    "Validation is the label assigned by the curator. Notes are comments optionally provided by the curator."
   ]
  },
  {
   "cell_type": "code",
   "execution_count": 2,
   "id": "6f853afa",
   "metadata": {},
   "outputs": [],
   "source": [
    "curator_labeled = pd.read_csv('curator_results_comparison_orphanet.csv')"
   ]
  },
  {
   "cell_type": "code",
   "execution_count": 3,
   "id": "ae0a9f85",
   "metadata": {
    "scrolled": true
   },
   "outputs": [
    {
     "data": {
      "text/html": [
       "<div>\n",
       "<style scoped>\n",
       "    .dataframe tbody tr th:only-of-type {\n",
       "        vertical-align: middle;\n",
       "    }\n",
       "\n",
       "    .dataframe tbody tr th {\n",
       "        vertical-align: top;\n",
       "    }\n",
       "\n",
       "    .dataframe thead th {\n",
       "        text-align: right;\n",
       "    }\n",
       "</style>\n",
       "<table border=\"1\" class=\"dataframe\">\n",
       "  <thead>\n",
       "    <tr style=\"text-align: right;\">\n",
       "      <th></th>\n",
       "      <th>PMID</th>\n",
       "      <th>Title</th>\n",
       "      <th>Abs</th>\n",
       "      <th>Validation</th>\n",
       "      <th>Notes</th>\n",
       "      <th>preds</th>\n",
       "      <th>probs</th>\n",
       "    </tr>\n",
       "  </thead>\n",
       "  <tbody>\n",
       "    <tr>\n",
       "      <th>92</th>\n",
       "      <td>25205112</td>\n",
       "      <td>Mutation of SLC9A1, encoding the major Na‚Å∫/H‚Å∫ exchanger, causes ataxia-deafness Lichtenstein-Knorr syndrome.</td>\n",
       "      <td>Lichtenstein-Knorr syndrome is an autosomal recessive condition that associates sensorineural hearing loss and cerebellar ataxia. Here, we report the first identification of a gene involved in Lichtenstein-Knorr syndrome. By using a combination of homozygosity mapping and whole-exome sequencing, we identified the homozygous p.Gly305Arg missense mutation in SLC9A1 that segregates with the disease in a large consanguineous family. Mutant glycine 305 is a highly conserved amino acid present in the eighth transmembrane segment of all metazoan orthologues of NHE1, the Na(+)/H(+) exchanger 1, encoded by SLC9A1. We demonstrate that the p.Gly305Arg mutation causes the near complete de-glycosylation, mis-targeting and loss of proton pumping activity of NHE1. The comparison of our family with the phenotypes of spontaneous and knockout Slc9a1 murine models demonstrates that the association between ataxia and hearing loss is caused by complete or near complete loss of function of NHE1 and altered regulation of pHi in the central nervous system.</td>\n",
       "      <td>0</td>\n",
       "      <td>NaN</td>\n",
       "      <td>0</td>\n",
       "      <td>0.013222</td>\n",
       "    </tr>\n",
       "    <tr>\n",
       "      <th>93</th>\n",
       "      <td>8929507</td>\n",
       "      <td>Hereditary neurocutaneous angiomatosis. Report of four cases.</td>\n",
       "      <td>The authors report the coexistence of vascular nevi (hemangiomas and arteriovenous malformations (AVMs) of the skin) with AVMs and venous malformations of the brain in male siblings from two related but nonconsanguineous families of three generations. The proband, his siblings, parents, aunts, uncles, and cousins were examined, underwent magnetic resonance (MR) imaging and MR angiography, and when appropriate, cerebral angiography. A father had vascular nevi and a mother, his sister, had an azygos anterior cerebral artery. No other cutaneous or cerebrovascular malformations were present in the parents. Each of the two families had two boys and one girl, 9 to 18 years of age. All the children had vascular nevi and all of the boys had coexisting cerebrovascular malformations: AVMs in three, and a venous malformation in another. One boy had three cerebral AVMs. Two boys had a cerebral hemorrhage, and one also had focal motor seizures. The skin lesions were not those of the Sturge-Weber-Dimitri, Rendu-Osler-Weber, or Wybum-Mason syndromes. The association of cutaneous and cerebrovascular malformations was seen only in males in these families. but females have also been reported in the literature. The results obtained in these families and three other families reported from Western and Central Europe indicate that the association of cerebral and cutaneous vascular hamartomas constitutes a distinct, hereditary clinicopathological entity with autosomal dominant inheritance and variable penetrance. The clinical manifestations of this syndrome are visible, painful vascular nevi, epilepsy, cerebral hemorrhage, and focal neurological deficits. The preponderance of male patients with the full expression of the syndrome suggests a possible hormonal influence on the expression of the gene.</td>\n",
       "      <td>0</td>\n",
       "      <td>NaN</td>\n",
       "      <td>0</td>\n",
       "      <td>0.018127</td>\n",
       "    </tr>\n",
       "    <tr>\n",
       "      <th>94</th>\n",
       "      <td>27280374</td>\n",
       "      <td>Acromegaly incidence, prevalence, complications and long-term prognosis: a nationwide cohort study.</td>\n",
       "      <td>Valid data on acromegaly incidence, complications and mortality are scarce. The Danish Health Care System enables nationwide studies with complete follow-up and linkage among health-related databases to assess acromegaly incidence, prevalence, complications and mortality in a population-based cohort study.All incident cases of acromegaly in Denmark (1991-2010) were identified from health registries and validated by chart review. We estimated the annual incidence rate of acromegaly per 10(6) person-years (py) with 95% confidence intervals (95% CIs). For every patient, 10 persons were sampled from the general population as a comparison cohort. Cox regression and hazard ratios (HRs) with 95% confidence intervals (95% CIs) were used.Mean age at diagnosis (48.7 years (CI: 95%: 47.2-50.1)) and annual incidence rate (3.8 cases/10(6) persons (95% CI: 3.6-4.1)) among the 405 cases remained stable. The prevalence in 2010 was 85 cases/10(6) persons. The patients were at increased risk of diabetes mellitus (HR: 4.0 (95% CI: 2.7-5.8)), heart failure (HR: 2.5 (95% CI: 1.4-4.5)), venous thromboembolism (HR: 2.3 (95% CI: 1.1-5.0)), sleep apnoea (HR: 11.7 (95% CI: 7.0-19.4)) and arthropathy (HR: 2.1 (95% CI: 1.6-2.6)). The complication risk was also increased before the diagnosis of acromegaly. Overall mortality risk was elevated (HR: 1.3 (95% CI: 1.0-1.7)) but uninfluenced by treatment modality.(i) The incidence rate and age at diagnosis of acromegaly have been stable over decades, and the prevalence is higher than previously reported. (ii) The risk of complications is very high even before the diagnosis. (iii) Mortality risk remains elevated but uninfluenced by mode of treatment.</td>\n",
       "      <td>1</td>\n",
       "      <td>NaN</td>\n",
       "      <td>1</td>\n",
       "      <td>0.998219</td>\n",
       "    </tr>\n",
       "    <tr>\n",
       "      <th>95</th>\n",
       "      <td>26795590</td>\n",
       "      <td>Newborn screening for Krabbe disease in New York State: the first eight years' experience.</td>\n",
       "      <td>Krabbe disease (KD) results from galactocerebrosidase (GALC) deficiency. Infantile KD symptoms include irritability, progressive stiffness, developmental delay, and death. The only potential treatment is hematopoietic stem cell transplantation. New York State (NYS) implemented newborn screening for KD in 2006.Dried blood spots from newborns were assayed for GALC enzyme activity using mass spectrometry, followed by molecular analysis for those with low activity (‚Äö√†√∂¬¨¬¢‚Äö√Ñ√∂‚àö√ë‚Äö√†√ª¬¨¬®¬¨√ü12% of the daily mean). Infants with low enzyme activity and one or more mutations were referred for follow-up diagnostic testing and neurological examination.Of &gt;1.9 million screened, 620 infants were subjected to molecular analysis and 348 were referred for diagnostic testing. Five had enzyme activities and mutations consistent with infantile KD and manifested clinical/neurodiagnostic abnormalities. Four underwent transplantation, two are surviving with moderate to severe handicaps, and two died from transplant-related complications. The significance of many sequence variants identified is unknown. Forty-six asymptomatic infants were found to be at moderate to high risk for disease.The positive predictive value of KD screening in NYS is 1.4% (5/346) considering confirmed infantile cases. The incidence of infantile KD in NYS is approximately 1 in 394,000, but it may be higher for later-onset forms.</td>\n",
       "      <td>1</td>\n",
       "      <td>NaN</td>\n",
       "      <td>0</td>\n",
       "      <td>0.019807</td>\n",
       "    </tr>\n",
       "    <tr>\n",
       "      <th>96</th>\n",
       "      <td>22954482</td>\n",
       "      <td>Idiopathic pulmonary fibrosis in Taiwan - a population-based study.</td>\n",
       "      <td>BACKGROUND: This study took advantage of a large population-based database of the Taiwan National Health Insurance (NHI) to investigate the epidemiology of idiopathic pulmonary fibrosis (IPF) in Taiwan. METHODS: This is a retrospective cohort study based on secondary analysis of prospectively collected data in the NHI system and governmental data on death registry in Taiwan during 1997-2007. By using the broad and narrow definitions for IPF, we estimated incidence and prevalence rates of IPF, and its associated clinical outcomes. RESULTS: The estimates of annual IPF incidence rates became more stable after 2000, ranging between 0.9 and 1.6 cases per 100,000 persons. The prevalence rates became more than twofold from 2000 to 2007 (from 2.8 to 6.4 cases per 100,000 persons for the broad definition, and from 2.0 to 4.9 cases per 100,000 persons for the narrow definition). Men of age older than 75 years had markedly higher incidence and prevalence rates than other groups. Around 40% of all incidences and about 30% of prevalent cases occurred in this population group. The median survival time after IPF diagnosis was 0.9 year (interquartile range (IQR), 0.2-2.5 years) and 0.7 year (IQR, 0.1-2.3 years) for the broad and narrow definitions, respectively. Progression of IPF was the leading cause of death, followed by cancer. CONCLUSIONS: In Taiwan, elderly men were the major group suffering from IPF. Survival time was short after IPF diagnosis, and the poor survival was largely attributable to quick IPF progression after diagnosis.</td>\n",
       "      <td>1</td>\n",
       "      <td>NaN</td>\n",
       "      <td>1</td>\n",
       "      <td>0.964216</td>\n",
       "    </tr>\n",
       "  </tbody>\n",
       "</table>\n",
       "</div>"
      ],
      "text/plain": [
       "        PMID  \\\n",
       "92  25205112   \n",
       "93   8929507   \n",
       "94  27280374   \n",
       "95  26795590   \n",
       "96  22954482   \n",
       "\n",
       "                                                                                                               Title  \\\n",
       "92  Mutation of SLC9A1, encoding the major Na‚Å∫/H‚Å∫ exchanger, causes ataxia-deafness Lichtenstein-Knorr syndrome.   \n",
       "93                                                     Hereditary neurocutaneous angiomatosis. Report of four cases.   \n",
       "94               Acromegaly incidence, prevalence, complications and long-term prognosis: a nationwide cohort study.   \n",
       "95                        Newborn screening for Krabbe disease in New York State: the first eight years' experience.   \n",
       "96                                               Idiopathic pulmonary fibrosis in Taiwan - a population-based study.   \n",
       "\n",
       "                                                                                                                                                                                                                                                                                                                                                                                                                                                                                                                                                                                                                                                                                                                                                                                                                                                                                                                                                                                                                                                                                                                                                                                                                                                                                                                                                                                                                                                                                                                                                                                                                                                                                                                                                                                                                                                                               Abs  \\\n",
       "92                                                                                                                                                                                                                                                                                                                                                                                                                                                                                                                                                                                                                                                                                                                                                                                        Lichtenstein-Knorr syndrome is an autosomal recessive condition that associates sensorineural hearing loss and cerebellar ataxia. Here, we report the first identification of a gene involved in Lichtenstein-Knorr syndrome. By using a combination of homozygosity mapping and whole-exome sequencing, we identified the homozygous p.Gly305Arg missense mutation in SLC9A1 that segregates with the disease in a large consanguineous family. Mutant glycine 305 is a highly conserved amino acid present in the eighth transmembrane segment of all metazoan orthologues of NHE1, the Na(+)/H(+) exchanger 1, encoded by SLC9A1. We demonstrate that the p.Gly305Arg mutation causes the near complete de-glycosylation, mis-targeting and loss of proton pumping activity of NHE1. The comparison of our family with the phenotypes of spontaneous and knockout Slc9a1 murine models demonstrates that the association between ataxia and hearing loss is caused by complete or near complete loss of function of NHE1 and altered regulation of pHi in the central nervous system.   \n",
       "93  The authors report the coexistence of vascular nevi (hemangiomas and arteriovenous malformations (AVMs) of the skin) with AVMs and venous malformations of the brain in male siblings from two related but nonconsanguineous families of three generations. The proband, his siblings, parents, aunts, uncles, and cousins were examined, underwent magnetic resonance (MR) imaging and MR angiography, and when appropriate, cerebral angiography. A father had vascular nevi and a mother, his sister, had an azygos anterior cerebral artery. No other cutaneous or cerebrovascular malformations were present in the parents. Each of the two families had two boys and one girl, 9 to 18 years of age. All the children had vascular nevi and all of the boys had coexisting cerebrovascular malformations: AVMs in three, and a venous malformation in another. One boy had three cerebral AVMs. Two boys had a cerebral hemorrhage, and one also had focal motor seizures. The skin lesions were not those of the Sturge-Weber-Dimitri, Rendu-Osler-Weber, or Wybum-Mason syndromes. The association of cutaneous and cerebrovascular malformations was seen only in males in these families. but females have also been reported in the literature. The results obtained in these families and three other families reported from Western and Central Europe indicate that the association of cerebral and cutaneous vascular hamartomas constitutes a distinct, hereditary clinicopathological entity with autosomal dominant inheritance and variable penetrance. The clinical manifestations of this syndrome are visible, painful vascular nevi, epilepsy, cerebral hemorrhage, and focal neurological deficits. The preponderance of male patients with the full expression of the syndrome suggests a possible hormonal influence on the expression of the gene.   \n",
       "94                                                                                                                   Valid data on acromegaly incidence, complications and mortality are scarce. The Danish Health Care System enables nationwide studies with complete follow-up and linkage among health-related databases to assess acromegaly incidence, prevalence, complications and mortality in a population-based cohort study.All incident cases of acromegaly in Denmark (1991-2010) were identified from health registries and validated by chart review. We estimated the annual incidence rate of acromegaly per 10(6) person-years (py) with 95% confidence intervals (95% CIs). For every patient, 10 persons were sampled from the general population as a comparison cohort. Cox regression and hazard ratios (HRs) with 95% confidence intervals (95% CIs) were used.Mean age at diagnosis (48.7 years (CI: 95%: 47.2-50.1)) and annual incidence rate (3.8 cases/10(6) persons (95% CI: 3.6-4.1)) among the 405 cases remained stable. The prevalence in 2010 was 85 cases/10(6) persons. The patients were at increased risk of diabetes mellitus (HR: 4.0 (95% CI: 2.7-5.8)), heart failure (HR: 2.5 (95% CI: 1.4-4.5)), venous thromboembolism (HR: 2.3 (95% CI: 1.1-5.0)), sleep apnoea (HR: 11.7 (95% CI: 7.0-19.4)) and arthropathy (HR: 2.1 (95% CI: 1.6-2.6)). The complication risk was also increased before the diagnosis of acromegaly. Overall mortality risk was elevated (HR: 1.3 (95% CI: 1.0-1.7)) but uninfluenced by treatment modality.(i) The incidence rate and age at diagnosis of acromegaly have been stable over decades, and the prevalence is higher than previously reported. (ii) The risk of complications is very high even before the diagnosis. (iii) Mortality risk remains elevated but uninfluenced by mode of treatment.   \n",
       "95                                                                                                                                                                                                                                                                                                                                                                                                        Krabbe disease (KD) results from galactocerebrosidase (GALC) deficiency. Infantile KD symptoms include irritability, progressive stiffness, developmental delay, and death. The only potential treatment is hematopoietic stem cell transplantation. New York State (NYS) implemented newborn screening for KD in 2006.Dried blood spots from newborns were assayed for GALC enzyme activity using mass spectrometry, followed by molecular analysis for those with low activity (‚Äö√†√∂¬¨¬¢‚Äö√Ñ√∂‚àö√ë‚Äö√†√ª¬¨¬®¬¨√ü12% of the daily mean). Infants with low enzyme activity and one or more mutations were referred for follow-up diagnostic testing and neurological examination.Of >1.9 million screened, 620 infants were subjected to molecular analysis and 348 were referred for diagnostic testing. Five had enzyme activities and mutations consistent with infantile KD and manifested clinical/neurodiagnostic abnormalities. Four underwent transplantation, two are surviving with moderate to severe handicaps, and two died from transplant-related complications. The significance of many sequence variants identified is unknown. Forty-six asymptomatic infants were found to be at moderate to high risk for disease.The positive predictive value of KD screening in NYS is 1.4% (5/346) considering confirmed infantile cases. The incidence of infantile KD in NYS is approximately 1 in 394,000, but it may be higher for later-onset forms.   \n",
       "96                                                                                                                                                                                                                                                                    BACKGROUND: This study took advantage of a large population-based database of the Taiwan National Health Insurance (NHI) to investigate the epidemiology of idiopathic pulmonary fibrosis (IPF) in Taiwan. METHODS: This is a retrospective cohort study based on secondary analysis of prospectively collected data in the NHI system and governmental data on death registry in Taiwan during 1997-2007. By using the broad and narrow definitions for IPF, we estimated incidence and prevalence rates of IPF, and its associated clinical outcomes. RESULTS: The estimates of annual IPF incidence rates became more stable after 2000, ranging between 0.9 and 1.6 cases per 100,000 persons. The prevalence rates became more than twofold from 2000 to 2007 (from 2.8 to 6.4 cases per 100,000 persons for the broad definition, and from 2.0 to 4.9 cases per 100,000 persons for the narrow definition). Men of age older than 75 years had markedly higher incidence and prevalence rates than other groups. Around 40% of all incidences and about 30% of prevalent cases occurred in this population group. The median survival time after IPF diagnosis was 0.9 year (interquartile range (IQR), 0.2-2.5 years) and 0.7 year (IQR, 0.1-2.3 years) for the broad and narrow definitions, respectively. Progression of IPF was the leading cause of death, followed by cancer. CONCLUSIONS: In Taiwan, elderly men were the major group suffering from IPF. Survival time was short after IPF diagnosis, and the poor survival was largely attributable to quick IPF progression after diagnosis.   \n",
       "\n",
       "    Validation Notes  preds     probs  \n",
       "92           0   NaN      0  0.013222  \n",
       "93           0   NaN      0  0.018127  \n",
       "94           1   NaN      1  0.998219  \n",
       "95           1   NaN      0  0.019807  \n",
       "96           1   NaN      1  0.964216  "
      ]
     },
     "execution_count": 3,
     "metadata": {},
     "output_type": "execute_result"
    }
   ],
   "source": [
    "curator_labeled.tail()"
   ]
  },
  {
   "cell_type": "markdown",
   "id": "639ca151",
   "metadata": {},
   "source": [
    "Extract the standardized labels, predictions, and probabilities from the dataset in order to calculate precision, recall, F1 score"
   ]
  },
  {
   "cell_type": "code",
   "execution_count": 4,
   "id": "c826e20e",
   "metadata": {},
   "outputs": [],
   "source": [
    "curator_labeled[['Validation', 'preds']] = (curator_labeled[['Validation', 'preds']] == True).astype(int)\n",
    "labels = list(curator_labeled['Validation'])\n",
    "predictions = list(curator_labeled['preds'])\n",
    "probs = list(curator_labeled['probs'])"
   ]
  },
  {
   "cell_type": "code",
   "execution_count": 5,
   "id": "fd392ccf",
   "metadata": {
    "scrolled": true
   },
   "outputs": [
    {
     "name": "stdout",
     "output_type": "stream",
     "text": [
      "Scores at probability 0.5 cutoff\n",
      "0.8\n",
      "0.5454545454545454\n",
      "0.6486486486486486\n"
     ]
    }
   ],
   "source": [
    "print('Scores at probability 0.5 cutoff')\n",
    "print(precision_score(labels, predictions))\n",
    "print(recall_score(labels, predictions))\n",
    "print(f1_score(labels, predictions))"
   ]
  },
  {
   "cell_type": "markdown",
   "id": "9989756d",
   "metadata": {},
   "source": [
    "Changed precision, recall, F1 score to [binary](https://scikit-learn.org/stable/modules/generated/sklearn.metrics.f1_score.html#sklearn.metrics.f1_score) from macro average"
   ]
  },
  {
   "cell_type": "code",
   "execution_count": 6,
   "id": "5a4ef490",
   "metadata": {},
   "outputs": [],
   "source": [
    "F1array = []\n",
    "Precisionarray =[]\n",
    "Recallarray =[]\n",
    "Cutoffarray = [float(i/1000) for i in range(20,990)]\n",
    "for cutoff in Cutoffarray:\n",
    "    preds = [1 if j>cutoff else 0 for j in probs]\n",
    "    f1 = f1_score(labels, preds)\n",
    "    precision = precision_score(labels, preds)\n",
    "    recall = recall_score(labels, preds)\n",
    "    F1array.append(f1)\n",
    "    Precisionarray.append(precision)\n",
    "    Recallarray.append(recall)"
   ]
  },
  {
   "cell_type": "code",
   "execution_count": 7,
   "id": "ea465b71",
   "metadata": {},
   "outputs": [
    {
     "name": "stdout",
     "output_type": "stream",
     "text": [
      "970 970 970 970\n"
     ]
    }
   ],
   "source": [
    "print(len(F1array),len(Precisionarray),len(Recallarray),len(Cutoffarray))"
   ]
  },
  {
   "cell_type": "code",
   "execution_count": 8,
   "id": "5bf93540",
   "metadata": {
    "scrolled": true
   },
   "outputs": [
    {
     "name": "stdout",
     "output_type": "stream",
     "text": [
      "F1 is 0.7228915662650602 at cutoff 0.032\n",
      "Precision is 0.7692307692307693 at cutoff 0.032\n",
      "Recall is 0.6818181818181818 at cutoff 0.032\n",
      "\n",
      "F1 is 0.6486486486486486 at cutoff 0.5\n"
     ]
    }
   ],
   "source": [
    "max_value = max(F1array)\n",
    "max_index = F1array.index(max_value)\n",
    "cutoff = Cutoffarray[max_index]\n",
    "print('F1 is',max_value,'at cutoff',cutoff)\n",
    "print('Precision is',Precisionarray[max_index],'at cutoff',cutoff)\n",
    "print('Recall is',Recallarray[max_index],'at cutoff',cutoff)\n",
    "\n",
    "print('\\nF1 is',F1array[Cutoffarray.index(0.5)],'at cutoff',0.5)"
   ]
  },
  {
   "cell_type": "markdown",
   "id": "d8d1b207",
   "metadata": {},
   "source": [
    "Note that this test set is extremely small"
   ]
  },
  {
   "cell_type": "code",
   "execution_count": 9,
   "id": "70bb2c04",
   "metadata": {},
   "outputs": [
    {
     "name": "stdout",
     "output_type": "stream",
     "text": [
      "F1 is 0.5 at cutoff 0.988\n",
      "Precision is 0.9375 at cutoff 0.988\n",
      "Recall is 0.3409090909090909 at cutoff 0.988\n"
     ]
    }
   ],
   "source": [
    "maxprecision = max(Precisionarray)\n",
    "max_precision_idx = Precisionarray.index(maxprecision)\n",
    "precision_cutoff = Cutoffarray[max_precision_idx]\n",
    "\n",
    "print('F1 is',F1array[max_precision_idx],'at cutoff',precision_cutoff)\n",
    "print('Precision is',maxprecision,'at cutoff',precision_cutoff)\n",
    "print('Recall is',Recallarray[max_precision_idx],'at cutoff',precision_cutoff)"
   ]
  },
  {
   "cell_type": "code",
   "execution_count": 10,
   "id": "102d6a0f",
   "metadata": {},
   "outputs": [
    {
     "name": "stdout",
     "output_type": "stream",
     "text": [
      "F1 is 0.6601941747572816 at cutoff 0.02\n",
      "Precision is 0.7727272727272727 at cutoff 0.02\n",
      "Recall is 0.7727272727272727 at cutoff 0.02\n"
     ]
    }
   ],
   "source": [
    "maxrecall = max(Recallarray)\n",
    "max_recall_idx = Recallarray.index(maxrecall)\n",
    "recall_cutoff = Cutoffarray[max_recall_idx]\n",
    "\n",
    "print('F1 is',F1array[max_recall_idx],'at cutoff',recall_cutoff)\n",
    "print('Precision is',maxrecall,'at cutoff',recall_cutoff)\n",
    "print('Recall is',Recallarray[max_recall_idx],'at cutoff',recall_cutoff)"
   ]
  },
  {
   "cell_type": "code",
   "execution_count": 11,
   "id": "86b4df0a",
   "metadata": {},
   "outputs": [],
   "source": [
    "import matplotlib.pyplot as plt"
   ]
  },
  {
   "cell_type": "code",
   "execution_count": 12,
   "id": "b5b95a07",
   "metadata": {
    "scrolled": true
   },
   "outputs": [
    {
     "data": {
      "image/png": "[encoded data removed]",
      "text/plain": [
       "<Figure size 432x288 with 1 Axes>"
      ]
     },
     "metadata": {
      "needs_background": "light"
     },
     "output_type": "display_data"
    }
   ],
   "source": [
    "# red dashes, blue squares and green triangles\n",
    "plt.plot(Cutoffarray, F1array, 'r--', Cutoffarray, Precisionarray, 'b--', Cutoffarray, Recallarray, 'g--')\n",
    "plt.ylabel('F1[Red], Precision[Blue], Recall[Green]')\n",
    "plt.xlabel('CutOff Value')\n",
    "plt.show()"
   ]
  },
  {
   "cell_type": "code",
   "execution_count": 13,
   "id": "387f5028",
   "metadata": {},
   "outputs": [
    {
     "data": {
      "text/plain": [
       "<Figure size 432x288 with 0 Axes>"
      ]
     },
     "metadata": {},
     "output_type": "display_data"
    }
   ],
   "source": [
    "fig = plt.figure()\n",
    "fig.savefig('F1[Red], Precision[Blue], Recall[Green] by cut off.png', dpi=400, bbox_inches='tight')"
   ]
  }
 ],
 "metadata": {
  "kernelspec": {
   "display_name": "Python 3 (ipykernel)",
   "language": "python",
   "name": "python3"
  },
  "language_info": {
   "codemirror_mode": {
    "name": "ipython",
    "version": 3
   },
   "file_extension": ".py",
   "mimetype": "text/x-python",
   "name": "python",
   "nbconvert_exporter": "python",
   "pygments_lexer": "ipython3",
   "version": "3.9.7"
  }
 },
 "nbformat": 4,
 "nbformat_minor": 5
}

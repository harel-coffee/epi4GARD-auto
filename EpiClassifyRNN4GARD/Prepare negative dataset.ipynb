{
 "cells": [
  {
   "cell_type": "code",
   "execution_count": 1,
   "metadata": {},
   "outputs": [],
   "source": [
    "import xml.etree.ElementTree as ET\n",
    "import re\n",
    "import requests\n",
    "from nltk.stem.wordnet import WordNetLemmatizer\n",
    "from bs4 import BeautifulSoup\n",
    "import string\n",
    "import json\n",
    "import pandas as pd\n",
    "from nltk.stem import PorterStemmer\n",
    "import spacy\n",
    "from spacy.lang.en import English\n",
    "nlpSci = spacy.load(\"en_ner_bc5cdr_md\")"
   ]
  },
  {
   "cell_type": "markdown",
   "metadata": {},
   "source": [
    "### Get Orphanet articles"
   ]
  },
  {
   "cell_type": "code",
   "execution_count": 16,
   "metadata": {},
   "outputs": [],
   "source": [
    "tree = ET.parse('en_product9_prev.xml')\n",
    "root = tree.getroot()"
   ]
  },
  {
   "cell_type": "code",
   "execution_count": 17,
   "metadata": {
    "scrolled": true
   },
   "outputs": [],
   "source": [
    "prev_pmids = set()\n",
    "\n",
    "for child in root.iter('*'):\n",
    "    if child.tag == 'Source' and 'PMID' in child.text:\n",
    "        pmids = re.findall('\\d{6,8}', child.text)\n",
    "        for pmid in pmids:\n",
    "            if pmid not in prev_pmids:\n",
    "                prev_pmids.add(pmid)"
   ]
  },
  {
   "cell_type": "markdown",
   "metadata": {},
   "source": [
    "### Prepare negative examples"
   ]
  },
  {
   "cell_type": "markdown",
   "metadata": {},
   "source": [
    "1. get all GARD disorders\n",
    "2. for each disorder, find 5 (or fewer) article pmids resulting from searching it on PubMed\n",
    "3. filter epidemiology from resulting pmids"
   ]
  },
  {
   "cell_type": "code",
   "execution_count": 5,
   "metadata": {},
   "outputs": [],
   "source": [
    "def getAbs(pmid):\n",
    "    url = 'https://www.ebi.ac.uk/europepmc/webservices/rest/search?query=EXT_ID:'+pmid+'&resulttype=core'\n",
    "    r = requests.get(url)\n",
    "    root = ET.fromstring(r.content)\n",
    "    \n",
    "    results = [abstract.text for abstract in root.iter('abstractText')]\n",
    "    \n",
    "    if len(results) > 0:\n",
    "        return results[0]\n",
    "    else:\n",
    "        return ''\n",
    "    "
   ]
  },
  {
   "cell_type": "markdown",
   "metadata": {},
   "source": [
    "Get all GARD dzs from neo4j"
   ]
  },
  {
   "cell_type": "code",
   "execution_count": 6,
   "metadata": {},
   "outputs": [],
   "source": [
    "with open('records.json') as f:\n",
    "    records = json.load(f)"
   ]
  },
  {
   "cell_type": "code",
   "execution_count": 7,
   "metadata": {},
   "outputs": [],
   "source": [
    "disorders = set()\n",
    "\n",
    "for entry in records:\n",
    "    disorders.add(entry['GARD_Name'])"
   ]
  },
  {
   "cell_type": "markdown",
   "metadata": {},
   "source": [
    "Get PubMed results for each dz name"
   ]
  },
  {
   "cell_type": "code",
   "execution_count": 8,
   "metadata": {
    "scrolled": true
   },
   "outputs": [
    {
     "name": "stdout",
     "output_type": "stream",
     "text": [
      "0 0\n",
      "50 240\n",
      "100 469\n",
      "150 712\n",
      "200 950\n",
      "250 1180\n",
      "300 1419\n",
      "350 1652\n",
      "400 1892\n",
      "450 2128\n",
      "500 2360\n",
      "550 2596\n",
      "600 2846\n",
      "650 3081\n",
      "700 3326\n",
      "750 3568\n",
      "800 3797\n",
      "850 4042\n",
      "900 4252\n",
      "950 4492\n",
      "1000 4733\n",
      "1050 4968\n",
      "1100 5203\n",
      "1150 5444\n",
      "1200 5672\n",
      "1250 5902\n",
      "1300 6135\n",
      "1350 6364\n",
      "1400 6604\n",
      "1450 6848\n",
      "1500 7095\n",
      "1550 7334\n",
      "1600 7554\n",
      "1650 7795\n",
      "1700 8023\n",
      "1750 8250\n",
      "1800 8474\n",
      "1850 8717\n",
      "1900 8950\n",
      "1950 9196\n",
      "2000 9424\n",
      "2050 9656\n",
      "2100 9898\n",
      "2150 10124\n",
      "2200 10362\n",
      "2250 10584\n",
      "2300 10819\n",
      "2350 11049\n",
      "2400 11269\n",
      "2450 11513\n",
      "2500 11762\n",
      "2550 11970\n",
      "2600 12203\n",
      "2650 12441\n",
      "2700 12673\n",
      "2750 12908\n",
      "2800 13147\n",
      "2850 13385\n",
      "2900 13614\n",
      "2950 13854\n",
      "3000 14088\n",
      "3050 14312\n",
      "3100 14543\n",
      "3150 14762\n",
      "3200 15000\n",
      "3250 15236\n",
      "3300 15484\n",
      "3350 15716\n",
      "3400 15953\n",
      "3450 16189\n",
      "3500 16423\n",
      "3550 16656\n",
      "3600 16885\n",
      "3650 17129\n",
      "3700 17367\n",
      "3750 17595\n",
      "3800 17840\n",
      "3850 18071\n",
      "3900 18298\n",
      "3950 18533\n",
      "4000 18780\n",
      "4050 19017\n",
      "4100 19256\n",
      "4150 19496\n",
      "4200 19735\n",
      "4250 19968\n",
      "4300 20203\n",
      "4350 20448\n",
      "4400 20688\n",
      "4450 20919\n",
      "4500 21156\n",
      "4550 21393\n",
      "4600 21622\n",
      "4650 21858\n",
      "4700 22098\n",
      "4750 22331\n",
      "4800 22567\n",
      "4850 22792\n",
      "4900 23033\n",
      "4950 23256\n",
      "5000 23491\n",
      "5050 23724\n",
      "5100 23960\n",
      "5150 24190\n",
      "5200 24428\n",
      "5250 24671\n",
      "5300 24904\n",
      "5350 25146\n",
      "5400 25391\n",
      "5450 25615\n",
      "5500 25851\n",
      "5550 26088\n",
      "5600 26323\n",
      "5650 26551\n",
      "5700 26774\n",
      "5750 27008\n",
      "5800 27238\n",
      "5850 27478\n",
      "5900 27717\n",
      "5950 27946\n",
      "6000 28180\n",
      "6050 28414\n"
     ]
    }
   ],
   "source": [
    "j=0\n",
    "disorder_to_results = {}\n",
    "all_results = pd.DataFrame(columns=['pmid', 'abstract', 'mesh'])\n",
    "for dz in disorders:\n",
    "    if j%50 == 0:\n",
    "        print(j, len(all_results))\n",
    "    j+=1\n",
    "    \n",
    "    term = ''\n",
    "    dz_words = dz.split()\n",
    "    for word in dz_words:\n",
    "        term += word + '%20'\n",
    "    query = term[:-3]\n",
    "    url = 'https://www.ebi.ac.uk/europepmc/webservices/rest/search?query='+query+'&resulttype=core'\n",
    "    r = requests.get(url)\n",
    "    root = ET.fromstring(r.content)\n",
    "    \n",
    "    pmid_to_abs = {}\n",
    "    i = 0\n",
    "    \n",
    "    for result in root.iter('result'):\n",
    "        if i >= 5:\n",
    "            break\n",
    "        pmids = [pmid.text for pmid in result.iter('id')]\n",
    "        if len(pmids) > 0:\n",
    "            pmid = pmids[0]\n",
    "            if pmid[0].isdigit():\n",
    "                abstracts = [abstract.text for abstract in result.iter('abstractText')]\n",
    "                if len(abstracts) > 0:\n",
    "                    mesh = [mesh.text for mesh in result.iter('descriptorName')]\n",
    "                    pmid_to_abs[pmid] = [abstracts[0], mesh]\n",
    "                    i += 1\n",
    "    \n",
    "    disorder_to_results[dz] = i\n",
    "    for pmid in pmid_to_abs:\n",
    "        all_results = all_results.append({'pmid':pmid, 'abstract':pmid_to_abs[pmid][0], 'mesh':pmid_to_abs[pmid][1]}\n",
    "                                         , ignore_index=True)\n",
    "    "
   ]
  },
  {
   "cell_type": "markdown",
   "metadata": {},
   "source": [
    "Filter results"
   ]
  },
  {
   "cell_type": "code",
   "execution_count": 9,
   "metadata": {
    "scrolled": false
   },
   "outputs": [
    {
     "data": {
      "text/plain": [
       "28515"
      ]
     },
     "execution_count": 9,
     "metadata": {},
     "output_type": "execute_result"
    }
   ],
   "source": [
    "len(all_results)"
   ]
  },
  {
   "cell_type": "markdown",
   "metadata": {},
   "source": [
    "Drop results that are also found in the Orphanet dataset"
   ]
  },
  {
   "cell_type": "code",
   "execution_count": 19,
   "metadata": {
    "scrolled": true
   },
   "outputs": [],
   "source": [
    "for i,row in all_results.iterrows():\n",
    "    if row['pmid'] in prev_pmids:\n",
    "        all_results = all_results.drop([i])"
   ]
  },
  {
   "cell_type": "code",
   "execution_count": 20,
   "metadata": {},
   "outputs": [
    {
     "data": {
      "text/plain": [
       "28046"
      ]
     },
     "execution_count": 20,
     "metadata": {},
     "output_type": "execute_result"
    }
   ],
   "source": [
    "len(all_results)"
   ]
  },
  {
   "cell_type": "markdown",
   "metadata": {},
   "source": [
    "Drop results with epidemiology keywords"
   ]
  },
  {
   "cell_type": "code",
   "execution_count": 24,
   "metadata": {},
   "outputs": [],
   "source": [
    "i = 0\n",
    "for i,row in all_results.iterrows():\n",
    "    if keywordSearch(row['abstract']):\n",
    "        all_results = all_results.drop([i])"
   ]
  },
  {
   "cell_type": "code",
   "execution_count": 25,
   "metadata": {
    "scrolled": true
   },
   "outputs": [
    {
     "data": {
      "text/plain": [
       "25040"
      ]
     },
     "execution_count": 25,
     "metadata": {},
     "output_type": "execute_result"
    }
   ],
   "source": [
    "len(all_results)"
   ]
  },
  {
   "cell_type": "markdown",
   "metadata": {},
   "source": [
    "Drop results with epidemiology MeSH terms"
   ]
  },
  {
   "cell_type": "code",
   "execution_count": 26,
   "metadata": {},
   "outputs": [],
   "source": [
    "i = 0\n",
    "for i,row in all_results.iterrows():\n",
    "    for term in row['mesh']:\n",
    "        if term.lower() in {'epidemiology','prevalence','incidence'}:\n",
    "            all_results = all_results.drop([i])\n",
    "            break"
   ]
  },
  {
   "cell_type": "code",
   "execution_count": 27,
   "metadata": {},
   "outputs": [
    {
     "data": {
      "text/plain": [
       "24990"
      ]
     },
     "execution_count": 27,
     "metadata": {},
     "output_type": "execute_result"
    }
   ],
   "source": [
    "len(all_results)"
   ]
  },
  {
   "cell_type": "code",
   "execution_count": 23,
   "metadata": {},
   "outputs": [],
   "source": [
    "# check for presence of tokenized epidemiology keywords in the text\n",
    "def keywordSearch(sample):\n",
    "    if 'preval' in sample or 'incid' in sample or 'epidemio' in sample:\n",
    "        return True\n",
    "    return False"
   ]
  },
  {
   "cell_type": "code",
   "execution_count": 28,
   "metadata": {},
   "outputs": [],
   "source": [
    "all_results.to_csv('negative_dataset.csv', index=False, columns=['pmid','abstract'])"
   ]
  },
  {
   "cell_type": "code",
   "execution_count": null,
   "metadata": {},
   "outputs": [],
   "source": []
  }
 ],
 "metadata": {
  "kernelspec": {
   "display_name": "Python 3",
   "language": "python",
   "name": "python3"
  },
  "language_info": {
   "codemirror_mode": {
    "name": "ipython",
    "version": 3
   },
   "file_extension": ".py",
   "mimetype": "text/x-python",
   "name": "python",
   "nbconvert_exporter": "python",
   "pygments_lexer": "ipython3",
   "version": "3.7.5"
  }
 },
 "nbformat": 4,
 "nbformat_minor": 4
}

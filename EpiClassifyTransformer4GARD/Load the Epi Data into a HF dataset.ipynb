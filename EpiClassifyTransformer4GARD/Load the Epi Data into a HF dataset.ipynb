{
 "cells": [
  {
   "cell_type": "code",
   "execution_count": 1,
   "id": "fc20c915",
   "metadata": {},
   "outputs": [],
   "source": [
    "import random\n",
    "import pandas as pd\n",
    "import csv\n",
    "from sklearn.model_selection import train_test_split\n",
    "import re\n",
    "from datasets import Dataset\n",
    "from tqdm import tqdm"
   ]
  },
  {
   "cell_type": "markdown",
   "id": "88d2de68",
   "metadata": {},
   "source": [
    "### Load the positive, negative, and test datasets"
   ]
  },
  {
   "cell_type": "markdown",
   "id": "b94617b6",
   "metadata": {},
   "source": [
    "Test set"
   ]
  },
  {
   "cell_type": "code",
   "execution_count": 2,
   "id": "0ff66b6b",
   "metadata": {},
   "outputs": [],
   "source": [
    "def filter_ab(string):\n",
    "    #Remove the problematic parts of strings\n",
    "    string = re.sub('\\n', ' ', string)\n",
    "    string = re.sub('\\t', ' ', string)\n",
    "    return string"
   ]
  },
  {
   "cell_type": "code",
   "execution_count": 3,
   "id": "33b780d9",
   "metadata": {},
   "outputs": [],
   "source": [
    "curator_labeled = pd.read_excel('curator_labeled_dataset.xlsx',engine='openpyxl').drop(columns=['Label', 'PMID_Links','Unnamed: 6'])\n",
    "curator_pmids = list(curator_labeled['PMID'])\n",
    "for i in range(len(curator_pmids)):\n",
    "    curator_pmids[i] = str(curator_pmids[i])"
   ]
  },
  {
   "cell_type": "code",
   "execution_count": 4,
   "id": "ce8ba360",
   "metadata": {},
   "outputs": [
    {
     "data": {
      "text/html": [
       "<div>\n",
       "<style scoped>\n",
       "    .dataframe tbody tr th:only-of-type {\n",
       "        vertical-align: middle;\n",
       "    }\n",
       "\n",
       "    .dataframe tbody tr th {\n",
       "        vertical-align: top;\n",
       "    }\n",
       "\n",
       "    .dataframe thead th {\n",
       "        text-align: right;\n",
       "    }\n",
       "</style>\n",
       "<table border=\"1\" class=\"dataframe\">\n",
       "  <thead>\n",
       "    <tr style=\"text-align: right;\">\n",
       "      <th></th>\n",
       "      <th>PMID</th>\n",
       "      <th>Title</th>\n",
       "      <th>Abs</th>\n",
       "      <th>Validation</th>\n",
       "    </tr>\n",
       "  </thead>\n",
       "  <tbody>\n",
       "    <tr>\n",
       "      <th>0</th>\n",
       "      <td>9207112</td>\n",
       "      <td>Evolution of the Friedreich's ataxia trinucleo...</td>\n",
       "      <td>Friedreich's ataxia, the most frequent inherit...</td>\n",
       "      <td>Yes</td>\n",
       "    </tr>\n",
       "    <tr>\n",
       "      <th>1</th>\n",
       "      <td>19368978</td>\n",
       "      <td>Cleft palate lateral synechia syndrome: an opp...</td>\n",
       "      <td>OBJECTIVES: To report two cases of cleft palat...</td>\n",
       "      <td>no</td>\n",
       "    </tr>\n",
       "    <tr>\n",
       "      <th>2</th>\n",
       "      <td>7593576</td>\n",
       "      <td>Craniofacial conodysplasia.</td>\n",
       "      <td>A family with dominant inheritance of a previo...</td>\n",
       "      <td>no</td>\n",
       "    </tr>\n",
       "    <tr>\n",
       "      <th>3</th>\n",
       "      <td>16839424</td>\n",
       "      <td>Cardiomyopathy, familial dilated.</td>\n",
       "      <td>Dilated cardiomyopathy (DCM) is a heart muscle...</td>\n",
       "      <td>yes</td>\n",
       "    </tr>\n",
       "    <tr>\n",
       "      <th>4</th>\n",
       "      <td>3409540</td>\n",
       "      <td>Autosomal dominant antecubital pterygium: synd...</td>\n",
       "      <td>An autosomal dominant (AD) antecubital pterygi...</td>\n",
       "      <td>no</td>\n",
       "    </tr>\n",
       "  </tbody>\n",
       "</table>\n",
       "</div>"
      ],
      "text/plain": [
       "       PMID                                              Title  \\\n",
       "0   9207112  Evolution of the Friedreich's ataxia trinucleo...   \n",
       "1  19368978  Cleft palate lateral synechia syndrome: an opp...   \n",
       "2   7593576                        Craniofacial conodysplasia.   \n",
       "3  16839424                  Cardiomyopathy, familial dilated.   \n",
       "4   3409540  Autosomal dominant antecubital pterygium: synd...   \n",
       "\n",
       "                                                 Abs Validation  \n",
       "0  Friedreich's ataxia, the most frequent inherit...        Yes  \n",
       "1  OBJECTIVES: To report two cases of cleft palat...         no  \n",
       "2  A family with dominant inheritance of a previo...         no  \n",
       "3  Dilated cardiomyopathy (DCM) is a heart muscle...        yes  \n",
       "4  An autosomal dominant (AD) antecubital pterygi...         no  "
      ]
     },
     "execution_count": 4,
     "metadata": {},
     "output_type": "execute_result"
    }
   ],
   "source": [
    "curator_labeled.head()"
   ]
  },
  {
   "cell_type": "code",
   "execution_count": 5,
   "id": "3977077a",
   "metadata": {},
   "outputs": [],
   "source": [
    "test_titles = [filter_ab(title) for title in list(curator_labeled['Title'])]\n",
    "test_abstracts = [filter_ab(abstract) for abstract in list(curator_labeled['Abs'])]\n",
    "\n",
    "#test_titles = list(curator_labeled['Title'])\n",
    "#test_abstracts = list(curator_labeled['Abs'])\n",
    "curator_labels = list(curator_labeled['Validation'])\n",
    "\n",
    "#convert curator labels from yes/no to 1/0\n",
    "for i in range(len(curator_labels)):\n",
    "    if curator_labels[i][0].lower() == 'y':\n",
    "        curator_labels[i] = 1\n",
    "    elif curator_labels[i][0].lower() == 'n':\n",
    "        curator_labels[i] = 0"
   ]
  },
  {
   "cell_type": "code",
   "execution_count": 6,
   "id": "d1845676",
   "metadata": {},
   "outputs": [
    {
     "name": "stderr",
     "output_type": "stream",
     "text": [
      "100%|██████████| 98/98 [00:00<00:00, 105314.32it/s]\n"
     ]
    }
   ],
   "source": [
    "with open('epi_classify_test.tsv', \"w\") as f:\n",
    "    f.write('abstract\\tlabel\\n')\n",
    "    for i in tqdm(range(len(test_titles))):\n",
    "        if i ==len(test_titles)-1:\n",
    "            output = test_titles[i]+' '+test_abstracts[i]+'\\t' +str(curator_labels[i])\n",
    "        else:\n",
    "            output = test_titles[i]+' '+test_abstracts[i]+'\\t' +str(curator_labels[i])+'\\n'\n",
    "        f.write(output)\n",
    "f.close()"
   ]
  },
  {
   "cell_type": "markdown",
   "id": "dbeab1d8",
   "metadata": {},
   "source": [
    "positive/negative"
   ]
  },
  {
   "cell_type": "code",
   "execution_count": 7,
   "id": "a6140a67",
   "metadata": {
    "scrolled": true
   },
   "outputs": [
    {
     "name": "stdout",
     "output_type": "stream",
     "text": [
      "26334 26334 26334\n"
     ]
    }
   ],
   "source": [
    "abstracts = []\n",
    "labels = []\n",
    "pmids = []\n",
    "\n",
    "# Read in negative dataset\n",
    "\n",
    "with open(\"negative_dataset.csv\", 'r') as csvfile:\n",
    "    reader = csv.reader(csvfile, delimiter=',')\n",
    "    next(reader)\n",
    "    for row in reader:\n",
    "        abstract = row[1]\n",
    "        # Only keep the article if the abstract has more than 5 characters, and it's not one of the curator articles\n",
    "        if len(abstract)>75 and row[0] not in curator_pmids:\n",
    "            abstracts.append(filter_ab(abstract))\n",
    "            labels.append(0)\n",
    "            pmids.append(row[0])\n",
    "\n",
    "# Read in positive dataset\n",
    "            \n",
    "with open(\"positive_dataset.csv\", 'r') as csvfile:\n",
    "    reader = csv.reader(csvfile, delimiter=',')\n",
    "    next(reader)\n",
    "    for row in reader:\n",
    "        abstract = row[1]\n",
    "        # Only keep the article if the abstract has more than 5 chars, and it's not one of the curator articles\n",
    "        if len(abstract)>75 and row[0] not in curator_pmids:\n",
    "            abstracts.append(filter_ab(abstract))\n",
    "            labels.append(1)\n",
    "            pmids.append(row[0])\n",
    "\n",
    "print(len(labels), len(abstracts), len(pmids))"
   ]
  },
  {
   "cell_type": "code",
   "execution_count": 8,
   "id": "945643e4",
   "metadata": {},
   "outputs": [
    {
     "name": "stdout",
     "output_type": "stream",
     "text": [
      "18433 7901\n"
     ]
    }
   ],
   "source": [
    "combined = list(zip(abstracts,labels))\n",
    "train_set, val_set = train_test_split(combined, train_size=0.7, random_state=4)\n",
    "print(len(train_set),len(val_set))"
   ]
  },
  {
   "cell_type": "markdown",
   "id": "07e359b0",
   "metadata": {},
   "source": [
    "### Save"
   ]
  },
  {
   "cell_type": "code",
   "execution_count": 9,
   "id": "3beccaca",
   "metadata": {},
   "outputs": [
    {
     "name": "stderr",
     "output_type": "stream",
     "text": [
      "100%|██████████| 18433/18433 [00:00<00:00, 176894.31it/s]\n"
     ]
    }
   ],
   "source": [
    "with open('epi_classify_train.tsv', \"w\") as f:\n",
    "    f.write('abstract\\tlabel\\n')\n",
    "    for i in tqdm(range(len(train_set))):\n",
    "        if i ==len(train_set)-1:\n",
    "            output = str(train_set[i][0])+'\\t'+str(train_set[i][1])\n",
    "        else:\n",
    "            output = str(train_set[i][0])+'\\t'+str(train_set[i][1])+'\\n'\n",
    "        f.write(output)\n",
    "f.close()"
   ]
  },
  {
   "cell_type": "code",
   "execution_count": 10,
   "id": "0189f5cc",
   "metadata": {},
   "outputs": [
    {
     "name": "stderr",
     "output_type": "stream",
     "text": [
      "100%|██████████| 7901/7901 [00:00<00:00, 173065.99it/s]\n"
     ]
    }
   ],
   "source": [
    "with open('epi_classify_val.tsv', \"w\") as f:\n",
    "    f.write('abstract\\tlabel\\n')\n",
    "    for i in tqdm(range(len(val_set))):\n",
    "        if i ==len(val_set)-1:\n",
    "            output = str(val_set[i][0])+'\\t'+str(val_set[i][1])\n",
    "        else:\n",
    "            output = str(val_set[i][0])+'\\t'+str(val_set[i][1])+'\\n'\n",
    "        f.write(output)\n",
    "f.close()"
   ]
  },
  {
   "cell_type": "markdown",
   "id": "117d02c2",
   "metadata": {},
   "source": [
    "### Unused Code"
   ]
  },
  {
   "cell_type": "markdown",
   "id": "82f5000c",
   "metadata": {},
   "source": [
    "Compress"
   ]
  },
  {
   "cell_type": "code",
   "execution_count": null,
   "id": "a8382f75",
   "metadata": {},
   "outputs": [],
   "source": [
    "import gzip"
   ]
  },
  {
   "cell_type": "code",
   "execution_count": null,
   "id": "2bf9efb5",
   "metadata": {},
   "outputs": [],
   "source": [
    "with open('epi_classify_train.tsv','rb') as tr:\n",
    "    train = tr.read()\n",
    "\n",
    "traindata = bytearray(train)\n",
    "with gzip.open('epi_classify_train.tsv.gz', \"wb\") as f:\n",
    "    f.write(traindata)"
   ]
  },
  {
   "cell_type": "code",
   "execution_count": null,
   "id": "40b73c36",
   "metadata": {},
   "outputs": [],
   "source": [
    "with open('epi_classify_val.tsv','rb') as v:\n",
    "    val = v.read()\n",
    "\n",
    "valdata = bytearray(val)\n",
    "with gzip.open('epi_classify_val.tsv.gz', \"wb\") as f:\n",
    "    f.write(valdata)"
   ]
  },
  {
   "cell_type": "code",
   "execution_count": null,
   "id": "ca85ac79",
   "metadata": {},
   "outputs": [],
   "source": [
    "with open('epi_classify_test.tsv','rb') as tst:\n",
    "    test = tst.read()\n",
    "\n",
    "testdata = bytearray(test)\n",
    "with gzip.open('epi_classify_test.tsv.gz', \"wb\") as f:\n",
    "    f.write(testdata)"
   ]
  },
  {
   "cell_type": "code",
   "execution_count": null,
   "id": "66de92ce",
   "metadata": {},
   "outputs": [],
   "source": [
    "training = []\n",
    "for i in range(1,len(train_set)):\n",
    "    training.append({'abstract':train_set[i][0],'label':train_set[i][1],'index':i-1})"
   ]
  },
  {
   "cell_type": "code",
   "execution_count": null,
   "id": "61541d1f",
   "metadata": {},
   "outputs": [],
   "source": [
    "validation = []\n",
    "for i in range(1,len(val_set)):\n",
    "    validation.append({'abstract':val_set[i][0],'label':val_set[i][1],'index':i-1})"
   ]
  },
  {
   "cell_type": "code",
   "execution_count": null,
   "id": "c6fc3438",
   "metadata": {},
   "outputs": [],
   "source": []
  },
  {
   "cell_type": "code",
   "execution_count": null,
   "id": "51c040a3",
   "metadata": {},
   "outputs": [],
   "source": [
    "my_dict = {'train':training,'validation':validation}"
   ]
  },
  {
   "cell_type": "code",
   "execution_count": null,
   "id": "c4a0704a",
   "metadata": {},
   "outputs": [],
   "source": [
    "#import sys\n",
    "#!{sys.executable} -m pip install jsonlines\n",
    "import jsonlines\n",
    "with jsonlines.open('training_format3.jsonl', mode='w') as writer:\n",
    "    #writer.write_all(training)\n",
    "    writer.write(my_dict)"
   ]
  },
  {
   "cell_type": "code",
   "execution_count": null,
   "id": "3b8755c9",
   "metadata": {},
   "outputs": [],
   "source": [
    "import json\n",
    "with open('epiclassify.json', 'w') as f:\n",
    "    json.dump(my_dict, f)"
   ]
  },
  {
   "cell_type": "code",
   "execution_count": null,
   "id": "3a76fc14",
   "metadata": {
    "scrolled": true
   },
   "outputs": [],
   "source": [
    "ds_dict = DatasetDict.from_json('training_format3.jsonl')"
   ]
  },
  {
   "cell_type": "code",
   "execution_count": null,
   "id": "52bffb7e",
   "metadata": {},
   "outputs": [],
   "source": [
    "ds_dict"
   ]
  },
  {
   "cell_type": "code",
   "execution_count": null,
   "id": "40b0ad3c",
   "metadata": {},
   "outputs": [],
   "source": []
  },
  {
   "cell_type": "code",
   "execution_count": null,
   "id": "f07b19c2",
   "metadata": {},
   "outputs": [],
   "source": []
  },
  {
   "cell_type": "code",
   "execution_count": null,
   "id": "42676ae3",
   "metadata": {
    "scrolled": true
   },
   "outputs": [],
   "source": [
    "ds = Dataset.from_dict(my_dict)"
   ]
  },
  {
   "cell_type": "code",
   "execution_count": null,
   "id": "a7378865",
   "metadata": {},
   "outputs": [],
   "source": [
    "ds_dict = DatasetDict.from_dict(my_dict)"
   ]
  },
  {
   "cell_type": "code",
   "execution_count": null,
   "id": "1d2de4f8",
   "metadata": {},
   "outputs": [],
   "source": [
    "ds_dict"
   ]
  },
  {
   "cell_type": "code",
   "execution_count": null,
   "id": "7e9976c0",
   "metadata": {},
   "outputs": [],
   "source": [
    "with open('training.json', \"w\") as f:\n",
    "    for i in range(len(training)):\n",
    "        output = str(training[i])+'\\n'\n",
    "        f.write(output)\n",
    "        if i%500==0:\n",
    "            print('abstract num',i,'done')\n",
    "f.close()"
   ]
  },
  {
   "cell_type": "code",
   "execution_count": null,
   "id": "9cbb58b2",
   "metadata": {},
   "outputs": [],
   "source": [
    "with open('validation.json', \"w\") as f:\n",
    "    for i in range(len(training)):\n",
    "        output = str(training[i])+'\\n'\n",
    "        f.write(output)\n",
    "        if i%500==0:\n",
    "            print('abstract num',i,'done')\n",
    "f.close()"
   ]
  },
  {
   "cell_type": "markdown",
   "id": "396b471f",
   "metadata": {},
   "source": [
    "data format 1"
   ]
  },
  {
   "cell_type": "code",
   "execution_count": null,
   "id": "745e6100",
   "metadata": {},
   "outputs": [],
   "source": [
    "training = []\n",
    "for i in range(1,len(train_set)):\n",
    "    training.append({'abstract':train_set[i][0],'label':train_set[i][1],'index':i-1})"
   ]
  },
  {
   "cell_type": "code",
   "execution_count": null,
   "id": "64a32434",
   "metadata": {},
   "outputs": [],
   "source": [
    "validation = []\n",
    "for i in range(1,len(val_set)):\n",
    "    validation.append({'abstract':val_set[i][0],'label':val_set[i][1],'index':i-1})"
   ]
  },
  {
   "cell_type": "code",
   "execution_count": null,
   "id": "ae168500",
   "metadata": {},
   "outputs": [],
   "source": [
    "with open('training.jsonl', \"w\") as f:\n",
    "    for i in range(len(training)):\n",
    "        output = str(training[i])+'\\n'\n",
    "        f.write(output)\n",
    "        if i%500==0:\n",
    "            print('abstract num',i,'done')\n",
    "f.close()"
   ]
  },
  {
   "cell_type": "code",
   "execution_count": null,
   "id": "bb71916a",
   "metadata": {},
   "outputs": [],
   "source": [
    "data_format1 = {'train':{'abstract':train_set[i][0],'label':train_set[i][1],'index':i-1 for i in range(1,len(train_set))},\n",
    "                'validation':{'abstract':val_set[i][0],'label':val_set[i][1],'index':i-1 for i in range(1,len(val_set))}}"
   ]
  },
  {
   "cell_type": "code",
   "execution_count": null,
   "id": "ccbbdd3d",
   "metadata": {},
   "outputs": [],
   "source": [
    "data_format1"
   ]
  },
  {
   "cell_type": "code",
   "execution_count": null,
   "id": "83cc2961",
   "metadata": {},
   "outputs": [],
   "source": [
    "import json\n",
    "with open('data_format1.json', 'w') as f:\n",
    "    json.dump(data_format1, f)"
   ]
  },
  {
   "cell_type": "code",
   "execution_count": null,
   "id": "89e0c7a9",
   "metadata": {},
   "outputs": [],
   "source": [
    "dataset = load_dataset('json', data_files='data_format1.json', field='validation')"
   ]
  },
  {
   "cell_type": "code",
   "execution_count": null,
   "id": "c081cf7f",
   "metadata": {},
   "outputs": [],
   "source": [
    "dataset"
   ]
  },
  {
   "cell_type": "code",
   "execution_count": null,
   "id": "aac57224",
   "metadata": {},
   "outputs": [],
   "source": [
    "with open('epi_classify_test.csv', \"w\") as f:\n",
    "    f.write('abstract,label\\n')\n",
    "    for i in range(len(test_titles)):\n",
    "        if i ==len(test_titles)-1:\n",
    "            output = test_titles[i]+' '+test_abstracts[i]+',' +str(curator_labels[i])\n",
    "        else:\n",
    "            output = test_titles[i]+' '+test_abstracts[i]+',' +str(curator_labels[i])+'\\n'\n",
    "        f.write(output)\n",
    "f.close()"
   ]
  },
  {
   "cell_type": "code",
   "execution_count": null,
   "id": "739dd647",
   "metadata": {},
   "outputs": [],
   "source": [
    "with open('epi_classify_train.csv', \"w\") as f:\n",
    "    f.write('abstract,label\\n')\n",
    "    for i in range(len(train_set)):\n",
    "        if i ==len(train_set)-1:\n",
    "            output = str(train_set[i][0])+','+str(train_set[i][1])\n",
    "        else:\n",
    "            output = str(train_set[i][0])+','+str(train_set[i][1])+'\\n'\n",
    "        f.write(output)\n",
    "        if i%500==0:\n",
    "            print('abstract num',i,'done')\n",
    "f.close()"
   ]
  },
  {
   "cell_type": "code",
   "execution_count": null,
   "id": "d3d58a44",
   "metadata": {},
   "outputs": [],
   "source": [
    "with open('epi_classify_val.csv', \"w\") as f:\n",
    "    f.write('abstract,label\\n')\n",
    "    for i in range(len(val_set)):\n",
    "        if i ==len(val_set)-1:\n",
    "            output = str(val_set[i][0])+','+str(val_set[i][1])\n",
    "        else:\n",
    "            output = str(val_set[i][0])+','+str(val_set[i][1])+'\\n'\n",
    "        f.write(output)\n",
    "        if i%500==0:\n",
    "            print('abstract num',i,'done')\n",
    "f.close()"
   ]
  }
 ],
 "metadata": {
  "kernelspec": {
   "display_name": "Python 3",
   "language": "python",
   "name": "python3"
  },
  "language_info": {
   "codemirror_mode": {
    "name": "ipython",
    "version": 3
   },
   "file_extension": ".py",
   "mimetype": "text/x-python",
   "name": "python",
   "nbconvert_exporter": "python",
   "pygments_lexer": "ipython3",
   "version": "3.6.8"
  }
 },
 "nbformat": 4,
 "nbformat_minor": 5
}

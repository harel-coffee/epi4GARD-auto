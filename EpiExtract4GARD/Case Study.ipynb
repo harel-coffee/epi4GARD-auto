{
 "cells": [
  {
   "cell_type": "code",
   "execution_count": 1,
   "id": "ded9cea9",
   "metadata": {},
   "outputs": [],
   "source": [
    "import pandas as pd\n",
    "import extract_abs\n",
    "import classify_abs\n",
    "pd.set_option('display.max_colwidth', None)"
   ]
  },
  {
   "cell_type": "code",
   "execution_count": 2,
   "id": "a6ad0d45",
   "metadata": {},
   "outputs": [],
   "source": [
    "V3large = './resultsLargeV3.1/'\n",
    "V3small = './resultsV3.2/' #Best performing model\n",
    "V3LargeLast = './resultsV3.2Large/'"
   ]
  },
  {
   "cell_type": "code",
   "execution_count": 3,
   "id": "892671d6",
   "metadata": {
    "scrolled": true
   },
   "outputs": [
    {
     "name": "stderr",
     "output_type": "stream",
     "text": [
      "/home/wzkariampuzha/.local/lib/python3.6/site-packages/spacy/util.py:732: UserWarning: [W095] Model 'en_ner_bc5cdr_md' (0.4.0) was trained with spaCy v3.0 and may not be 100% compatible with the current version (3.1.2). If you see errors or degraded performance, download a newer compatible model or retrain your custom model with the current spaCy version. For more details and available updates, run: python -m spacy validate\n",
      "  warnings.warn(warn_msg)\n",
      "/home/wzkariampuzha/.local/lib/python3.6/site-packages/spacy/util.py:732: UserWarning: [W095] Model 'en_ner_bionlp13cg_md' (0.4.0) was trained with spaCy v3.0 and may not be 100% compatible with the current version (3.1.2). If you see errors or degraded performance, download a newer compatible model or retrain your custom model with the current spaCy version. For more details and available updates, run: python -m spacy validate\n",
      "  warnings.warn(warn_msg)\n"
     ]
    },
    {
     "name": "stdout",
     "output_type": "stream",
     "text": [
      "WARNING:tensorflow:SavedModel saved prior to TF 2.5 detected when loading Keras model. Please ensure that you are saving the model with model.save() or tf.keras.models.save_model(), *NOT* tf.saved_model.save(). To confirm, there should be a file named \"keras_metadata.pb\" in the SavedModel directory.\n"
     ]
    }
   ],
   "source": [
    "NER_pipeline = extract_abs.init_NER_pipeline(V3small)\n",
    "GARD_dict, max_length = extract_abs.load_GARD_diseases()\n",
    "nlp, nlpSci, nlpSci2, classify_model, classify_tokenizer = classify_abs.init_classify_model()"
   ]
  },
  {
   "cell_type": "code",
   "execution_count": 4,
   "id": "95e7c211",
   "metadata": {},
   "outputs": [],
   "source": [
    "def search(term,num_results = 50):\n",
    "    return extract_abs.search_term_extraction(term, num_results, NER_pipeline, GARD_dict, max_length,nlp, nlpSci, nlpSci2, classify_model, classify_tokenizer)"
   ]
  },
  {
   "cell_type": "code",
   "execution_count": 5,
   "id": "4637b2be",
   "metadata": {},
   "outputs": [
    {
     "name": "stdout",
     "output_type": "stream",
     "text": [
      "SEARCH TERM MATCHED TO GARD DICTIONARY. SEARCHING FOR:  ['localized scleroderma', 'scleroderma, localized', 'localized fibrosing scleroderma']\n"
     ]
    },
    {
     "name": "stderr",
     "output_type": "stream",
     "text": [
      "Asking to truncate to max_length but no maximum length is provided and the model has no predefined maximum length. Default to no truncation.\n"
     ]
    },
    {
     "data": {
      "text/html": [
       "<div>\n",
       "<style scoped>\n",
       "    .dataframe tbody tr th:only-of-type {\n",
       "        vertical-align: middle;\n",
       "    }\n",
       "\n",
       "    .dataframe tbody tr th {\n",
       "        vertical-align: top;\n",
       "    }\n",
       "\n",
       "    .dataframe thead th {\n",
       "        text-align: right;\n",
       "    }\n",
       "</style>\n",
       "<table border=\"1\" class=\"dataframe\">\n",
       "  <thead>\n",
       "    <tr style=\"text-align: right;\">\n",
       "      <th></th>\n",
       "      <th>pmid</th>\n",
       "      <th>abstract</th>\n",
       "      <th>epi_prob</th>\n",
       "      <th>isEpi</th>\n",
       "      <th>ab_ids</th>\n",
       "      <th>ab_dis</th>\n",
       "      <th>ab_locs</th>\n",
       "      <th>ab_epis</th>\n",
       "      <th>ab_stats</th>\n",
       "    </tr>\n",
       "  </thead>\n",
       "  <tbody>\n",
       "    <tr>\n",
       "      <th>0</th>\n",
       "      <td>34272836</td>\n",
       "      <td>Upcoming treatments for morphea. Morphea (localized scleroderma) is a rare autoimmune connective tissue disease with variable clinical presentations, with an annual incidence of 0.4-2.7 cases per 100,000. Morphea occurs most frequently in children aged 2-14 years, and the disease exhibits a female predominance. Insights into morphea pathogenesis are often extrapolated from studies of systemic sclerosis due to their similar skin histopathologic features; however, clinically they are two distinct diseases as evidenced by different demographics, clinical features, disease course and prognosis. An interplay between genetic factors, epigenetic modifications, immune and vascular dysfunction, along with environmental hits are considered as the main contributors to morphea pathogenesis. In this review, we describe potential new therapies for morphea based on both preclinical evidence and ongoing clinical trials. We focus on different classes of therapeutics, including antifibrotic, anti-inflammatory, cellular and gene therapy, and antisenolytic approaches, and how these target different aspects of disease pathogenesis.</td>\n",
       "      <td>0.994448</td>\n",
       "      <td>True</td>\n",
       "      <td>{GARD:0007058, GARD:0009748, GARD:0010485}</td>\n",
       "      <td>{morphea, localized scleroderma, systemic sclerosis}</td>\n",
       "      <td>{}</td>\n",
       "      <td>{occurs, annual incidence}</td>\n",
       "      <td>[0 . 4 - 2 . 7 cases per 100 , 000]</td>\n",
       "    </tr>\n",
       "  </tbody>\n",
       "</table>\n",
       "</div>"
      ],
      "text/plain": [
       "       pmid  \\\n",
       "0  34272836   \n",
       "\n",
       "                                                                                                                                                                                                                                                                                                                                                                                                                                                                                                                                                                                                                                                                                                                                                                                                                                                                                                                                                                                                                                                                                                                                                                   abstract  \\\n",
       "0  Upcoming treatments for morphea. Morphea (localized scleroderma) is a rare autoimmune connective tissue disease with variable clinical presentations, with an annual incidence of 0.4-2.7 cases per 100,000. Morphea occurs most frequently in children aged 2-14 years, and the disease exhibits a female predominance. Insights into morphea pathogenesis are often extrapolated from studies of systemic sclerosis due to their similar skin histopathologic features; however, clinically they are two distinct diseases as evidenced by different demographics, clinical features, disease course and prognosis. An interplay between genetic factors, epigenetic modifications, immune and vascular dysfunction, along with environmental hits are considered as the main contributors to morphea pathogenesis. In this review, we describe potential new therapies for morphea based on both preclinical evidence and ongoing clinical trials. We focus on different classes of therapeutics, including antifibrotic, anti-inflammatory, cellular and gene therapy, and antisenolytic approaches, and how these target different aspects of disease pathogenesis.   \n",
       "\n",
       "   epi_prob isEpi                                      ab_ids  \\\n",
       "0  0.994448  True  {GARD:0007058, GARD:0009748, GARD:0010485}   \n",
       "\n",
       "                                                 ab_dis ab_locs  \\\n",
       "0  {morphea, localized scleroderma, systemic sclerosis}      {}   \n",
       "\n",
       "                      ab_epis                             ab_stats  \n",
       "0  {occurs, annual incidence}  [0 . 4 - 2 . 7 cases per 100 , 000]  "
      ]
     },
     "execution_count": 5,
     "metadata": {},
     "output_type": "execute_result"
    }
   ],
   "source": [
    "a = search('0007058')\n",
    "a"
   ]
  },
  {
   "cell_type": "code",
   "execution_count": 6,
   "id": "402e39f3",
   "metadata": {
    "scrolled": false
   },
   "outputs": [
    {
     "name": "stdout",
     "output_type": "stream",
     "text": [
      "SEARCH TERM MATCHED TO GARD DICTIONARY. SEARCHING FOR:  ['sandhoff disease', 'beta-hexosaminidase-beta-subunit deficiency', 'gm2 gangliosidosis, type 2', 'total hexosaminidase deficiency', 'hexosaminidase a and b deficiency disease', 'sandhoff-jatzkewitz-pilz disease']\n"
     ]
    },
    {
     "data": {
      "text/html": [
       "<div>\n",
       "<style scoped>\n",
       "    .dataframe tbody tr th:only-of-type {\n",
       "        vertical-align: middle;\n",
       "    }\n",
       "\n",
       "    .dataframe tbody tr th {\n",
       "        vertical-align: top;\n",
       "    }\n",
       "\n",
       "    .dataframe thead th {\n",
       "        text-align: right;\n",
       "    }\n",
       "</style>\n",
       "<table border=\"1\" class=\"dataframe\">\n",
       "  <thead>\n",
       "    <tr style=\"text-align: right;\">\n",
       "      <th></th>\n",
       "      <th>pmid</th>\n",
       "      <th>abstract</th>\n",
       "      <th>epi_prob</th>\n",
       "      <th>isEpi</th>\n",
       "      <th>ab_ids</th>\n",
       "      <th>ab_dis</th>\n",
       "      <th>ab_locs</th>\n",
       "      <th>ab_epis</th>\n",
       "      <th>ab_stats</th>\n",
       "    </tr>\n",
       "  </thead>\n",
       "  <tbody>\n",
       "    <tr>\n",
       "      <th>0</th>\n",
       "      <td>34554397</td>\n",
       "      <td>Analysis of the HEXA, HEXB, ARSA, and SMPD1 Genes in 68 Iranian Patients. Lysosomal storage diseases (LSDs) are known as genetic disorders with an overall prevalence of 1 per 7700 live births. Sphingolipidosis, which is a subgroup of LSDs, is resulted from mutations in the coding genes of specific enzymes of sphingolipid hydrolases. The current study aimed to provide additional knowledge on the genotype of sphingolipidoses disease among Iranian patients affected by the disease. In this research, we studied 68 unrelated Iranian patients diagnosed with one kind of sphingolipidoses from 2014 to 2019. Thereafter, genomic DNA was isolated from their peripheral blood leukocytes samples in EDTA in terms of the manufacturer's protocol. All the coding exons and exon-intron boundaries of the related genes were sequenced and then analyzed using the NCBI database. Finally, they were reviewed using some databases such as the Human Gene Mutation Database (HGMD) and ClinVar ( https://www.ncbi.nlm.nih.gov/clinva ). By studying 22 MLD patients, 18 different variations of the ARSA gene were found, one of which was new including, named as c.472 T &gt; G p. (Cys158Gly). Out of 15 Sandhoff disease (SD) patients, 11 different variations of the HEXB gene were found. Correspondingly, the c.1083-2delA was not reported earlier. By investigating 21 Iranian patients with Tay-Sachs disease (TSD), one new variant was found as c.622delG. The study of 10 Niemann-Pick disease A/B (NPDA/B (patients has led to the identification of 9 different SMPD1 gene variations, among which 3 variations were novel mutations. The results of the present study can be expanded to the genotypic spectrum of Iranian patients with MLD, SD, TSD, and NPD diseases and also used to innovate more effective methods for the detection of genetic carriers as well as diagnosing and counseling of Iranian patients affected with these disorders.</td>\n",
       "      <td>0.921416</td>\n",
       "      <td>True</td>\n",
       "      <td>{GARD:0013334, GARD:0007672, GARD:0007604, GARD:0007737}</td>\n",
       "      <td>{sandhoff disease, niemann-pick disease, tay-sachs disease, sphingolipidosis, sphingolipidoses}</td>\n",
       "      <td>{edta}</td>\n",
       "      <td>{overall prevalence}</td>\n",
       "      <td>[1 per 7700 live births]</td>\n",
       "    </tr>\n",
       "  </tbody>\n",
       "</table>\n",
       "</div>"
      ],
      "text/plain": [
       "       pmid  \\\n",
       "0  34554397   \n",
       "\n",
       "                                                                                                                                                                                                                                                                                                                                                                                                                                                                                                                                                                                                                                                                                                                                                                                                                                                                                                                                                                                                                                                                                                                                                                                                                                                                                                                                                                                                                                                                                                                                                                                                                                                                                                                                                                                                                                                                                                                                                                              abstract  \\\n",
       "0  Analysis of the HEXA, HEXB, ARSA, and SMPD1 Genes in 68 Iranian Patients. Lysosomal storage diseases (LSDs) are known as genetic disorders with an overall prevalence of 1 per 7700 live births. Sphingolipidosis, which is a subgroup of LSDs, is resulted from mutations in the coding genes of specific enzymes of sphingolipid hydrolases. The current study aimed to provide additional knowledge on the genotype of sphingolipidoses disease among Iranian patients affected by the disease. In this research, we studied 68 unrelated Iranian patients diagnosed with one kind of sphingolipidoses from 2014 to 2019. Thereafter, genomic DNA was isolated from their peripheral blood leukocytes samples in EDTA in terms of the manufacturer's protocol. All the coding exons and exon-intron boundaries of the related genes were sequenced and then analyzed using the NCBI database. Finally, they were reviewed using some databases such as the Human Gene Mutation Database (HGMD) and ClinVar ( https://www.ncbi.nlm.nih.gov/clinva ). By studying 22 MLD patients, 18 different variations of the ARSA gene were found, one of which was new including, named as c.472 T > G p. (Cys158Gly). Out of 15 Sandhoff disease (SD) patients, 11 different variations of the HEXB gene were found. Correspondingly, the c.1083-2delA was not reported earlier. By investigating 21 Iranian patients with Tay-Sachs disease (TSD), one new variant was found as c.622delG. The study of 10 Niemann-Pick disease A/B (NPDA/B (patients has led to the identification of 9 different SMPD1 gene variations, among which 3 variations were novel mutations. The results of the present study can be expanded to the genotypic spectrum of Iranian patients with MLD, SD, TSD, and NPD diseases and also used to innovate more effective methods for the detection of genetic carriers as well as diagnosing and counseling of Iranian patients affected with these disorders.   \n",
       "\n",
       "   epi_prob isEpi                                                    ab_ids  \\\n",
       "0  0.921416  True  {GARD:0013334, GARD:0007672, GARD:0007604, GARD:0007737}   \n",
       "\n",
       "                                                                                            ab_dis  \\\n",
       "0  {sandhoff disease, niemann-pick disease, tay-sachs disease, sphingolipidosis, sphingolipidoses}   \n",
       "\n",
       "  ab_locs               ab_epis                  ab_stats  \n",
       "0  {edta}  {overall prevalence}  [1 per 7700 live births]  "
      ]
     },
     "execution_count": 6,
     "metadata": {},
     "output_type": "execute_result"
    }
   ],
   "source": [
    "b = search('Sandhoff disease')\n",
    "b"
   ]
  },
  {
   "cell_type": "code",
   "execution_count": 7,
   "id": "ac43fa53",
   "metadata": {
    "scrolled": true
   },
   "outputs": [
    {
     "name": "stdout",
     "output_type": "stream",
     "text": [
      "SEARCH TERM MATCHED TO GARD DICTIONARY. SEARCHING FOR:  ['santos mateus leal syndrome', 'hirschsprung disease, deafness and polydactyly', 'hirschsprung disease associated with polydactyly, unilateral renal agenesis, hypertelorism, and congenital deafness']\n"
     ]
    },
    {
     "data": {
      "text/html": [
       "<div>\n",
       "<style scoped>\n",
       "    .dataframe tbody tr th:only-of-type {\n",
       "        vertical-align: middle;\n",
       "    }\n",
       "\n",
       "    .dataframe tbody tr th {\n",
       "        vertical-align: top;\n",
       "    }\n",
       "\n",
       "    .dataframe thead th {\n",
       "        text-align: right;\n",
       "    }\n",
       "</style>\n",
       "<table border=\"1\" class=\"dataframe\">\n",
       "  <thead>\n",
       "    <tr style=\"text-align: right;\">\n",
       "      <th></th>\n",
       "      <th>pmid</th>\n",
       "      <th>abstract</th>\n",
       "      <th>epi_prob</th>\n",
       "      <th>isEpi</th>\n",
       "      <th>ab_ids</th>\n",
       "      <th>ab_dis</th>\n",
       "      <th>ab_locs</th>\n",
       "      <th>ab_epis</th>\n",
       "      <th>ab_stats</th>\n",
       "    </tr>\n",
       "  </thead>\n",
       "  <tbody>\n",
       "    <tr>\n",
       "      <th>5</th>\n",
       "      <td>19280993</td>\n",
       "      <td>Metabolic syndrome in Portugal: prevalence and implications for cardiovascular risk--results from the VALSIM Study. &lt;h4&gt;Introduction&lt;/h4&gt;The metabolic syndrome (MS) is a constellation of risk factors of metabolic origin that is associated with increased risk of type 2 diabetes mellitus (DM) and cardiovascular disease (CVD). Several regional studies have been conducted to determine its prevalence, but they are insufficient to determine the situation nationally or to characterize overall cardiovascular risk in Portugal.&lt;h4&gt;Objective&lt;/h4&gt;To determine the prevalence of MS and each of its components in adult primary health care users in Portugal.&lt;h4&gt;Methods&lt;/h4&gt;The VALSIM Study, involving 719 general practitioners (GPs), was performed in a primary care setting, based on stratified distribution and proportional to the population density of each region of mainland Portugal and the islands of Madeira and the Azores. The first two adult patients scheduled for an appointment on a given day were invited to participate, irrespective of the reason for the consultation. After informed consent was obtained, a questionnaire on sociodemographic, clinical and laboratory data was completed by the GP. A previous diagnosis of coronary artery disease (CAD), stroke or DM was identified by the GP based on medical records. A diagnosis of MS was defined according to the NCEP ATP III criteria. Logistic regression multivariate analysis was used to assess the risk of MS according to age, body mass index (BMI), waist circumference (WC) and region of residence for each gender, and to determine the association of CAD, stroke and DM with gender, age, BMI, WC, blood pressure and previous diagnosis of hypertension (HT), fasting glucose and previous diagnosis of DM.&lt;h4&gt;Results&lt;/h4&gt;The study included 16,856 individuals (mean age 58.1+/-15.1 years, 18-96 years; 61.62% women). The prevalence of MS adjusted for gender, age and size of region was 27.5% and showed regional variations, being highest in the Alentejo (30.99%) and lowest in the Algarve (24.42%). MS was more common among women and increased with age, BMI and WC. Independent protective factors were residence in the Algarve (odds ratio [OR]: 0.78; 95% confidence interval [CI] 0.66-0.92 p=0.002) or in Lisbon and Tagus Valley (OR: 0.83, 95% CI 0.77-0.91, p&lt;0.001), while residence in the Northern (OR: 1.11; 95% CI 1.01-1.21, p=0.03) or Central regions (OR: 1.08; 95% CI 1.002-1.16, p=0.045) was an independent risk factor after correction for gender and age. MS was linked to increased prevalence of HT (OR: 3.88; 95% CI 3.61-4.18, p&lt;0.001), and high blood pressure was the most frequent MS component, particularly in men (93.7%). MS was the most powerful factor associated with a diagnosis of DM, particularly in women (OR 7.23; 95% CI 6.22-8.40, p&lt;0.001). Although there was a strong association between MS and CAD (OR: 1.16; 95% CI 1.01-1.34, p=0.043), the most potent risk factor associated with CVD was HT.&lt;h4&gt;Conclusions&lt;/h4&gt;The prevalence of MS in Portugal is high (27.5%) and is strongly linked to the occurrence of CVD, and in particular to DM. These results highlight the need to implement preventive strategies for reducing overall cardiovascular risk in the Portuguese population.</td>\n",
       "      <td>0.997674</td>\n",
       "      <td>True</td>\n",
       "      <td>{}</td>\n",
       "      <td>{}</td>\n",
       "      <td>{lisbon, the algarve, tagus valley, the azores, algarve, portugues, portugal, madeira, the alentejo}</td>\n",
       "      <td>{prevalence, occurrence}</td>\n",
       "      <td>[58 . 1 + /]</td>\n",
       "    </tr>\n",
       "    <tr>\n",
       "      <th>2</th>\n",
       "      <td>31818857</td>\n",
       "      <td>Genetic Basis of Human Congenital Heart Disease. Congenital heart disease (CHD) is the most common major congenital anomaly with an incidence of ∼1% of live births and is a significant cause of birth defect-related mortality. The genetic mechanisms underlying the development of CHD are complex and remain incompletely understood. Known genetic causes include all classes of genetic variation including chromosomal aneuploidies, copy number variants, and rare and common single-nucleotide variants, which can be either de novo or inherited. Among patients with CHD, ∼8%-12% have a chromosomal abnormality or aneuploidy, between 3% and 25% have a copy number variation, and 3%-5% have a single-gene defect in an established CHD gene with higher likelihood of identifying a genetic cause in patients with nonisolated CHD. These genetic variants disrupt or alter genes that play an important role in normal cardiac development and in some cases have pleiotropic effects on other organs. This work reviews some of the most common genetic causes of CHD as well as what is currently known about the underlying mechanisms.</td>\n",
       "      <td>0.996645</td>\n",
       "      <td>True</td>\n",
       "      <td>{}</td>\n",
       "      <td>{}</td>\n",
       "      <td>{}</td>\n",
       "      <td>{incidence}</td>\n",
       "      <td>[]</td>\n",
       "    </tr>\n",
       "    <tr>\n",
       "      <th>1</th>\n",
       "      <td>33968136</td>\n",
       "      <td>A Population-Specific Major Allele Reference Genome From The United Arab Emirates Population. The ethnic composition of the population of a country contributes to the uniqueness of each national DNA sequencing project and, ideally, individual reference genomes are required to reduce the confounding nature of ethnic bias. This work represents a representative Whole Genome Sequencing effort of an understudied population. Specifically, high coverage consensus sequences from 120 whole genomes and 33 whole exomes were used to construct the first ever population specific major allele reference genome for the United Arab Emirates (UAE). When this was applied and compared to the archetype hg19 reference, assembly of local Emirati genomes was reduced by ∼19% (i.e., some 1 million fewer calls). In compiling the United Arab Emirates Reference Genome (UAERG), sets of annotated 23,038,090 short (novel: 1,790,171) and 137,713 structural (novel: 8,462) variants; their allele frequencies (AFs) and distribution across the genome were identified. Population-specific genetic characteristics including loss-of-function variants, admixture, and ancestral haplogroup distribution were identified and reported here. We also detect a strong correlation between &lt;i&gt;F&lt;/i&gt; &lt;sub&gt;ST&lt;/sub&gt; and admixture components in the UAE. This baseline study was conceived to establish a high-quality reference genome and a genetic variations resource to enable the development of regional population specific initiatives and thus inform the application of population studies and precision medicine in the UAE.</td>\n",
       "      <td>0.996270</td>\n",
       "      <td>True</td>\n",
       "      <td>{}</td>\n",
       "      <td>{}</td>\n",
       "      <td>{the united arab emirates, the uae, u}</td>\n",
       "      <td>{}</td>\n",
       "      <td>[]</td>\n",
       "    </tr>\n",
       "    <tr>\n",
       "      <th>0</th>\n",
       "      <td>34352899</td>\n",
       "      <td>Embryology, Malformations, and Rare Diseases of the Cochlea. Despite the low overall prevalence of individual rare diseases, cochlear dysfunction leading to hearing loss represents a symptom in a large proportion. The aim of this work was to provide a clear overview of rare cochlear diseases, taking into account the embryonic development of the cochlea and the systematic presentation of the different disorders. Although rapid biotechnological and bioinformatic advances may facilitate the diagnosis of a rare disease, an interdisciplinary exchange is often required to raise the suspicion of a rare disease. It is important to recognize that the phenotype of rare inner ear diseases can vary greatly not only in non-syndromic but also in syndromic hearing disorders. Finally, it becomes clear that the phenotype of the individual rare diseases cannot be determined exclusively by classical genetics even in monogenetic disorders.</td>\n",
       "      <td>0.995955</td>\n",
       "      <td>True</td>\n",
       "      <td>{}</td>\n",
       "      <td>{}</td>\n",
       "      <td>{}</td>\n",
       "      <td>{overall prevalence}</td>\n",
       "      <td>[]</td>\n",
       "    </tr>\n",
       "    <tr>\n",
       "      <th>3</th>\n",
       "      <td>11694544</td>\n",
       "      <td>Hirschsprung disease, associated syndromes, and genetics: a review. Hirschsprung disease (HSCR, aganglionic megacolon) is the main genetic cause of functional intestinal obstruction with an incidence of 1/5000 live births. This developmental disorder is a neurocristopathy and is characterised by the absence of the enteric ganglia along a variable length of the intestine. In the last decades, the development of surgical approaches has dramatically decreased mortality and morbidity, which has allowed the emergence of familial cases. HSCR appeared to be a multifactorial malformation with low, sex dependent penetrance and variable expression according to the length of the aganglionic segment, suggesting the involvement of one or more gene(s) with low penetrance. So far, eight genes have been found to be involved in HSCR. This frequent congenital malformation now stands as a model for genetic disorders with complex patterns of inheritance.</td>\n",
       "      <td>0.964153</td>\n",
       "      <td>True</td>\n",
       "      <td>{GARD:0006660}</td>\n",
       "      <td>{hirschsprung disease, aganglionic megacolon}</td>\n",
       "      <td>{}</td>\n",
       "      <td>{incidence}</td>\n",
       "      <td>[1 / 5000 live births]</td>\n",
       "    </tr>\n",
       "    <tr>\n",
       "      <th>4</th>\n",
       "      <td>2309705</td>\n",
       "      <td>A genetic study of Hirschsprung disease. Hirschsprung disease, or congenital aganglionic megacolon, is commonly assumed to be a sex-modified multifactorial trait. To test this hypothesis, complex segregation analysis was performed on data on 487 probands and their families. Demographic information on probands and the recurrence risk to relatives of probands are presented. An increased sex ratio (3.9 male:female) and an elevated risk to sibs (4%), as compared with the population incidence (0.02%), are observed, with the sex ratio decreasing and the recurrence risk to sibs increasing as the aganglionosis becomes more extensive. Down syndrome was found at an increased frequency among affected individuals but not among their unaffected sibs, and the increase was not associated with maternal age. Complex segregation analysis was performed on these family data. The families were classified into separate categories by extent of aganglionosis. For cases with aganglionosis beyond the sigmoid colon, the mode of inheritance is compatible with a dominant gene with incomplete penetrance, while for cases with aganglionosis extending no farther than the sigmoid colon, the inheritance pattern is equally likely to be either multifactorial or due to a recessive gene with very low penetrance. A model of gene action with random effects during morphogenesis is compatible with our observations.</td>\n",
       "      <td>0.687501</td>\n",
       "      <td>True</td>\n",
       "      <td>{GARD:0006660}</td>\n",
       "      <td>{hirschsprung disease, aganglionic megacolon}</td>\n",
       "      <td>{}</td>\n",
       "      <td>{incidence}</td>\n",
       "      <td>[0 . 02 %]</td>\n",
       "    </tr>\n",
       "  </tbody>\n",
       "</table>\n",
       "</div>"
      ],
      "text/plain": [
       "       pmid  \\\n",
       "5  19280993   \n",
       "2  31818857   \n",
       "1  33968136   \n",
       "0  34352899   \n",
       "3  11694544   \n",
       "4   2309705   \n",
       "\n",
       "                                                                                                                                                                                                                                                                                                                                                                                                                                                                                                                                                                                                                                                                                                                                                                                                                                                                                                                                                                                                                                                                                                                                                                                                                                                                                                                                                                                                                                                                                                                                                                                                                                                                                                                                                                                                                                                                                                                                                                                                                                                                                                                                                                                                                                                                                                                                                                                                                                                                                                                                                                                                                                                                                                                                                                                                                                                                                                                                                                                                                                                                                                                                                                                                                                                                                                                                                                             abstract  \\\n",
       "5  Metabolic syndrome in Portugal: prevalence and implications for cardiovascular risk--results from the VALSIM Study. <h4>Introduction</h4>The metabolic syndrome (MS) is a constellation of risk factors of metabolic origin that is associated with increased risk of type 2 diabetes mellitus (DM) and cardiovascular disease (CVD). Several regional studies have been conducted to determine its prevalence, but they are insufficient to determine the situation nationally or to characterize overall cardiovascular risk in Portugal.<h4>Objective</h4>To determine the prevalence of MS and each of its components in adult primary health care users in Portugal.<h4>Methods</h4>The VALSIM Study, involving 719 general practitioners (GPs), was performed in a primary care setting, based on stratified distribution and proportional to the population density of each region of mainland Portugal and the islands of Madeira and the Azores. The first two adult patients scheduled for an appointment on a given day were invited to participate, irrespective of the reason for the consultation. After informed consent was obtained, a questionnaire on sociodemographic, clinical and laboratory data was completed by the GP. A previous diagnosis of coronary artery disease (CAD), stroke or DM was identified by the GP based on medical records. A diagnosis of MS was defined according to the NCEP ATP III criteria. Logistic regression multivariate analysis was used to assess the risk of MS according to age, body mass index (BMI), waist circumference (WC) and region of residence for each gender, and to determine the association of CAD, stroke and DM with gender, age, BMI, WC, blood pressure and previous diagnosis of hypertension (HT), fasting glucose and previous diagnosis of DM.<h4>Results</h4>The study included 16,856 individuals (mean age 58.1+/-15.1 years, 18-96 years; 61.62% women). The prevalence of MS adjusted for gender, age and size of region was 27.5% and showed regional variations, being highest in the Alentejo (30.99%) and lowest in the Algarve (24.42%). MS was more common among women and increased with age, BMI and WC. Independent protective factors were residence in the Algarve (odds ratio [OR]: 0.78; 95% confidence interval [CI] 0.66-0.92 p=0.002) or in Lisbon and Tagus Valley (OR: 0.83, 95% CI 0.77-0.91, p<0.001), while residence in the Northern (OR: 1.11; 95% CI 1.01-1.21, p=0.03) or Central regions (OR: 1.08; 95% CI 1.002-1.16, p=0.045) was an independent risk factor after correction for gender and age. MS was linked to increased prevalence of HT (OR: 3.88; 95% CI 3.61-4.18, p<0.001), and high blood pressure was the most frequent MS component, particularly in men (93.7%). MS was the most powerful factor associated with a diagnosis of DM, particularly in women (OR 7.23; 95% CI 6.22-8.40, p<0.001). Although there was a strong association between MS and CAD (OR: 1.16; 95% CI 1.01-1.34, p=0.043), the most potent risk factor associated with CVD was HT.<h4>Conclusions</h4>The prevalence of MS in Portugal is high (27.5%) and is strongly linked to the occurrence of CVD, and in particular to DM. These results highlight the need to implement preventive strategies for reducing overall cardiovascular risk in the Portuguese population.   \n",
       "2                                                                                                                                                                                                                                                                                                                                                                                                                                                                                                                                                                                                                                                                                                                                                                                                                                                                                                                                                                                                                                                                                                                                                                                                                                                                                                                                                                                                                                                                                                                                                                                                                                                                                                                                                                                                                                                                                                                                                                                                                                                                                                                                                                                                                         Genetic Basis of Human Congenital Heart Disease. Congenital heart disease (CHD) is the most common major congenital anomaly with an incidence of ∼1% of live births and is a significant cause of birth defect-related mortality. The genetic mechanisms underlying the development of CHD are complex and remain incompletely understood. Known genetic causes include all classes of genetic variation including chromosomal aneuploidies, copy number variants, and rare and common single-nucleotide variants, which can be either de novo or inherited. Among patients with CHD, ∼8%-12% have a chromosomal abnormality or aneuploidy, between 3% and 25% have a copy number variation, and 3%-5% have a single-gene defect in an established CHD gene with higher likelihood of identifying a genetic cause in patients with nonisolated CHD. These genetic variants disrupt or alter genes that play an important role in normal cardiac development and in some cases have pleiotropic effects on other organs. This work reviews some of the most common genetic causes of CHD as well as what is currently known about the underlying mechanisms.   \n",
       "1                                                                                                                                                                                                                                                                                                                                                                                                                                                                                                                                                                                                                                                                                                                                                                                                                                                                                                                                                                                                                                                                                                                                                                                                                                                                                                                                                                                                                                                                                                                                                                                                                                                                                                                                   A Population-Specific Major Allele Reference Genome From The United Arab Emirates Population. The ethnic composition of the population of a country contributes to the uniqueness of each national DNA sequencing project and, ideally, individual reference genomes are required to reduce the confounding nature of ethnic bias. This work represents a representative Whole Genome Sequencing effort of an understudied population. Specifically, high coverage consensus sequences from 120 whole genomes and 33 whole exomes were used to construct the first ever population specific major allele reference genome for the United Arab Emirates (UAE). When this was applied and compared to the archetype hg19 reference, assembly of local Emirati genomes was reduced by ∼19% (i.e., some 1 million fewer calls). In compiling the United Arab Emirates Reference Genome (UAERG), sets of annotated 23,038,090 short (novel: 1,790,171) and 137,713 structural (novel: 8,462) variants; their allele frequencies (AFs) and distribution across the genome were identified. Population-specific genetic characteristics including loss-of-function variants, admixture, and ancestral haplogroup distribution were identified and reported here. We also detect a strong correlation between <i>F</i> <sub>ST</sub> and admixture components in the UAE. This baseline study was conceived to establish a high-quality reference genome and a genetic variations resource to enable the development of regional population specific initiatives and thus inform the application of population studies and precision medicine in the UAE.   \n",
       "0                                                                                                                                                                                                                                                                                                                                                                                                                                                                                                                                                                                                                                                                                                                                                                                                                                                                                                                                                                                                                                                                                                                                                                                                                                                                                                                                                                                                                                                                                                                                                                                                                                                                                                                                                                                                                                                                                                                                                                                                                                                                                                                                                                                                                                                                                                                                                                                                               Embryology, Malformations, and Rare Diseases of the Cochlea. Despite the low overall prevalence of individual rare diseases, cochlear dysfunction leading to hearing loss represents a symptom in a large proportion. The aim of this work was to provide a clear overview of rare cochlear diseases, taking into account the embryonic development of the cochlea and the systematic presentation of the different disorders. Although rapid biotechnological and bioinformatic advances may facilitate the diagnosis of a rare disease, an interdisciplinary exchange is often required to raise the suspicion of a rare disease. It is important to recognize that the phenotype of rare inner ear diseases can vary greatly not only in non-syndromic but also in syndromic hearing disorders. Finally, it becomes clear that the phenotype of the individual rare diseases cannot be determined exclusively by classical genetics even in monogenetic disorders.   \n",
       "3                                                                                                                                                                                                                                                                                                                                                                                                                                                                                                                                                                                                                                                                                                                                                                                                                                                                                                                                                                                                                                                                                                                                                                                                                                                                                                                                                                                                                                                                                                                                                                                                                                                                                                                                                                                                                                                                                                                                                                                                                                                                                                                                                                                                                                                                                                                                                                                                Hirschsprung disease, associated syndromes, and genetics: a review. Hirschsprung disease (HSCR, aganglionic megacolon) is the main genetic cause of functional intestinal obstruction with an incidence of 1/5000 live births. This developmental disorder is a neurocristopathy and is characterised by the absence of the enteric ganglia along a variable length of the intestine. In the last decades, the development of surgical approaches has dramatically decreased mortality and morbidity, which has allowed the emergence of familial cases. HSCR appeared to be a multifactorial malformation with low, sex dependent penetrance and variable expression according to the length of the aganglionic segment, suggesting the involvement of one or more gene(s) with low penetrance. So far, eight genes have been found to be involved in HSCR. This frequent congenital malformation now stands as a model for genetic disorders with complex patterns of inheritance.   \n",
       "4                                                                                                                                                                                                                                                                                                                                                                                                                                                                                                                                                                                                                                                                                                                                                                                                                                                                                                                                                                                                                                                                                                                                                                                                                                                                                                                                                                                                                                                                                                                                                                                                                                                                                                                                                                                                                                                                                                                                 A genetic study of Hirschsprung disease. Hirschsprung disease, or congenital aganglionic megacolon, is commonly assumed to be a sex-modified multifactorial trait. To test this hypothesis, complex segregation analysis was performed on data on 487 probands and their families. Demographic information on probands and the recurrence risk to relatives of probands are presented. An increased sex ratio (3.9 male:female) and an elevated risk to sibs (4%), as compared with the population incidence (0.02%), are observed, with the sex ratio decreasing and the recurrence risk to sibs increasing as the aganglionosis becomes more extensive. Down syndrome was found at an increased frequency among affected individuals but not among their unaffected sibs, and the increase was not associated with maternal age. Complex segregation analysis was performed on these family data. The families were classified into separate categories by extent of aganglionosis. For cases with aganglionosis beyond the sigmoid colon, the mode of inheritance is compatible with a dominant gene with incomplete penetrance, while for cases with aganglionosis extending no farther than the sigmoid colon, the inheritance pattern is equally likely to be either multifactorial or due to a recessive gene with very low penetrance. A model of gene action with random effects during morphogenesis is compatible with our observations.   \n",
       "\n",
       "   epi_prob isEpi          ab_ids  \\\n",
       "5  0.997674  True              {}   \n",
       "2  0.996645  True              {}   \n",
       "1  0.996270  True              {}   \n",
       "0  0.995955  True              {}   \n",
       "3  0.964153  True  {GARD:0006660}   \n",
       "4  0.687501  True  {GARD:0006660}   \n",
       "\n",
       "                                          ab_dis  \\\n",
       "5                                             {}   \n",
       "2                                             {}   \n",
       "1                                             {}   \n",
       "0                                             {}   \n",
       "3  {hirschsprung disease, aganglionic megacolon}   \n",
       "4  {hirschsprung disease, aganglionic megacolon}   \n",
       "\n",
       "                                                                                                ab_locs  \\\n",
       "5  {lisbon, the algarve, tagus valley, the azores, algarve, portugues, portugal, madeira, the alentejo}   \n",
       "2                                                                                                    {}   \n",
       "1                                                                {the united arab emirates, the uae, u}   \n",
       "0                                                                                                    {}   \n",
       "3                                                                                                    {}   \n",
       "4                                                                                                    {}   \n",
       "\n",
       "                    ab_epis                ab_stats  \n",
       "5  {prevalence, occurrence}            [58 . 1 + /]  \n",
       "2               {incidence}                      []  \n",
       "1                        {}                      []  \n",
       "0      {overall prevalence}                      []  \n",
       "3               {incidence}  [1 / 5000 live births]  \n",
       "4               {incidence}              [0 . 02 %]  "
      ]
     },
     "execution_count": 7,
     "metadata": {},
     "output_type": "execute_result"
    }
   ],
   "source": [
    "c = search('Santos Mateus Leal syndrome')\n",
    "c"
   ]
  },
  {
   "cell_type": "code",
   "execution_count": 8,
   "id": "7e890e58",
   "metadata": {
    "scrolled": true
   },
   "outputs": [
    {
     "name": "stdout",
     "output_type": "stream",
     "text": [
      "SEARCH TERM MATCHED TO GARD DICTIONARY. SEARCHING FOR:  ['gracile syndrome', 'flnms', 'finnish lactic acidosis with hepatic hemosiderosis', 'fellman syndrome', 'growth retardation, aminoaciduria, cholestasis, iron overload, lactic acidosis and early death', 'finnish lethal neonatal metabolic syndrome', 'fellman disease', 'growth delay-aminoaciduria-cholestasis-iron overload-lactic acidosis-early death syndrome', 'growth restriction-aminoaciduria-cholestasis-iron overload-lactic acidosis-early death syndrome']\n"
     ]
    },
    {
     "data": {
      "text/html": [
       "<div>\n",
       "<style scoped>\n",
       "    .dataframe tbody tr th:only-of-type {\n",
       "        vertical-align: middle;\n",
       "    }\n",
       "\n",
       "    .dataframe tbody tr th {\n",
       "        vertical-align: top;\n",
       "    }\n",
       "\n",
       "    .dataframe thead th {\n",
       "        text-align: right;\n",
       "    }\n",
       "</style>\n",
       "<table border=\"1\" class=\"dataframe\">\n",
       "  <thead>\n",
       "    <tr style=\"text-align: right;\">\n",
       "      <th></th>\n",
       "      <th>pmid</th>\n",
       "      <th>abstract</th>\n",
       "      <th>epi_prob</th>\n",
       "      <th>isEpi</th>\n",
       "      <th>ab_ids</th>\n",
       "      <th>ab_dis</th>\n",
       "      <th>ab_locs</th>\n",
       "      <th>ab_epis</th>\n",
       "      <th>ab_stats</th>\n",
       "    </tr>\n",
       "  </thead>\n",
       "  <tbody>\n",
       "    <tr>\n",
       "      <th>0</th>\n",
       "      <td>12547234</td>\n",
       "      <td>The GRACILE syndrome, a neonatal lethal metabolic disorder with iron overload. GRACILE syndrome (Fellman syndrome, MIM 603358), an autosomal recessive metabolic disorder of the Finnish disease heritage, has been diagnosed in 25 infants of 18 families. The incidence is at least 1/47,000 in Finland. The main findings are fetal growth retardation, Fanconi type aminoaciduria, cholestasis, iron overload (liver hemosiderosis, hyperferritinemia, hypotransferrinemia, increased transferrin iron saturation, and free plasma iron), profound lactic acidosis, and early death. The pathophysiology of the metabolic disturbance is unsolved. No significant deficiency of complex III activity of respiratory chain has been found, although we recently showed that the underlying genetic cause is a missense mutation (S78G) in the BCS1L gene and other mutations in that gene have been associated with complex III deficiency. BCS1L encodes a mitochondrial protein, acting as a chaperone in the assembly of complex III. Iron accumulation in liver, a typical feature being less abundant with increasing age, might be a primary abnormality or a secondary phenomenon due to liver dysfunction. In order to decrease the iron overload, three infants have been repeatedly treated with apotransferrin followed by exchange transfusion. Improvement in iron biochemistry occurred, but no clear beneficial effect on the clinical condition was found. Further studies will elucidate the role of iron in the pathophysiology of the disease.</td>\n",
       "      <td>0.9975</td>\n",
       "      <td>True</td>\n",
       "      <td>{GARD:0005794, GARD:0006595, GARD:0000001}</td>\n",
       "      <td>{aminoaciduria, gracile syndrome, fellman syndrome, hemosiderosis}</td>\n",
       "      <td>{finland}</td>\n",
       "      <td>{incidence}</td>\n",
       "      <td>[least, 1 / 47 , 000]</td>\n",
       "    </tr>\n",
       "  </tbody>\n",
       "</table>\n",
       "</div>"
      ],
      "text/plain": [
       "       pmid  \\\n",
       "0  12547234   \n",
       "\n",
       "                                                                                                                                                                                                                                                                                                                                                                                                                                                                                                                                                                                                                                                                                                                                                                                                                                                                                                                                                                                                                                                                                                                                                                                                                                                                                                                                                                                                                                                                                                                                                               abstract  \\\n",
       "0  The GRACILE syndrome, a neonatal lethal metabolic disorder with iron overload. GRACILE syndrome (Fellman syndrome, MIM 603358), an autosomal recessive metabolic disorder of the Finnish disease heritage, has been diagnosed in 25 infants of 18 families. The incidence is at least 1/47,000 in Finland. The main findings are fetal growth retardation, Fanconi type aminoaciduria, cholestasis, iron overload (liver hemosiderosis, hyperferritinemia, hypotransferrinemia, increased transferrin iron saturation, and free plasma iron), profound lactic acidosis, and early death. The pathophysiology of the metabolic disturbance is unsolved. No significant deficiency of complex III activity of respiratory chain has been found, although we recently showed that the underlying genetic cause is a missense mutation (S78G) in the BCS1L gene and other mutations in that gene have been associated with complex III deficiency. BCS1L encodes a mitochondrial protein, acting as a chaperone in the assembly of complex III. Iron accumulation in liver, a typical feature being less abundant with increasing age, might be a primary abnormality or a secondary phenomenon due to liver dysfunction. In order to decrease the iron overload, three infants have been repeatedly treated with apotransferrin followed by exchange transfusion. Improvement in iron biochemistry occurred, but no clear beneficial effect on the clinical condition was found. Further studies will elucidate the role of iron in the pathophysiology of the disease.   \n",
       "\n",
       "   epi_prob isEpi                                      ab_ids  \\\n",
       "0    0.9975  True  {GARD:0005794, GARD:0006595, GARD:0000001}   \n",
       "\n",
       "                                                               ab_dis  \\\n",
       "0  {aminoaciduria, gracile syndrome, fellman syndrome, hemosiderosis}   \n",
       "\n",
       "     ab_locs      ab_epis               ab_stats  \n",
       "0  {finland}  {incidence}  [least, 1 / 47 , 000]  "
      ]
     },
     "execution_count": 8,
     "metadata": {},
     "output_type": "execute_result"
    }
   ],
   "source": [
    "d = search('Fellman syndrome')\n",
    "d"
   ]
  },
  {
   "cell_type": "code",
   "execution_count": 9,
   "id": "e18f46b9",
   "metadata": {
    "scrolled": true
   },
   "outputs": [
    {
     "name": "stdout",
     "output_type": "stream",
     "text": [
      "SEARCH TERM MATCHED TO GARD DICTIONARY. SEARCHING FOR:  ['facioscapulohumeral muscular dystrophy', 'muscular dystrophy, facioscapulohumeral', 'facioscapulohumeral muscular dystrophy 1a', 'fshmd1a', 'muscular dystrophy, facioscapulohumeral, type 1a', 'fshd1a', 'landouzy-dejerine muscular dystrophy']\n"
     ]
    },
    {
     "data": {
      "text/html": [
       "<div>\n",
       "<style scoped>\n",
       "    .dataframe tbody tr th:only-of-type {\n",
       "        vertical-align: middle;\n",
       "    }\n",
       "\n",
       "    .dataframe tbody tr th {\n",
       "        vertical-align: top;\n",
       "    }\n",
       "\n",
       "    .dataframe thead th {\n",
       "        text-align: right;\n",
       "    }\n",
       "</style>\n",
       "<table border=\"1\" class=\"dataframe\">\n",
       "  <thead>\n",
       "    <tr style=\"text-align: right;\">\n",
       "      <th></th>\n",
       "      <th>pmid</th>\n",
       "      <th>abstract</th>\n",
       "      <th>epi_prob</th>\n",
       "      <th>isEpi</th>\n",
       "      <th>ab_ids</th>\n",
       "      <th>ab_dis</th>\n",
       "      <th>ab_locs</th>\n",
       "      <th>ab_epis</th>\n",
       "      <th>ab_stats</th>\n",
       "    </tr>\n",
       "  </thead>\n",
       "  <tbody>\n",
       "    <tr>\n",
       "      <th>1</th>\n",
       "      <td>34542603</td>\n",
       "      <td>Predictors of functional outcomes in patients with facioscapulohumeral muscular dystrophy. Facioscapulohumeral muscular dystrophy (FSHD) is one of the most prevalent muscular dystrophies characterized by considerable variability in severity, rates of progression and functional outcomes. Few studies follow FSHD cohorts long enough to understand predictors of disease progression and functional outcomes, creating gaps in our understanding which impacts clinical care and the design of clinical trials. Efforts to identify molecularly targeted therapies create a need to better understand disease characteristics with predictive value to help refine clinical trial strategies and understand trial outcomes. Here we analyzed a prospective cohort from a large, longitudinally-followed registry of patients with FSHD in the United States to determine predictors of outcomes such as need for wheelchair use. This study analyzed de-identified data from 578 individuals with confirmed FSHD type 1 enrolled in the United States National Registry for FSHD Patients and Family members. Data were collected from January 2002 to September 2019 and included an average of nine years (range 0 to 18) of follow up surveys. Data were analyzed using descriptive epidemiological techniques, and risk of wheelchair use was determined using cox proportional hazards models. Supervised machine learning analysis was completed using Random Forest modeling and included all 189 unique features collected from registry questionnaires. A separate medications-only model was created that included 359 unique medications reported by participants. Here we show that smaller allele sizes were predictive of earlier age at onset, diagnosis and likelihood of wheelchair use. Additionally, we show that women were more likely overall to progress to wheelchair use and at a faster rate as compared to men, independent of genetics. Use of machine learning models that included all reported clinical features showed that the effect of allele size on progression to wheelchair use is small compared to disease duration, which may be important to consider in trial design. Medical comorbidities and medication use add to the risk for need for wheelchair dependence, raising the possibility for better medical management impacting outcomes in FSHD. The findings in this study will require further validation in additional, larger datasets but could have implications for clinical care, and inclusion criteria for future clinical trials in FSHD.</td>\n",
       "      <td>0.994113</td>\n",
       "      <td>True</td>\n",
       "      <td>{GARD:0009941}</td>\n",
       "      <td>{facioscapulohumeral muscular dystrophy}</td>\n",
       "      <td>{the united states}</td>\n",
       "      <td>{prevalent}</td>\n",
       "      <td>[]</td>\n",
       "    </tr>\n",
       "    <tr>\n",
       "      <th>2</th>\n",
       "      <td>34441403</td>\n",
       "      <td>Precise Epigenetic Analysis Using Targeted Bisulfite Genomic Sequencing Distinguishes FSHD1, FSHD2, and Healthy Subjects. The true prevalence of facioscapulohumeral muscular dystrophy (FSHD) is unknown due to difficulties with accurate clinical evaluation and the complexities of current genetic diagnostics. Interestingly, all forms of FSHD are linked to epigenetic changes in the chromosome 4q35 D4Z4 macrosatellite, suggesting that epigenetic analysis could provide an avenue for sequence-based FSHD diagnostics. However, studies assessing DNA methylation at the FSHD locus have produced conflicting results; thus, the utility of this technique as an FSHD diagnostic remains controversial. Here, we critically compared two protocols for epigenetic analysis of the FSHD region using bisulfite genomic sequencing: Jones et al., that contends to be individually diagnostic for FSHD1 and FSHD2, and Gaillard et al., that can identify some changes in DNA methylation levels between groups of clinically affected FSHD and healthy subjects, but is not individually diagnostic for any form of FSHD. We performed both sets of assays on the same genetically confirmed samples and showed that this discrepancy was due strictly to differences in amplicon specificity. We propose that the epigenetic status of the FSHD-associated D4Z4 arrays, when accurately assessed, is a diagnostic for genetic FSHD and can readily distinguish between healthy, FSHD1 and FSHD2. Thus, epigenetic diagnosis of FSHD, which can be performed on saliva DNA, will greatly increase accessibility to FSHD diagnostics for populations around the world.</td>\n",
       "      <td>0.976455</td>\n",
       "      <td>True</td>\n",
       "      <td>{GARD:0009941}</td>\n",
       "      <td>{facioscapulohumeral muscular dystrophy}</td>\n",
       "      <td>{j, g}</td>\n",
       "      <td>{prevalence}</td>\n",
       "      <td>[]</td>\n",
       "    </tr>\n",
       "    <tr>\n",
       "      <th>0</th>\n",
       "      <td>34315378</td>\n",
       "      <td>Promising Perspective to Facioscapulohumeral Muscular Dystrophy Treatment: Nutraceuticals and Phytochemicals. Facioscapulohumeral muscular dystrophy (FSHD) is in the top three list of all dystrophies with an approximate 1:8000 incidence. It is not a life-threatening disease; however, progression of the disease extends over being wheel-chair bound. Despite some drug trials have been continuing, including DUX4 inhibition, TGF-ß inhibition and resokine which promote healthier muscle, there is not an applicable treatment option for FSHD today. Still, there is a need for new agent or agents to heal, to stop or at least to slow down the muscle wasting. Current FSHD studies with nutraceuticals as vitamin C, vitamin E, coenzyme Q10, zinc, selenium, and phytochemicals as curcumin or genistein, daidzein flavonoids provide promising treatment strategies. In this review we will present the clinical and molecular nature of FSHD and focus on nutraceuticals and phytochemicals that may alleviate FSHD. Via interconnection of impaired pathophysiological FSHD pathways together with nutraceuticals and phytochemicals in the light of literature, we present both studied and novel approaches that can contribute FSHD treatment.</td>\n",
       "      <td>0.923190</td>\n",
       "      <td>True</td>\n",
       "      <td>{GARD:0009941}</td>\n",
       "      <td>{facioscapulohumeral muscular dystrophy}</td>\n",
       "      <td>{}</td>\n",
       "      <td>{incidence}</td>\n",
       "      <td>[1 : 8000]</td>\n",
       "    </tr>\n",
       "  </tbody>\n",
       "</table>\n",
       "</div>"
      ],
      "text/plain": [
       "       pmid  \\\n",
       "1  34542603   \n",
       "2  34441403   \n",
       "0  34315378   \n",
       "\n",
       "                                                                                                                                                                                                                                                                                                                                                                                                                                                                                                                                                                                                                                                                                                                                                                                                                                                                                                                                                                                                                                                                                                                                                                                                                                                                                                                                                                                                                                                                                                                                                                                                                                                                                                                                                                                                                                                                                                                                                                                                                                                                                                                                                                                                                                                                                                                                                                                                                                                                                                                                                                                                      abstract  \\\n",
       "1  Predictors of functional outcomes in patients with facioscapulohumeral muscular dystrophy. Facioscapulohumeral muscular dystrophy (FSHD) is one of the most prevalent muscular dystrophies characterized by considerable variability in severity, rates of progression and functional outcomes. Few studies follow FSHD cohorts long enough to understand predictors of disease progression and functional outcomes, creating gaps in our understanding which impacts clinical care and the design of clinical trials. Efforts to identify molecularly targeted therapies create a need to better understand disease characteristics with predictive value to help refine clinical trial strategies and understand trial outcomes. Here we analyzed a prospective cohort from a large, longitudinally-followed registry of patients with FSHD in the United States to determine predictors of outcomes such as need for wheelchair use. This study analyzed de-identified data from 578 individuals with confirmed FSHD type 1 enrolled in the United States National Registry for FSHD Patients and Family members. Data were collected from January 2002 to September 2019 and included an average of nine years (range 0 to 18) of follow up surveys. Data were analyzed using descriptive epidemiological techniques, and risk of wheelchair use was determined using cox proportional hazards models. Supervised machine learning analysis was completed using Random Forest modeling and included all 189 unique features collected from registry questionnaires. A separate medications-only model was created that included 359 unique medications reported by participants. Here we show that smaller allele sizes were predictive of earlier age at onset, diagnosis and likelihood of wheelchair use. Additionally, we show that women were more likely overall to progress to wheelchair use and at a faster rate as compared to men, independent of genetics. Use of machine learning models that included all reported clinical features showed that the effect of allele size on progression to wheelchair use is small compared to disease duration, which may be important to consider in trial design. Medical comorbidities and medication use add to the risk for need for wheelchair dependence, raising the possibility for better medical management impacting outcomes in FSHD. The findings in this study will require further validation in additional, larger datasets but could have implications for clinical care, and inclusion criteria for future clinical trials in FSHD.   \n",
       "2                                                                                                                                                                                                                                                                                                                                                                                                                                                                                                                                                                                                                                                                                                                                                                                                                                                                                                                            Precise Epigenetic Analysis Using Targeted Bisulfite Genomic Sequencing Distinguishes FSHD1, FSHD2, and Healthy Subjects. The true prevalence of facioscapulohumeral muscular dystrophy (FSHD) is unknown due to difficulties with accurate clinical evaluation and the complexities of current genetic diagnostics. Interestingly, all forms of FSHD are linked to epigenetic changes in the chromosome 4q35 D4Z4 macrosatellite, suggesting that epigenetic analysis could provide an avenue for sequence-based FSHD diagnostics. However, studies assessing DNA methylation at the FSHD locus have produced conflicting results; thus, the utility of this technique as an FSHD diagnostic remains controversial. Here, we critically compared two protocols for epigenetic analysis of the FSHD region using bisulfite genomic sequencing: Jones et al., that contends to be individually diagnostic for FSHD1 and FSHD2, and Gaillard et al., that can identify some changes in DNA methylation levels between groups of clinically affected FSHD and healthy subjects, but is not individually diagnostic for any form of FSHD. We performed both sets of assays on the same genetically confirmed samples and showed that this discrepancy was due strictly to differences in amplicon specificity. We propose that the epigenetic status of the FSHD-associated D4Z4 arrays, when accurately assessed, is a diagnostic for genetic FSHD and can readily distinguish between healthy, FSHD1 and FSHD2. Thus, epigenetic diagnosis of FSHD, which can be performed on saliva DNA, will greatly increase accessibility to FSHD diagnostics for populations around the world.   \n",
       "0                                                                                                                                                                                                                                                                                                                                                                                                                                                                                                                                                                                                                                                                                                                                                                                                                                                                                                                                                                                                                                                                                                                                                                                                                                                                                                                                       Promising Perspective to Facioscapulohumeral Muscular Dystrophy Treatment: Nutraceuticals and Phytochemicals. Facioscapulohumeral muscular dystrophy (FSHD) is in the top three list of all dystrophies with an approximate 1:8000 incidence. It is not a life-threatening disease; however, progression of the disease extends over being wheel-chair bound. Despite some drug trials have been continuing, including DUX4 inhibition, TGF-ß inhibition and resokine which promote healthier muscle, there is not an applicable treatment option for FSHD today. Still, there is a need for new agent or agents to heal, to stop or at least to slow down the muscle wasting. Current FSHD studies with nutraceuticals as vitamin C, vitamin E, coenzyme Q10, zinc, selenium, and phytochemicals as curcumin or genistein, daidzein flavonoids provide promising treatment strategies. In this review we will present the clinical and molecular nature of FSHD and focus on nutraceuticals and phytochemicals that may alleviate FSHD. Via interconnection of impaired pathophysiological FSHD pathways together with nutraceuticals and phytochemicals in the light of literature, we present both studied and novel approaches that can contribute FSHD treatment.   \n",
       "\n",
       "   epi_prob isEpi          ab_ids                                    ab_dis  \\\n",
       "1  0.994113  True  {GARD:0009941}  {facioscapulohumeral muscular dystrophy}   \n",
       "2  0.976455  True  {GARD:0009941}  {facioscapulohumeral muscular dystrophy}   \n",
       "0  0.923190  True  {GARD:0009941}  {facioscapulohumeral muscular dystrophy}   \n",
       "\n",
       "               ab_locs       ab_epis    ab_stats  \n",
       "1  {the united states}   {prevalent}          []  \n",
       "2               {j, g}  {prevalence}          []  \n",
       "0                   {}   {incidence}  [1 : 8000]  "
      ]
     },
     "execution_count": 9,
     "metadata": {},
     "output_type": "execute_result"
    }
   ],
   "source": [
    "e = search('GARD:0009941')\n",
    "e"
   ]
  },
  {
   "cell_type": "code",
   "execution_count": 10,
   "id": "bc985b65",
   "metadata": {
    "scrolled": true
   },
   "outputs": [
    {
     "name": "stdout",
     "output_type": "stream",
     "text": [
      "SEARCH TERM MATCHED TO GARD DICTIONARY. SEARCHING FOR:  ['homocystinuria']\n"
     ]
    },
    {
     "data": {
      "text/html": [
       "<div>\n",
       "<style scoped>\n",
       "    .dataframe tbody tr th:only-of-type {\n",
       "        vertical-align: middle;\n",
       "    }\n",
       "\n",
       "    .dataframe tbody tr th {\n",
       "        vertical-align: top;\n",
       "    }\n",
       "\n",
       "    .dataframe thead th {\n",
       "        text-align: right;\n",
       "    }\n",
       "</style>\n",
       "<table border=\"1\" class=\"dataframe\">\n",
       "  <thead>\n",
       "    <tr style=\"text-align: right;\">\n",
       "      <th></th>\n",
       "      <th>pmid</th>\n",
       "      <th>abstract</th>\n",
       "      <th>epi_prob</th>\n",
       "      <th>isEpi</th>\n",
       "      <th>ab_ids</th>\n",
       "      <th>ab_dis</th>\n",
       "      <th>ab_locs</th>\n",
       "      <th>ab_epis</th>\n",
       "      <th>ab_stats</th>\n",
       "    </tr>\n",
       "  </thead>\n",
       "  <tbody>\n",
       "    <tr>\n",
       "      <th>1</th>\n",
       "      <td>33563743</td>\n",
       "      <td>The first Saudi baby with classic homocystinuria diagnosed by universal newborn screening. Classic homocystinuria (CH) is an inborn error of metabolism caused by cystathionine beta-synthase enzyme deficiency. Affected patients present with intellectual disability and other comorbidities. If diagnosed early in infancy and started treatment, inevitable complications can be prevented. Newborn screening (NBS) uses tandem mass-spectroscopy (MSMS) to measure the amino acid levels. In CH, the first-tier screening test is the measurement of methionine by MSMS. If methionine remained elevated in the recall sample, plasma level for homocysteine is performed. A newborn infant underwent routine NBS in our institute that showed elevated methionine in the first and the recall sample. Thereafter, total serum homocysteine was found to be elevated, consistent with the diagnosis of CH. An early medical and dietary management was commenced for this first Saudi baby diagnosed with homocystinuria by universal NBS. This report demonstrates that NBS for CH is feasible and effective in preventing the disease burden.</td>\n",
       "      <td>0.993448</td>\n",
       "      <td>True</td>\n",
       "      <td>{GARD:0010770, GARD:0006667}</td>\n",
       "      <td>{homocystinuria, classic homocystinuria}</td>\n",
       "      <td>{}</td>\n",
       "      <td>{}</td>\n",
       "      <td>[]</td>\n",
       "    </tr>\n",
       "    <tr>\n",
       "      <th>0</th>\n",
       "      <td>34449519</td>\n",
       "      <td>Early Diagnosis of Classic Homocystinuria in Kuwait through Newborn Screening: A 6-Year Experience. Kuwait is a small Arabian Gulf country with a high rate of consanguinity and where a national newborn screening program was expanded in October 2014 to include a wide range of endocrine and metabolic disorders. A retrospective study conducted between January 2015 and December 2020 revealed a total of 304,086 newborns have been screened in Kuwait. Six newborns were diagnosed with classic homocystinuria with an incidence of 1:50,000, which is not as high as in Qatar but higher than the global incidence. Molecular testing for five of them has revealed three previously reported pathogenic variants in the &lt;i&gt;CBS&lt;/i&gt; gene, c.969G&gt;A, p.(Trp323Ter); c.982G&gt;A, p.(Asp328Asn); and the Qatari founder variant c.1006C&gt;T, p.(Arg336Cys). This is the first study to review the screening of newborns in Kuwait for classic homocystinuria, starting with the detection of elevated blood methionine and providing a follow-up strategy for positive results, including plasma total homocysteine and amino acid analyses. Further, we have demonstrated an increase in the specificity of the current newborn screening test for classic homocystinuria by including the methionine to phenylalanine ratio along with the elevated methionine blood levels in first-tier testing. Here, we provide evidence that the newborn screening in Kuwait has led to the early detection of classic homocystinuria cases and enabled the affected individuals to lead active and productive lives.</td>\n",
       "      <td>0.985902</td>\n",
       "      <td>True</td>\n",
       "      <td>{GARD:0006667}</td>\n",
       "      <td>{classic homocystinuria}</td>\n",
       "      <td>{qatar, kuwait, global}</td>\n",
       "      <td>{incidence}</td>\n",
       "      <td>[1 : 50 , 000 ,]</td>\n",
       "    </tr>\n",
       "  </tbody>\n",
       "</table>\n",
       "</div>"
      ],
      "text/plain": [
       "       pmid  \\\n",
       "1  33563743   \n",
       "0  34449519   \n",
       "\n",
       "                                                                                                                                                                                                                                                                                                                                                                                                                                                                                                                                                                                                                                                                                                                                                                                                                                                                                                                                                                                                                                                                                                                                                                                                                                                                                                                                                                                                                                                                                                                                                                                                           abstract  \\\n",
       "1                                                                                                                                                                                                                                                                                                                                                                                                                                                             The first Saudi baby with classic homocystinuria diagnosed by universal newborn screening. Classic homocystinuria (CH) is an inborn error of metabolism caused by cystathionine beta-synthase enzyme deficiency. Affected patients present with intellectual disability and other comorbidities. If diagnosed early in infancy and started treatment, inevitable complications can be prevented. Newborn screening (NBS) uses tandem mass-spectroscopy (MSMS) to measure the amino acid levels. In CH, the first-tier screening test is the measurement of methionine by MSMS. If methionine remained elevated in the recall sample, plasma level for homocysteine is performed. A newborn infant underwent routine NBS in our institute that showed elevated methionine in the first and the recall sample. Thereafter, total serum homocysteine was found to be elevated, consistent with the diagnosis of CH. An early medical and dietary management was commenced for this first Saudi baby diagnosed with homocystinuria by universal NBS. This report demonstrates that NBS for CH is feasible and effective in preventing the disease burden.   \n",
       "0  Early Diagnosis of Classic Homocystinuria in Kuwait through Newborn Screening: A 6-Year Experience. Kuwait is a small Arabian Gulf country with a high rate of consanguinity and where a national newborn screening program was expanded in October 2014 to include a wide range of endocrine and metabolic disorders. A retrospective study conducted between January 2015 and December 2020 revealed a total of 304,086 newborns have been screened in Kuwait. Six newborns were diagnosed with classic homocystinuria with an incidence of 1:50,000, which is not as high as in Qatar but higher than the global incidence. Molecular testing for five of them has revealed three previously reported pathogenic variants in the <i>CBS</i> gene, c.969G>A, p.(Trp323Ter); c.982G>A, p.(Asp328Asn); and the Qatari founder variant c.1006C>T, p.(Arg336Cys). This is the first study to review the screening of newborns in Kuwait for classic homocystinuria, starting with the detection of elevated blood methionine and providing a follow-up strategy for positive results, including plasma total homocysteine and amino acid analyses. Further, we have demonstrated an increase in the specificity of the current newborn screening test for classic homocystinuria by including the methionine to phenylalanine ratio along with the elevated methionine blood levels in first-tier testing. Here, we provide evidence that the newborn screening in Kuwait has led to the early detection of classic homocystinuria cases and enabled the affected individuals to lead active and productive lives.   \n",
       "\n",
       "   epi_prob isEpi                        ab_ids  \\\n",
       "1  0.993448  True  {GARD:0010770, GARD:0006667}   \n",
       "0  0.985902  True                {GARD:0006667}   \n",
       "\n",
       "                                     ab_dis                  ab_locs  \\\n",
       "1  {homocystinuria, classic homocystinuria}                       {}   \n",
       "0                  {classic homocystinuria}  {qatar, kuwait, global}   \n",
       "\n",
       "       ab_epis          ab_stats  \n",
       "1           {}                []  \n",
       "0  {incidence}  [1 : 50 , 000 ,]  "
      ]
     },
     "execution_count": 10,
     "metadata": {},
     "output_type": "execute_result"
    }
   ],
   "source": [
    "f = search('Homocystinuria')\n",
    "f"
   ]
  },
  {
   "cell_type": "code",
   "execution_count": 11,
   "id": "87086c93",
   "metadata": {},
   "outputs": [],
   "source": [
    "a.to_csv('proof_of_concept/localized-scleroderma.csv',index=False)\n",
    "b.to_csv('proof_of_concept/Sandhoff-disease.csv',index=False)\n",
    "c.to_csv('proof_of_concept/Santos-Mateus-Leal-syndrome.csv',index=False)\n",
    "d.to_csv('proof_of_concept/Fellman-syndrome.csv',index=False)\n",
    "e.to_csv('proof_of_concept/Facioscapulohumeral-muscular-dystrophy.csv',index=False)\n",
    "f.to_csv('proof_of_concept/homocystinuria.csv',index=False)"
   ]
  }
 ],
 "metadata": {
  "kernelspec": {
   "display_name": "Python 3",
   "language": "python",
   "name": "python3"
  },
  "language_info": {
   "codemirror_mode": {
    "name": "ipython",
    "version": 3
   },
   "file_extension": ".py",
   "mimetype": "text/x-python",
   "name": "python",
   "nbconvert_exporter": "python",
   "pygments_lexer": "ipython3",
   "version": "3.6.8"
  }
 },
 "nbformat": 4,
 "nbformat_minor": 5
}

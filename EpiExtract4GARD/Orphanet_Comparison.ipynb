{
 "cells": [
  {
   "cell_type": "markdown",
   "id": "ac606f6b",
   "metadata": {},
   "source": [
    "# Comparing Model to Orphanet\n",
    "\n",
    "Goal: Compare the output of my model to Orphanet's data\n",
    "Need to make comparisons between the output of my model on multiple levels\n",
    " - Disease NameGARD_ID\n",
    " - Prevalence Type\n",
    " - Prevalence Class\n",
    "   - Not if Source is Expert\n",
    " - Location  \n",
    "\n",
    "Which also requires me to \n",
    "1. Input the Orphanet Data\n",
    "2. XX Write a PMC abstract getting function (EBI API) (Tried, did not work, EBI API and PMC API dont have most full text articles) XX\n",
    "3. Input the model\n",
    "4. Default no location to Worldwide\n",
    "5. Make Predictions\n",
    "6. Save Predictions"
   ]
  },
  {
   "cell_type": "markdown",
   "id": "c4573513",
   "metadata": {},
   "source": [
    "### Input Orphanet Data"
   ]
  },
  {
   "cell_type": "code",
   "execution_count": 2,
   "id": "c680f8b3",
   "metadata": {
    "scrolled": true
   },
   "outputs": [],
   "source": [
    "import xml.etree.ElementTree as ET\n",
    "import re\n",
    "import pandas as pd\n",
    "import classify_abs\n",
    "import extract_abs\n",
    "import time"
   ]
  },
  {
   "cell_type": "code",
   "execution_count": null,
   "id": "3b41685d",
   "metadata": {},
   "outputs": [],
   "source": [
    "#This file was downloaded on August 31, 2021. See README.md for details\n",
    "tree = ET.parse('en_product9_prev.xml')\n",
    "root = tree.getroot()"
   ]
  },
  {
   "cell_type": "code",
   "execution_count": null,
   "id": "d9f28931",
   "metadata": {},
   "outputs": [],
   "source": [
    "df = pd.DataFrame(columns=['OrphaCode',\n",
    "                           'Disease Name',\n",
    "                           'Orpha Epi Type',\n",
    "                           'Orpha Epi Class',\n",
    "                           'Orpha Epi Rate',\n",
    "                           'Orpha Loc', \n",
    "                           'PMID',#Above here is orphanet (will show to the left)\n",
    "                           'Title+Abstract', #Below here is my model (will show to the right)\n",
    "                           'GARD Disease ID',\n",
    "                           'Pipeline Disease',\n",
    "                           'Epi Identifier',\n",
    "                           'Epi Statistics',\n",
    "                           'Model Location',\n",
    "                           'Model Date',\n",
    "                           'Model Sex',\n",
    "                           'Model Ethnicity'])"
   ]
  },
  {
   "cell_type": "code",
   "execution_count": null,
   "id": "1999d643",
   "metadata": {},
   "outputs": [],
   "source": [
    "NER_pipeline, labels = extract_abs.init_NER_pipeline()\n",
    "GARD_dict, max_length = extract_abs.load_GARD_diseases()"
   ]
  },
  {
   "cell_type": "markdown",
   "id": "7e9367b9",
   "metadata": {},
   "source": [
    "Parse through the entire Orphanet Database"
   ]
  },
  {
   "cell_type": "code",
   "execution_count": null,
   "id": "2e6b6436",
   "metadata": {},
   "outputs": [],
   "source": [
    "i=0\n",
    "pmid_abs = {}\n",
    "pmid_extract = {}\n",
    "print(i,time.ctime(time.time()-18000))\n",
    "exit =False\n",
    "for disorder in root.iter('Disorder'):  \n",
    "    code = disorder.find('./OrphaCode').text\n",
    "    name = disorder.find('./Name').text\n",
    "    #Each disorder, w/code and name, has multiple prevalence branches\n",
    "    for prevalence in disorder.findall('./PrevalenceList/Prevalence'):\n",
    "        EPtype = prevalence.find('./PrevalenceType/Name').text\n",
    "        if 'class' in prevalence.find('./PrevalenceQualification/Name').text.lower():\n",
    "            EPclss = prevalence.find('./PrevalenceClass/Name').text\n",
    "        else:\n",
    "            EPclss = ''\n",
    "        EPrate = prevalence.find('./ValMoy').text\n",
    "        geoloc = prevalence.find('./PrevalenceGeographic/Name').text\n",
    "        source = prevalence.find('./Source').text\n",
    "        #each prevalence, w/geoloc and source, has multiple pmids w/abstracts\n",
    "        if 'PMID' in str(source) and 'EXPERT' not in str(source) and len(EPclss)>1:\n",
    "            pmids = re.findall('\\d{6,8}', source)\n",
    "            for articleid in pmids:\n",
    "                pmid = articleid\n",
    "                if pmid not in pmid_abs.keys():\n",
    "                    pmid_abs[pmid] = classify_abs.PMID_getAb(articleid)\n",
    "                    \n",
    "                #pmid_abs[pmid] is the current abstract, this speeds up the EBI API so it does not keep getting duplicate abstracts\n",
    "                abstract = pmid_abs[pmid]\n",
    "                if len(abstract)>5:\n",
    "                    if pmid not in pmid_extract.keys():\n",
    "                        extraction = extract_abs.abstract_extraction(abstract, NER_pipeline, labels, GARD_dict, max_length)\n",
    "                        if len(extraction['LOC']) == 0:\n",
    "                            extraction['LOC'].update(['worldwide'])\n",
    "                        pmid_extract[pmid] = extraction\n",
    "                    else:\n",
    "                        #pmid_extract[pmid] is the current extraction, this speeds up process so the extraction model does not keep working on duplicate abstracts\n",
    "                        extraction = pmid_extract[pmid]\n",
    "                    #Note: there are duplicate PMIDs next to each other in the dataset, but keeping in case orphanet has differen extraction data\n",
    "                    df = df.append({'OrphaCode':code,\n",
    "                                    'Disease Name':name,\n",
    "                                    'Orpha Epi Type':EPtype,\n",
    "                                    'Orpha Epi Class':EPclss,\n",
    "                                    'Orpha Epi Rate':EPrate,\n",
    "                                    'Orpha Loc':geoloc,\n",
    "                                    'PMID':pmid,\n",
    "                                    'Title+Abstract':abstract,\n",
    "                                    'GARD Disease ID':extraction['IDS'],\n",
    "                                    'Pipeline Disease':extraction['DIS'],\n",
    "                                    'Epi Identifier':extraction['EPI'],\n",
    "                                    'Epi Statistics':extraction['STAT'],\n",
    "                                    'Model Location':extraction['LOC'],\n",
    "                                    'Model Date':extraction['DATE'],\n",
    "                                    'Model Ethnicity':extraction['ETHN'],\n",
    "                                    'Model Sex':extraction['SEX']}\n",
    "                                   , ignore_index=True)\n",
    "                i+=1\n",
    "                if i%500==0:\n",
    "                    print(i,time.ctime(time.time()-18000))"
   ]
  },
  {
   "cell_type": "code",
   "execution_count": null,
   "id": "64a6c8a9",
   "metadata": {},
   "outputs": [],
   "source": [
    "df"
   ]
  },
  {
   "cell_type": "code",
   "execution_count": null,
   "id": "a55bfdfd",
   "metadata": {},
   "outputs": [],
   "source": [
    "#Not going to remove the duplicate PMIDs because Orphanet has different stat, disease, loc, info for each duplicated entry.\n",
    "df.to_csv('Orphanet-Comparison-FINAL.csv', header = True,index=False, encoding='utf-8')\n",
    "print('DONE')"
   ]
  }
 ],
 "metadata": {
  "kernelspec": {
   "display_name": "Python 3",
   "language": "python",
   "name": "python3"
  },
  "language_info": {
   "codemirror_mode": {
    "name": "ipython",
    "version": 3
   },
   "file_extension": ".py",
   "mimetype": "text/x-python",
   "name": "python",
   "nbconvert_exporter": "python",
   "pygments_lexer": "ipython3",
   "version": "3.6.8"
  }
 },
 "nbformat": 4,
 "nbformat_minor": 5
}

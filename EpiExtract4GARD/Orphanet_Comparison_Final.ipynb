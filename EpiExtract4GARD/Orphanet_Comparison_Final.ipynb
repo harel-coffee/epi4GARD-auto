{
 "metadata": {
  "kernelspec": {
   "display_name": "Python 3",
   "language": "python",
   "name": "python3"
  },
  "language_info": {
   "codemirror_mode": {
    "name": "ipython",
    "version": 3
   },
   "file_extension": ".py",
   "mimetype": "text/x-python",
   "name": "python",
   "nbconvert_exporter": "python",
   "pygments_lexer": "ipython3",
   "version": "3.6.8"
  },
  "name": ""
 },
 "nbformat": 3,
 "nbformat_minor": 0,
 "worksheets": [
  {
   "cells": [
    {
     "cell_type": "markdown",
     "metadata": {},
     "source": [
      "# Comparing Model to Orphanet\n",
      "\n",
      "Goal: Compare the output of my model to Orphanet's data\n",
      "Need to make comparisons between the output of my model on multiple levels\n",
      " - Disease NameGARD_ID\n",
      " - Prevalence Type\n",
      " - Prevalence Class\n",
      "   - Not if Source is Expert\n",
      " - Location  \n",
      "\n",
      "Which also requires me to \n",
      "1. Input the Orphanet Data\n",
      "2. XX Write a PMC abstract getting function (EBI API) (Tried, did not work, EBI API and PMC API dont have most full text articles) XX\n",
      "3. Input the model\n",
      "4. Default no location to Worldwide\n",
      "5. Make Predictions\n",
      "6. Save Predictions"
     ]
    },
    {
     "cell_type": "heading",
     "level": 3,
     "metadata": {},
     "source": [
      "Input Orphanet Data"
     ]
    },
    {
     "cell_type": "code",
     "collapsed": false,
     "input": [
      "import xml.etree.ElementTree as ET\n",
      "import re\n",
      "import pandas as pd\n",
      "import classify_abs\n",
      "import extract_abs\n",
      "import time"
     ],
     "language": "python",
     "metadata": {
      "scrolled": true
     },
     "outputs": [],
     "prompt_number": 1
    },
    {
     "cell_type": "code",
     "collapsed": false,
     "input": [
      "#This file was downloaded on August 31, 2021. See README.md for details\n",
      "tree = ET.parse('en_product9_prev.xml')\n",
      "root = tree.getroot()"
     ],
     "language": "python",
     "metadata": {},
     "outputs": [],
     "prompt_number": 2
    },
    {
     "cell_type": "code",
     "collapsed": false,
     "input": [
      "df = pd.DataFrame(columns=['OrphaCode',\n",
      "                           'Disease Name',\n",
      "                           'Orpha Epi Type',\n",
      "                           'Orpha Epi Class',\n",
      "                           'Orpha Epi Rate',\n",
      "                           'Orpha Loc', \n",
      "                           'PMID',#Above here is orphanet (will show to the left)\n",
      "                           'Title+Abstract', #Below here is my model (will show to the right)\n",
      "                           'GARD Disease ID',\n",
      "                           'Model Disease',\n",
      "                           'Model Location',\n",
      "                           'Epi Identifier',\n",
      "                           'Epi Statistics'])"
     ],
     "language": "python",
     "metadata": {},
     "outputs": [],
     "prompt_number": 3
    },
    {
     "cell_type": "code",
     "collapsed": false,
     "input": [
      "NER_pipeline = extract_abs.init_NER_pipeline()\n",
      "GARD_dict, max_length = extract_abs.load_GARD_diseases()"
     ],
     "language": "python",
     "metadata": {},
     "outputs": [],
     "prompt_number": 4
    },
    {
     "cell_type": "markdown",
     "metadata": {},
     "source": [
      "Parse through the entire Orphanet Database"
     ]
    },
    {
     "cell_type": "code",
     "collapsed": false,
     "input": [
      "i=0\n",
      "pmid_abs = {}\n",
      "print(i,time.ctime(time.time()-18000))\n",
      "exit =False\n",
      "for disorder in root.iter('Disorder'):  \n",
      "    code = disorder.find('./OrphaCode').text\n",
      "    name = disorder.find('./Name').text\n",
      "    #Each disorder, w/code and name, has multiple prevalence branches\n",
      "    for prevalence in disorder.findall('./PrevalenceList/Prevalence'):\n",
      "        EPtype = prevalence.find('./PrevalenceType/Name').text\n",
      "        if 'class' in prevalence.find('./PrevalenceQualification/Name').text.lower():\n",
      "            EPclss = prevalence.find('./PrevalenceClass/Name').text\n",
      "        else:\n",
      "            EPclss = ''\n",
      "        EPrate = prevalence.find('./ValMoy').text\n",
      "        geoloc = prevalence.find('./PrevalenceGeographic/Name').text\n",
      "        source = prevalence.find('./Source').text\n",
      "        #each prevalence, w/geoloc and source, has multiple pmids w/abstracts\n",
      "        if 'PMID' in str(source) and 'EXPERT' not in str(source) and len(EPclss)>1:\n",
      "            pmids = re.findall('\\d{6,8}', source)\n",
      "            for articleid in pmids:\n",
      "                pmid = articleid\n",
      "                if pmid not in pmid_abs.keys():\n",
      "                    pmid_abs[pmid] = classify_abs.PMID_getAb(articleid)\n",
      "                    \n",
      "                #pmid_abs[pmid] is the current abstract, this speeds up the EBI API so it does not keep getting duplicate abstracts\n",
      "                abstract = pmid_abs[pmid]\n",
      "                if len(abstract)>5:\n",
      "                    ab_ids, ab_dis, ab_locs, ab_epis, ab_stats = extract_abs.abstract_extraction(abstract, NER_pipeline, GARD_dict, max_length)\n",
      "                    if len(ab_locs) == 0:\n",
      "                        ab_locs.update(['Worldwide'])\n",
      "                    #Note: there are duplicate PMIDs next to each other in the dataset, but keeping in case orphanet has differen extraction data\n",
      "                    df = df.append({'OrphaCode':code,\n",
      "                                    'Disease Name':name,\n",
      "                                    'Orpha Epi Type':EPtype,\n",
      "                                    'Orpha Epi Class':EPclss,\n",
      "                                    'Orpha Epi Rate':EPrate,\n",
      "                                    'Orpha Loc':geoloc,\n",
      "                                    'PMID':pmid,\n",
      "                                    'Title+Abstract':abstract,\n",
      "                                    'GARD Disease ID':ab_ids,\n",
      "                                    'Model Disease':ab_dis,\n",
      "                                    'Model Location':ab_locs,\n",
      "                                    'Epi Identifier':ab_epis,\n",
      "                                    'Epi Statistics':ab_stats}\n",
      "                                   , ignore_index=True)\n",
      "                    i+=1\n",
      "                    if i%500==0:\n",
      "                        print(i,time.ctime(time.time()-18000))"
     ],
     "language": "python",
     "metadata": {},
     "outputs": [
      {
       "output_type": "stream",
       "stream": "stdout",
       "text": [
        "0 Tue Sep 21 11:54:13 2021\n"
       ]
      },
      {
       "output_type": "stream",
       "stream": "stderr",
       "text": [
        "Asking to truncate to max_length but no maximum length is provided and the model has no predefined maximum length. Default to no truncation.\n"
       ]
      },
      {
       "output_type": "stream",
       "stream": "stdout",
       "text": [
        "500 Tue Sep 21 13:14:30 2021\n"
       ]
      },
      {
       "output_type": "stream",
       "stream": "stdout",
       "text": [
        "1000 Tue Sep 21 14:47:25 2021\n"
       ]
      },
      {
       "output_type": "stream",
       "stream": "stdout",
       "text": [
        "1500 Tue Sep 21 16:20:13 2021\n"
       ]
      },
      {
       "output_type": "stream",
       "stream": "stdout",
       "text": [
        "2000 Tue Sep 21 17:56:58 2021\n"
       ]
      },
      {
       "output_type": "stream",
       "stream": "stdout",
       "text": [
        "2500 Tue Sep 21 19:03:12 2021\n"
       ]
      },
      {
       "output_type": "stream",
       "stream": "stdout",
       "text": [
        "3000 Tue Sep 21 20:17:47 2021\n"
       ]
      },
      {
       "output_type": "stream",
       "stream": "stdout",
       "text": [
        "3500 Tue Sep 21 21:45:38 2021\n"
       ]
      },
      {
       "output_type": "stream",
       "stream": "stdout",
       "text": [
        "4000 Tue Sep 21 23:14:43 2021\n"
       ]
      },
      {
       "output_type": "stream",
       "stream": "stdout",
       "text": [
        "4500 Wed Sep 22 00:42:42 2021\n"
       ]
      },
      {
       "output_type": "stream",
       "stream": "stdout",
       "text": [
        "5000 Wed Sep 22 02:15:17 2021\n"
       ]
      },
      {
       "output_type": "stream",
       "stream": "stdout",
       "text": [
        "5500 Wed Sep 22 03:45:17 2021\n"
       ]
      },
      {
       "output_type": "stream",
       "stream": "stdout",
       "text": [
        "6000 Wed Sep 22 05:12:33 2021\n"
       ]
      }
     ],
     "prompt_number": 5
    },
    {
     "cell_type": "code",
     "collapsed": false,
     "input": [
      "df"
     ],
     "language": "python",
     "metadata": {},
     "outputs": [
      {
       "html": [
        "<div>\n",
        "<style scoped>\n",
        "    .dataframe tbody tr th:only-of-type {\n",
        "        vertical-align: middle;\n",
        "    }\n",
        "\n",
        "    .dataframe tbody tr th {\n",
        "        vertical-align: top;\n",
        "    }\n",
        "\n",
        "    .dataframe thead th {\n",
        "        text-align: right;\n",
        "    }\n",
        "</style>\n",
        "<table border=\"1\" class=\"dataframe\">\n",
        "  <thead>\n",
        "    <tr style=\"text-align: right;\">\n",
        "      <th></th>\n",
        "      <th>OrphaCode</th>\n",
        "      <th>Disease Name</th>\n",
        "      <th>Orpha Epi Type</th>\n",
        "      <th>Orpha Epi Class</th>\n",
        "      <th>Orpha Epi Rate</th>\n",
        "      <th>Orpha Loc</th>\n",
        "      <th>PMID</th>\n",
        "      <th>Title+Abstract</th>\n",
        "      <th>GARD Disease ID</th>\n",
        "      <th>Model Disease</th>\n",
        "      <th>Model Location</th>\n",
        "      <th>Epi Identifier</th>\n",
        "      <th>Epi Statistics</th>\n",
        "    </tr>\n",
        "  </thead>\n",
        "  <tbody>\n",
        "    <tr>\n",
        "      <th>0</th>\n",
        "      <td>166024</td>\n",
        "      <td>Multiple epiphyseal dysplasia, Al-Gazali type</td>\n",
        "      <td>Point prevalence</td>\n",
        "      <td>&lt;1 / 1 000 000</td>\n",
        "      <td>0.0</td>\n",
        "      <td>Worldwide</td>\n",
        "      <td>11389160</td>\n",
        "      <td>Localisation of a gene for an autosomal recess...</td>\n",
        "      <td>{GARD:0010756}</td>\n",
        "      <td>{multiple epiphyseal dysplasia}</td>\n",
        "      <td>{Worldwide}</td>\n",
        "      <td>{}</td>\n",
        "      <td>[]</td>\n",
        "    </tr>\n",
        "    <tr>\n",
        "      <th>1</th>\n",
        "      <td>166024</td>\n",
        "      <td>Multiple epiphyseal dysplasia, Al-Gazali type</td>\n",
        "      <td>Point prevalence</td>\n",
        "      <td>&lt;1 / 1 000 000</td>\n",
        "      <td>0.0</td>\n",
        "      <td>Worldwide</td>\n",
        "      <td>9689990</td>\n",
        "      <td>Autosomal recessive syndrome of macrocephaly, ...</td>\n",
        "      <td>{GARD:0010756}</td>\n",
        "      <td>{multiple epiphyseal dysplasia}</td>\n",
        "      <td>{Worldwide}</td>\n",
        "      <td>{}</td>\n",
        "      <td>[]</td>\n",
        "    </tr>\n",
        "    <tr>\n",
        "      <th>2</th>\n",
        "      <td>166032</td>\n",
        "      <td>Multiple epiphyseal dysplasia, with miniepiphyses</td>\n",
        "      <td>Point prevalence</td>\n",
        "      <td>&lt;1 / 1 000 000</td>\n",
        "      <td>0.0</td>\n",
        "      <td>Worldwide</td>\n",
        "      <td>15523498</td>\n",
        "      <td>Mutations in the known genes are not the major...</td>\n",
        "      <td>{GARD:0010756}</td>\n",
        "      <td>{Multiple epiphyseal dysplasia}</td>\n",
        "      <td>{Worldwide}</td>\n",
        "      <td>{}</td>\n",
        "      <td>[]</td>\n",
        "    </tr>\n",
        "    <tr>\n",
        "      <th>3</th>\n",
        "      <td>61</td>\n",
        "      <td>Alpha-mannosidosis</td>\n",
        "      <td>Prevalence at birth</td>\n",
        "      <td>&lt;1 / 1 000 000</td>\n",
        "      <td>0.09</td>\n",
        "      <td>Australia</td>\n",
        "      <td>9918480</td>\n",
        "      <td>Prevalence of lysosomal storage disorders. &lt;h4...</td>\n",
        "      <td>{GARD:0008233}</td>\n",
        "      <td>{Gaucher disease}</td>\n",
        "      <td>{australia}</td>\n",
        "      <td>{prevalence}</td>\n",
        "      <td>[1 per 57000 live births, 1 per 4 . 2 million ...</td>\n",
        "    </tr>\n",
        "    <tr>\n",
        "      <th>4</th>\n",
        "      <td>61</td>\n",
        "      <td>Alpha-mannosidosis</td>\n",
        "      <td>Prevalence at birth</td>\n",
        "      <td>1-9 / 1 000 000</td>\n",
        "      <td>0.13</td>\n",
        "      <td>Norway</td>\n",
        "      <td>7900112</td>\n",
        "      <td>[Alpha-mannosidosis]. Alpha-mannosidosis is a ...</td>\n",
        "      <td>{GARD:0006968}</td>\n",
        "      <td>{Alpha-mannosidosis, alpha-mannosidosis}</td>\n",
        "      <td>{troms\u00f8}</td>\n",
        "      <td>{}</td>\n",
        "      <td>[]</td>\n",
        "    </tr>\n",
        "    <tr>\n",
        "      <th>...</th>\n",
        "      <td>...</td>\n",
        "      <td>...</td>\n",
        "      <td>...</td>\n",
        "      <td>...</td>\n",
        "      <td>...</td>\n",
        "      <td>...</td>\n",
        "      <td>...</td>\n",
        "      <td>...</td>\n",
        "      <td>...</td>\n",
        "      <td>...</td>\n",
        "      <td>...</td>\n",
        "      <td>...</td>\n",
        "      <td>...</td>\n",
        "    </tr>\n",
        "    <tr>\n",
        "      <th>6377</th>\n",
        "      <td>99812</td>\n",
        "      <td>LIG4 syndrome</td>\n",
        "      <td>Point prevalence</td>\n",
        "      <td>&lt;1 / 1 000 000</td>\n",
        "      <td>0.0</td>\n",
        "      <td>Worldwide</td>\n",
        "      <td>27717373</td>\n",
        "      <td>DNA ligase IV syndrome; a review. DNA ligase I...</td>\n",
        "      <td>{GARD:0007628, GARD:0003603}</td>\n",
        "      <td>{severe combined immunodeficiency, microcephaly}</td>\n",
        "      <td>{Worldwide}</td>\n",
        "      <td>{}</td>\n",
        "      <td>[]</td>\n",
        "    </tr>\n",
        "    <tr>\n",
        "      <th>6378</th>\n",
        "      <td>99806</td>\n",
        "      <td>Oculootodental syndrome</td>\n",
        "      <td>Point prevalence</td>\n",
        "      <td>&lt;1 / 1 000 000</td>\n",
        "      <td>0.0</td>\n",
        "      <td>Worldwide</td>\n",
        "      <td>12147582</td>\n",
        "      <td>First genomic localization of oculo-oto-dental...</td>\n",
        "      <td>{}</td>\n",
        "      <td>{}</td>\n",
        "      <td>{Worldwide}</td>\n",
        "      <td>{}</td>\n",
        "      <td>[]</td>\n",
        "    </tr>\n",
        "    <tr>\n",
        "      <th>6379</th>\n",
        "      <td>99807</td>\n",
        "      <td>PEHO-like syndrome</td>\n",
        "      <td>Point prevalence</td>\n",
        "      <td>&lt;1 / 1 000 000</td>\n",
        "      <td>0.0</td>\n",
        "      <td>Worldwide</td>\n",
        "      <td>15968934</td>\n",
        "      <td>Progressive encephalopathy with edema, hypsarr...</td>\n",
        "      <td>{GARD:0004264, GARD:0010559}</td>\n",
        "      <td>{child, PEHO syndrome}</td>\n",
        "      <td>{Worldwide}</td>\n",
        "      <td>{}</td>\n",
        "      <td>[]</td>\n",
        "    </tr>\n",
        "    <tr>\n",
        "      <th>6380</th>\n",
        "      <td>99792</td>\n",
        "      <td>Dentin dysplasia-sclerotic bones syndrome</td>\n",
        "      <td>Point prevalence</td>\n",
        "      <td>&lt;1 / 1 000 000</td>\n",
        "      <td>0.0</td>\n",
        "      <td>Worldwide</td>\n",
        "      <td>264650</td>\n",
        "      <td>Dentine dysplasia with sclerotic bone and skel...</td>\n",
        "      <td>{}</td>\n",
        "      <td>{}</td>\n",
        "      <td>{Worldwide}</td>\n",
        "      <td>{}</td>\n",
        "      <td>[]</td>\n",
        "    </tr>\n",
        "    <tr>\n",
        "      <th>6381</th>\n",
        "      <td>99776</td>\n",
        "      <td>Mosaic trisomy 9</td>\n",
        "      <td>Point prevalence</td>\n",
        "      <td>&lt;1 / 1 000 000</td>\n",
        "      <td>0.0</td>\n",
        "      <td>Worldwide</td>\n",
        "      <td>22249800</td>\n",
        "      <td>New report of two patients with mosaic trisomy...</td>\n",
        "      <td>{GARD:0012074, GARD:0004272, GARD:0000043}</td>\n",
        "      <td>{oculo-auriculo-vertebral spectrum, Mosaic tri...</td>\n",
        "      <td>{Worldwide}</td>\n",
        "      <td>{}</td>\n",
        "      <td>[]</td>\n",
        "    </tr>\n",
        "  </tbody>\n",
        "</table>\n",
        "<p>6382 rows \u00d7 13 columns</p>\n",
        "</div>"
       ],
       "output_type": "pyout",
       "prompt_number": 6,
       "text": [
        "     OrphaCode                                       Disease Name  \\\n",
        "0       166024      Multiple epiphyseal dysplasia, Al-Gazali type   \n",
        "1       166024      Multiple epiphyseal dysplasia, Al-Gazali type   \n",
        "2       166032  Multiple epiphyseal dysplasia, with miniepiphyses   \n",
        "3           61                                 Alpha-mannosidosis   \n",
        "4           61                                 Alpha-mannosidosis   \n",
        "...        ...                                                ...   \n",
        "6377     99812                                      LIG4 syndrome   \n",
        "6378     99806                            Oculootodental syndrome   \n",
        "6379     99807                                 PEHO-like syndrome   \n",
        "6380     99792          Dentin dysplasia-sclerotic bones syndrome   \n",
        "6381     99776                                   Mosaic trisomy 9   \n",
        "\n",
        "           Orpha Epi Type  Orpha Epi Class Orpha Epi Rate  Orpha Loc  \\\n",
        "0        Point prevalence   <1 / 1 000 000            0.0  Worldwide   \n",
        "1        Point prevalence   <1 / 1 000 000            0.0  Worldwide   \n",
        "2        Point prevalence   <1 / 1 000 000            0.0  Worldwide   \n",
        "3     Prevalence at birth   <1 / 1 000 000           0.09  Australia   \n",
        "4     Prevalence at birth  1-9 / 1 000 000           0.13     Norway   \n",
        "...                   ...              ...            ...        ...   \n",
        "6377     Point prevalence   <1 / 1 000 000            0.0  Worldwide   \n",
        "6378     Point prevalence   <1 / 1 000 000            0.0  Worldwide   \n",
        "6379     Point prevalence   <1 / 1 000 000            0.0  Worldwide   \n",
        "6380     Point prevalence   <1 / 1 000 000            0.0  Worldwide   \n",
        "6381     Point prevalence   <1 / 1 000 000            0.0  Worldwide   \n",
        "\n",
        "          PMID                                     Title+Abstract  \\\n",
        "0     11389160  Localisation of a gene for an autosomal recess...   \n",
        "1      9689990  Autosomal recessive syndrome of macrocephaly, ...   \n",
        "2     15523498  Mutations in the known genes are not the major...   \n",
        "3      9918480  Prevalence of lysosomal storage disorders. <h4...   \n",
        "4      7900112  [Alpha-mannosidosis]. Alpha-mannosidosis is a ...   \n",
        "...        ...                                                ...   \n",
        "6377  27717373  DNA ligase IV syndrome; a review. DNA ligase I...   \n",
        "6378  12147582  First genomic localization of oculo-oto-dental...   \n",
        "6379  15968934  Progressive encephalopathy with edema, hypsarr...   \n",
        "6380    264650  Dentine dysplasia with sclerotic bone and skel...   \n",
        "6381  22249800  New report of two patients with mosaic trisomy...   \n",
        "\n",
        "                                 GARD Disease ID  \\\n",
        "0                                 {GARD:0010756}   \n",
        "1                                 {GARD:0010756}   \n",
        "2                                 {GARD:0010756}   \n",
        "3                                 {GARD:0008233}   \n",
        "4                                 {GARD:0006968}   \n",
        "...                                          ...   \n",
        "6377                {GARD:0007628, GARD:0003603}   \n",
        "6378                                          {}   \n",
        "6379                {GARD:0004264, GARD:0010559}   \n",
        "6380                                          {}   \n",
        "6381  {GARD:0012074, GARD:0004272, GARD:0000043}   \n",
        "\n",
        "                                          Model Disease Model Location  \\\n",
        "0                       {multiple epiphyseal dysplasia}    {Worldwide}   \n",
        "1                       {multiple epiphyseal dysplasia}    {Worldwide}   \n",
        "2                       {Multiple epiphyseal dysplasia}    {Worldwide}   \n",
        "3                                     {Gaucher disease}    {australia}   \n",
        "4              {Alpha-mannosidosis, alpha-mannosidosis}       {troms\u00f8}   \n",
        "...                                                 ...            ...   \n",
        "6377   {severe combined immunodeficiency, microcephaly}    {Worldwide}   \n",
        "6378                                                 {}    {Worldwide}   \n",
        "6379                             {child, PEHO syndrome}    {Worldwide}   \n",
        "6380                                                 {}    {Worldwide}   \n",
        "6381  {oculo-auriculo-vertebral spectrum, Mosaic tri...    {Worldwide}   \n",
        "\n",
        "     Epi Identifier                                     Epi Statistics  \n",
        "0                {}                                                 []  \n",
        "1                {}                                                 []  \n",
        "2                {}                                                 []  \n",
        "3      {prevalence}  [1 per 57000 live births, 1 per 4 . 2 million ...  \n",
        "4                {}                                                 []  \n",
        "...             ...                                                ...  \n",
        "6377             {}                                                 []  \n",
        "6378             {}                                                 []  \n",
        "6379             {}                                                 []  \n",
        "6380             {}                                                 []  \n",
        "6381             {}                                                 []  \n",
        "\n",
        "[6382 rows x 13 columns]"
       ]
      }
     ],
     "prompt_number": 6
    },
    {
     "cell_type": "code",
     "collapsed": false,
     "input": [
      "#Not going to remove the duplicate PMIDs because Orphanet has different stat, disease, loc, info for each duplicated entry.\n",
      "df.to_csv('Orphanet-Comparison-FINAL.csv', header = True,index=False, encoding='utf-8')\n",
      "print('DONE')"
     ],
     "language": "python",
     "metadata": {},
     "outputs": [
      {
       "output_type": "stream",
       "stream": "stdout",
       "text": [
        "DONE\n"
       ]
      }
     ],
     "prompt_number": 7
    }
   ],
   "metadata": {}
  }
 ]
}

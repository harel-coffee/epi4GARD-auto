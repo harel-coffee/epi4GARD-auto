{
 "cells": [
  {
   "cell_type": "markdown",
   "id": "f80debed",
   "metadata": {},
   "source": [
    "# Case Study\n",
    "### Purpose: Demonstrate the ability of the automated rare disease epidemiology extraction pipeline\n",
    "The pipeline is composed of multiple parts:\n",
    "1. User enters in a search term or list of search terms. For our purposes, this can be a GARD Disease ID (`int` or `str`) or any rare disease name.\n",
    "\n",
    "\n",
    "2. The autosearch function (in *extract_abs*) maps the input to all other synonyms of that disease (using the `GARD_dict` from `extract_abs.load_GARD_diseases()` which reformats information from `gard-id-name-synonyms.json`) and outputs a list of search terms.\n",
    "\n",
    "\n",
    "3. PubMed is searched through the NCBI and EBI API (`search_getAbs(searchterm_list, maxResults, filtering)` from *classify_abs*) and abstracts until the number of abstracts returned is >= maxResults or until results have been exhausted.\n",
    "\n",
    "\n",
    "4. `search_getAbs` has three options for filtering the abstracts. We utilize `'strict'` filtering *after* `int(maxResults)` abstracts have been gathered. Strict filtering must find at least one of the terms from the search term list in the abstract for it to be valid. This was implemented because the APIs are structured to minimize false negatives (gives results generously), thus there are often many unrelated, false positive abstracts returned by the APIs, particularly the EBI API.\n",
    "\n",
    "\n",
    "5. The relevant abstracts are then passed through a long short-term memory recurrent neural network (LSTM RNN) in *classify_abs*. Abstracts with >0.5 probability of having epidemiologic content are sent to the BioBERT NER model and the `get_diseases` function in *extract_abs*\n",
    "\n",
    "\n",
    "6. The NER model identifies epidemiologic type (`EPI`); epidemiologic rate (`STAT`); location (`LOC`); date (`DATE`); biological sex (`SEX`); and ethnicity/race/nationality (`ETHN`).\n",
    "\n",
    "\n",
    "7. The `get_diseases` algorithm identifies rare disease names & synonyms (`DIS`) and GARD IDs (`IDS`) in the abtract using `GARD_dict` and `max_length` (the number of words in the longest disease name/synonym in the `GARD_dict`). By capping the function at `max_length`, the algorithm goes from *O(n<sup>2</sup>)* to *O(n)* time"
   ]
  },
  {
   "cell_type": "code",
   "execution_count": 1,
   "id": "ded9cea9",
   "metadata": {},
   "outputs": [],
   "source": [
    "import pandas as pd\n",
    "import classify_abs\n",
    "#classify_abs is a dependency for extract_abs\n",
    "import extract_abs\n",
    "pd.set_option('display.max_colwidth', None)\n",
    "#from IPython.core.display import display, HTML\n",
    "#display(HTML(\"<style>.container { width:98% !important; }</style>\"))"
   ]
  },
  {
   "cell_type": "markdown",
   "id": "24e5ee4c",
   "metadata": {},
   "source": [
    "Load the model and pipeline dependencies once"
   ]
  },
  {
   "cell_type": "code",
   "execution_count": 2,
   "id": "892671d6",
   "metadata": {
    "scrolled": true
   },
   "outputs": [
    {
     "name": "stderr",
     "output_type": "stream",
     "text": [
      "/home/wzkariampuzha/.local/lib/python3.6/site-packages/spacy/util.py:732: UserWarning: [W095] Model 'en_ner_bc5cdr_md' (0.4.0) was trained with spaCy v3.0 and may not be 100% compatible with the current version (3.1.2). If you see errors or degraded performance, download a newer compatible model or retrain your custom model with the current spaCy version. For more details and available updates, run: python -m spacy validate\n",
      "  warnings.warn(warn_msg)\n",
      "/home/wzkariampuzha/.local/lib/python3.6/site-packages/spacy/util.py:732: UserWarning: [W095] Model 'en_ner_bionlp13cg_md' (0.4.0) was trained with spaCy v3.0 and may not be 100% compatible with the current version (3.1.2). If you see errors or degraded performance, download a newer compatible model or retrain your custom model with the current spaCy version. For more details and available updates, run: python -m spacy validate\n",
      "  warnings.warn(warn_msg)\n"
     ]
    },
    {
     "name": "stdout",
     "output_type": "stream",
     "text": [
      "WARNING:tensorflow:SavedModel saved prior to TF 2.5 detected when loading Keras model. Please ensure that you are saving the model with model.save() or tf.keras.models.save_model(), *NOT* tf.saved_model.save(). To confirm, there should be a file named \"keras_metadata.pb\" in the SavedModel directory.\n"
     ]
    }
   ],
   "source": [
    "#LSTM RNN Epi Classifier Model\n",
    "classify_model_vars = classify_abs.init_classify_model()\n",
    "\n",
    "#GARD Dictionary - For filtering and exact match disease/GARD ID identification\n",
    "GARD_dict, max_length = extract_abs.load_GARD_diseases()\n",
    "\n",
    "#BioBERT-based NER pipeline, open `entities` to see \n",
    "NER_pipeline, entity_classes = extract_abs.init_NER_pipeline()\n",
    "\n",
    "#strict filtering must find at least one of the terms in the search term list in the abstract\n",
    "filtering = 'strict'\n",
    "\n",
    "#We will not be extracting diseases in the case study\n",
    "extract_diseases = False"
   ]
  },
  {
   "cell_type": "code",
   "execution_count": 3,
   "id": "95e7c211",
   "metadata": {},
   "outputs": [],
   "source": [
    "def search(term,max_results,): \n",
    "    return extract_abs.search_term_extraction(term, max_results, filtering, #filtering options are 'strict','lenient'(default), 'none'\n",
    "                                              NER_pipeline, entity_classes, \n",
    "                                              extract_diseases, GARD_dict, max_length, \n",
    "                                              classify_model_vars)"
   ]
  },
  {
   "cell_type": "code",
   "execution_count": 4,
   "id": "be8616ab",
   "metadata": {
    "scrolled": false
   },
   "outputs": [
    {
     "name": "stdout",
     "output_type": "stream",
     "text": [
      "SEARCH TERM MATCHED TO GARD DICTIONARY. SEARCHING FOR:  ['homocystinuria due to cystathionine beta-synthase deficiency', 'cystathionine beta-synthase deficiency', 'homocystinuria due to cbs deficiency', 'classic homocystinuria', 'cbs deficiency']\n",
      "Found 60 PMIDs. Gathered 25 Relevant Abstracts.\n"
     ]
    },
    {
     "name": "stderr",
     "output_type": "stream",
     "text": [
      "Asking to truncate to max_length but no maximum length is provided and the model has no predefined maximum length. Default to no truncation.\n"
     ]
    },
    {
     "name": "stdout",
     "output_type": "stream",
     "text": [
      "2 abstracts classified as epidemiological.\n"
     ]
    },
    {
     "data": {
      "text/html": [
       "<div>\n",
       "<style scoped>\n",
       "    .dataframe tbody tr th:only-of-type {\n",
       "        vertical-align: middle;\n",
       "    }\n",
       "\n",
       "    .dataframe tbody tr th {\n",
       "        vertical-align: top;\n",
       "    }\n",
       "\n",
       "    .dataframe thead th {\n",
       "        text-align: right;\n",
       "    }\n",
       "</style>\n",
       "<table border=\"1\" class=\"dataframe\">\n",
       "  <thead>\n",
       "    <tr style=\"text-align: right;\">\n",
       "      <th></th>\n",
       "      <th>PMID</th>\n",
       "      <th>ABSTRACT</th>\n",
       "      <th>EPI_PROB</th>\n",
       "      <th>IsEpi</th>\n",
       "      <th>EPI</th>\n",
       "      <th>STAT</th>\n",
       "      <th>LOC</th>\n",
       "      <th>DATE</th>\n",
       "      <th>SEX</th>\n",
       "      <th>ETHN</th>\n",
       "    </tr>\n",
       "  </thead>\n",
       "  <tbody>\n",
       "    <tr>\n",
       "      <th>0</th>\n",
       "      <td>34449519</td>\n",
       "      <td>Early Diagnosis of Classic Homocystinuria in Kuwait through Newborn Screening: A 6-Year Experience. Kuwait is a small Arabian Gulf country with a high rate of consanguinity and where a national newborn screening program was expanded in October 2014 to include a wide range of endocrine and metabolic disorders. A retrospective study conducted between January 2015 and December 2020 revealed a total of 304,086 newborns have been screened in Kuwait. Six newborns were diagnosed with classic homocystinuria with an incidence of 1:50,000, which is not as high as in Qatar but higher than the global incidence. Molecular testing for five of them has revealed three previously reported pathogenic variants in the &lt;i&gt;CBS&lt;/i&gt; gene, c.969G&gt;A, p.(Trp323Ter); c.982G&gt;A, p.(Asp328Asn); and the Qatari founder variant c.1006C&gt;T, p.(Arg336Cys). This is the first study to review the screening of newborns in Kuwait for classic homocystinuria, starting with the detection of elevated blood methionine and providing a follow-up strategy for positive results, including plasma total homocysteine and amino acid analyses. Further, we have demonstrated an increase in the specificity of the current newborn screening test for classic homocystinuria by including the methionine to phenylalanine ratio along with the elevated methionine blood levels in first-tier testing. Here, we provide evidence that the newborn screening in Kuwait has led to the early detection of classic homocystinuria cases and enabled the affected individuals to lead active and productive lives.</td>\n",
       "      <td>0.985902</td>\n",
       "      <td>True</td>\n",
       "      <td>[incidence]</td>\n",
       "      <td>[1 : 50 , 000]</td>\n",
       "      <td>[ku, wai, bian gulf country, qa, tar, global]</td>\n",
       "      <td>[oct, ober 2014, between january 2015 and december 2020]</td>\n",
       "      <td>None</td>\n",
       "      <td>[ara, qa, tar]</td>\n",
       "    </tr>\n",
       "    <tr>\n",
       "      <th>1</th>\n",
       "      <td>20567906</td>\n",
       "      <td>Vascular presentation of cystathionine beta-synthase deficiency in adulthood. Several recent studies describing a solely vascular presentation of cystathionine beta-synthase (CBS) deficiency in adulthood prompted us to analyze the frequency of patients manifesting with vascular complications in the Czech Republic. Between 1980 and 2009, a total of 20 Czech patients with CBS deficiency have been diagnosed yielding an incidence of 1:311,000. These patients were divided into three groups based on symptoms leading to diagnosis: those with vascular complications, with connective tissue manifestation and with neurological presentation. A vascular event such as a clinical feature leading to diagnosis of homocystinuria was present in five patients, while two of them had no other symptoms typical for CBS deficiency at the time of diagnosis. All patients with the vascular manifestation were diagnosed only during the past decade. The median age of diagnosis was 29 years in the vascular, 11.5 years in the connective tissue and 4.5 years in the neurological group. The ratio of pyridoxine responsive to nonresponsive patients was higher in the vascular (4 of 5 patients) and connective tissue groups (6 of 7 patients) than in the neurological group (2 of 8 patients). Mutation c.833T&gt;C (p.I278T) was frequent in patients with vascular (6/10 alleles) and connective tissue presentation (8/14 alleles), while it was not present in patients with neurological involvement (0/16 alleles). During the last decade, we have observed patients with homocystinuria diagnosed solely due to vascular events; this milder form of homocystinuria usually manifests at greater ages, has a high ratio of pyridoxine responsiveness/nonresponsiveness, and the mutation c.833T&gt;C (p.I278T) is often present.</td>\n",
       "      <td>0.861598</td>\n",
       "      <td>True</td>\n",
       "      <td>[incidence]</td>\n",
       "      <td>[1 : 311 , 000]</td>\n",
       "      <td>[the, czech republic]</td>\n",
       "      <td>[between 1980 and 2009]</td>\n",
       "      <td>None</td>\n",
       "      <td>[cz]</td>\n",
       "    </tr>\n",
       "  </tbody>\n",
       "</table>\n",
       "</div>"
      ],
      "text/plain": [
       "       PMID  \\\n",
       "0  34449519   \n",
       "1  20567906   \n",
       "\n",
       "                                                                                                                                                                                                                                                                                                                                                                                                                                                                                                                                                                                                                                                                                                                                                                                                                                                                                                                                                                                                                                                                                                                                                                                                                                                                                                                                                                                                                                                                                                                                                                                                                                                                                                                                                                                                                                                     ABSTRACT  \\\n",
       "0                                                                                                                                                                                                                                            Early Diagnosis of Classic Homocystinuria in Kuwait through Newborn Screening: A 6-Year Experience. Kuwait is a small Arabian Gulf country with a high rate of consanguinity and where a national newborn screening program was expanded in October 2014 to include a wide range of endocrine and metabolic disorders. A retrospective study conducted between January 2015 and December 2020 revealed a total of 304,086 newborns have been screened in Kuwait. Six newborns were diagnosed with classic homocystinuria with an incidence of 1:50,000, which is not as high as in Qatar but higher than the global incidence. Molecular testing for five of them has revealed three previously reported pathogenic variants in the <i>CBS</i> gene, c.969G>A, p.(Trp323Ter); c.982G>A, p.(Asp328Asn); and the Qatari founder variant c.1006C>T, p.(Arg336Cys). This is the first study to review the screening of newborns in Kuwait for classic homocystinuria, starting with the detection of elevated blood methionine and providing a follow-up strategy for positive results, including plasma total homocysteine and amino acid analyses. Further, we have demonstrated an increase in the specificity of the current newborn screening test for classic homocystinuria by including the methionine to phenylalanine ratio along with the elevated methionine blood levels in first-tier testing. Here, we provide evidence that the newborn screening in Kuwait has led to the early detection of classic homocystinuria cases and enabled the affected individuals to lead active and productive lives.   \n",
       "1  Vascular presentation of cystathionine beta-synthase deficiency in adulthood. Several recent studies describing a solely vascular presentation of cystathionine beta-synthase (CBS) deficiency in adulthood prompted us to analyze the frequency of patients manifesting with vascular complications in the Czech Republic. Between 1980 and 2009, a total of 20 Czech patients with CBS deficiency have been diagnosed yielding an incidence of 1:311,000. These patients were divided into three groups based on symptoms leading to diagnosis: those with vascular complications, with connective tissue manifestation and with neurological presentation. A vascular event such as a clinical feature leading to diagnosis of homocystinuria was present in five patients, while two of them had no other symptoms typical for CBS deficiency at the time of diagnosis. All patients with the vascular manifestation were diagnosed only during the past decade. The median age of diagnosis was 29 years in the vascular, 11.5 years in the connective tissue and 4.5 years in the neurological group. The ratio of pyridoxine responsive to nonresponsive patients was higher in the vascular (4 of 5 patients) and connective tissue groups (6 of 7 patients) than in the neurological group (2 of 8 patients). Mutation c.833T>C (p.I278T) was frequent in patients with vascular (6/10 alleles) and connective tissue presentation (8/14 alleles), while it was not present in patients with neurological involvement (0/16 alleles). During the last decade, we have observed patients with homocystinuria diagnosed solely due to vascular events; this milder form of homocystinuria usually manifests at greater ages, has a high ratio of pyridoxine responsiveness/nonresponsiveness, and the mutation c.833T>C (p.I278T) is often present.   \n",
       "\n",
       "   EPI_PROB IsEpi          EPI             STAT  \\\n",
       "0  0.985902  True  [incidence]   [1 : 50 , 000]   \n",
       "1  0.861598  True  [incidence]  [1 : 311 , 000]   \n",
       "\n",
       "                                             LOC  \\\n",
       "0  [ku, wai, bian gulf country, qa, tar, global]   \n",
       "1                          [the, czech republic]   \n",
       "\n",
       "                                                       DATE   SEX  \\\n",
       "0  [oct, ober 2014, between january 2015 and december 2020]  None   \n",
       "1                                   [between 1980 and 2009]  None   \n",
       "\n",
       "             ETHN  \n",
       "0  [ara, qa, tar]  \n",
       "1            [cz]  "
      ]
     },
     "execution_count": 4,
     "metadata": {},
     "output_type": "execute_result"
    }
   ],
   "source": [
    "a = search(6667,60)\n",
    "a"
   ]
  },
  {
   "cell_type": "code",
   "execution_count": 5,
   "id": "7e890e58",
   "metadata": {
    "scrolled": false
   },
   "outputs": [
    {
     "name": "stdout",
     "output_type": "stream",
     "text": [
      "SEARCH TERM MATCHED TO GARD DICTIONARY. SEARCHING FOR:  ['growth restriction-aminoaciduria-cholestasis-iron overload-lactic acidosis-early death syndrome', 'growth retardation, aminoaciduria, cholestasis, iron overload, lactic acidosis and early death', 'growth delay-aminoaciduria-cholestasis-iron overload-lactic acidosis-early death syndrome', 'finnish lactic acidosis with hepatic hemosiderosis', 'finnish lethal neonatal metabolic syndrome', 'gracile syndrome', 'fellman syndrome', 'fellman disease']\n",
      "Found 50 PMIDs. Gathered 11 Relevant Abstracts.\n",
      "1 abstracts classified as epidemiological.\n"
     ]
    },
    {
     "data": {
      "text/html": [
       "<div>\n",
       "<style scoped>\n",
       "    .dataframe tbody tr th:only-of-type {\n",
       "        vertical-align: middle;\n",
       "    }\n",
       "\n",
       "    .dataframe tbody tr th {\n",
       "        vertical-align: top;\n",
       "    }\n",
       "\n",
       "    .dataframe thead th {\n",
       "        text-align: right;\n",
       "    }\n",
       "</style>\n",
       "<table border=\"1\" class=\"dataframe\">\n",
       "  <thead>\n",
       "    <tr style=\"text-align: right;\">\n",
       "      <th></th>\n",
       "      <th>PMID</th>\n",
       "      <th>ABSTRACT</th>\n",
       "      <th>EPI_PROB</th>\n",
       "      <th>IsEpi</th>\n",
       "      <th>EPI</th>\n",
       "      <th>STAT</th>\n",
       "      <th>LOC</th>\n",
       "      <th>DATE</th>\n",
       "      <th>SEX</th>\n",
       "      <th>ETHN</th>\n",
       "    </tr>\n",
       "  </thead>\n",
       "  <tbody>\n",
       "    <tr>\n",
       "      <th>0</th>\n",
       "      <td>12547234</td>\n",
       "      <td>The GRACILE syndrome, a neonatal lethal metabolic disorder with iron overload. GRACILE syndrome (Fellman syndrome, MIM 603358), an autosomal recessive metabolic disorder of the Finnish disease heritage, has been diagnosed in 25 infants of 18 families. The incidence is at least 1/47,000 in Finland. The main findings are fetal growth retardation, Fanconi type aminoaciduria, cholestasis, iron overload (liver hemosiderosis, hyperferritinemia, hypotransferrinemia, increased transferrin iron saturation, and free plasma iron), profound lactic acidosis, and early death. The pathophysiology of the metabolic disturbance is unsolved. No significant deficiency of complex III activity of respiratory chain has been found, although we recently showed that the underlying genetic cause is a missense mutation (S78G) in the BCS1L gene and other mutations in that gene have been associated with complex III deficiency. BCS1L encodes a mitochondrial protein, acting as a chaperone in the assembly of complex III. Iron accumulation in liver, a typical feature being less abundant with increasing age, might be a primary abnormality or a secondary phenomenon due to liver dysfunction. In order to decrease the iron overload, three infants have been repeatedly treated with apotransferrin followed by exchange transfusion. Improvement in iron biochemistry occurred, but no clear beneficial effect on the clinical condition was found. Further studies will elucidate the role of iron in the pathophysiology of the disease.</td>\n",
       "      <td>0.9975</td>\n",
       "      <td>True</td>\n",
       "      <td>[incidence]</td>\n",
       "      <td>[least, 1 / 47 , 000]</td>\n",
       "      <td>[finland]</td>\n",
       "      <td>None</td>\n",
       "      <td>None</td>\n",
       "      <td>[fin]</td>\n",
       "    </tr>\n",
       "  </tbody>\n",
       "</table>\n",
       "</div>"
      ],
      "text/plain": [
       "       PMID  \\\n",
       "0  12547234   \n",
       "\n",
       "                                                                                                                                                                                                                                                                                                                                                                                                                                                                                                                                                                                                                                                                                                                                                                                                                                                                                                                                                                                                                                                                                                                                                                                                                                                                                                                                                                                                                                                                                                                                                               ABSTRACT  \\\n",
       "0  The GRACILE syndrome, a neonatal lethal metabolic disorder with iron overload. GRACILE syndrome (Fellman syndrome, MIM 603358), an autosomal recessive metabolic disorder of the Finnish disease heritage, has been diagnosed in 25 infants of 18 families. The incidence is at least 1/47,000 in Finland. The main findings are fetal growth retardation, Fanconi type aminoaciduria, cholestasis, iron overload (liver hemosiderosis, hyperferritinemia, hypotransferrinemia, increased transferrin iron saturation, and free plasma iron), profound lactic acidosis, and early death. The pathophysiology of the metabolic disturbance is unsolved. No significant deficiency of complex III activity of respiratory chain has been found, although we recently showed that the underlying genetic cause is a missense mutation (S78G) in the BCS1L gene and other mutations in that gene have been associated with complex III deficiency. BCS1L encodes a mitochondrial protein, acting as a chaperone in the assembly of complex III. Iron accumulation in liver, a typical feature being less abundant with increasing age, might be a primary abnormality or a secondary phenomenon due to liver dysfunction. In order to decrease the iron overload, three infants have been repeatedly treated with apotransferrin followed by exchange transfusion. Improvement in iron biochemistry occurred, but no clear beneficial effect on the clinical condition was found. Further studies will elucidate the role of iron in the pathophysiology of the disease.   \n",
       "\n",
       "   EPI_PROB IsEpi          EPI                   STAT        LOC  DATE   SEX  \\\n",
       "0    0.9975  True  [incidence]  [least, 1 / 47 , 000]  [finland]  None  None   \n",
       "\n",
       "    ETHN  \n",
       "0  [fin]  "
      ]
     },
     "execution_count": 5,
     "metadata": {},
     "output_type": "execute_result"
    }
   ],
   "source": [
    "b = search('GRACILE syndrome',50)\n",
    "b"
   ]
  },
  {
   "cell_type": "code",
   "execution_count": 6,
   "id": "87a191c9",
   "metadata": {
    "scrolled": false
   },
   "outputs": [
    {
     "name": "stdout",
     "output_type": "stream",
     "text": [
      "SEARCH TERM MATCHED TO GARD DICTIONARY. SEARCHING FOR:  ['phenylalanine hydroxylase deficiency', 'oligophrenia phenylpyruvica', 'phenylketonuria', 'folling disease']\n",
      "Found 50 PMIDs. Gathered 44 Relevant Abstracts.\n",
      "3 abstracts classified as epidemiological.\n"
     ]
    },
    {
     "data": {
      "text/html": [
       "<div>\n",
       "<style scoped>\n",
       "    .dataframe tbody tr th:only-of-type {\n",
       "        vertical-align: middle;\n",
       "    }\n",
       "\n",
       "    .dataframe tbody tr th {\n",
       "        vertical-align: top;\n",
       "    }\n",
       "\n",
       "    .dataframe thead th {\n",
       "        text-align: right;\n",
       "    }\n",
       "</style>\n",
       "<table border=\"1\" class=\"dataframe\">\n",
       "  <thead>\n",
       "    <tr style=\"text-align: right;\">\n",
       "      <th></th>\n",
       "      <th>PMID</th>\n",
       "      <th>ABSTRACT</th>\n",
       "      <th>EPI_PROB</th>\n",
       "      <th>IsEpi</th>\n",
       "      <th>EPI</th>\n",
       "      <th>STAT</th>\n",
       "      <th>LOC</th>\n",
       "      <th>DATE</th>\n",
       "      <th>SEX</th>\n",
       "      <th>ETHN</th>\n",
       "    </tr>\n",
       "  </thead>\n",
       "  <tbody>\n",
       "    <tr>\n",
       "      <th>2</th>\n",
       "      <td>34082800</td>\n",
       "      <td>Birth prevalence of phenylalanine hydroxylase deficiency: a systematic literature review and meta-analysis. &lt;h4&gt;Background&lt;/h4&gt;Phenylalanine hydroxylase (PAH) deficiency is an autosomal recessive disorder that results in elevated concentrations of phenylalanine (Phe) in the blood. If left untreated, the accumulation of Phe can result in profound neurocognitive disability. The objective of this systematic literature review and meta-analysis was to estimate the global birth prevalence of PAH deficiency from newborn screening studies and to estimate regional differences, overall and for various clinically relevant Phe cutoff values used in confirmatory testing.&lt;h4&gt;Methods&lt;/h4&gt;The protocol for this literature review was registered with PROSPERO (International prospective register of systematic reviews). Pubmed and Embase database searches were used to identify studies that reported the birth prevalence of PAH deficiency. Only studies including numeric birth prevalence reports of confirmed PAH deficiency were included.&lt;h4&gt;Results&lt;/h4&gt;From the 85 publications included in the review, 238 birth prevalence estimates were extracted. After excluding prevalence estimates that did not meet quality assessment criteria or because of temporal and regional overlap, estimates from 45 publications were included in the meta-analysis. The global birth prevalence of PAH deficiency, estimated by weighting regional birth prevalences relative to their share of the population of all regions included in the study, was 0.64 (95% confidence interval [CI] 0.53-0.75) per 10,000 births and ranged from 0.03 (95% CI 0.02-0.05) per 10,000 births in Southeast Asia to 1.18 (95% CI 0.64-1.87) per 10,000 births in the Middle East/North Africa. Regionally weighted global birth prevalences per 10,000 births by confirmatory test Phe cutoff values were 0.96 (95% CI 0.50-1.42) for the Phe cutoff value of 360 ± 100 µmol/L; 0.50 (95% CI 0.37-0.64) for the Phe cutoff value of 600 ± 100 µmol/L; and 0.30 (95% CI 0.20-0.40) for the Phe cutoff value of 1200 ± 200 µmol/L.&lt;h4&gt;Conclusions&lt;/h4&gt;Substantial regional variation in the birth prevalence of PAH deficiency was observed in this systematic literature review and meta-analysis of published evidence from newborn screening. The precision of the prevalence estimates is limited by relatively small sample sizes, despite widespread and longstanding newborn screening in much of the world.</td>\n",
       "      <td>0.997966</td>\n",
       "      <td>True</td>\n",
       "      <td>[birth prevalence, prevalence, birth prevalence estimates, prevalence estimates, birth prevalences]</td>\n",
       "      <td>[0 . 64, per 10 , 000 births, 0 . 03, 1 . 18]</td>\n",
       "      <td>[global, southeast asia, the middle east / north africa]</td>\n",
       "      <td>None</td>\n",
       "      <td>None</td>\n",
       "      <td>None</td>\n",
       "    </tr>\n",
       "    <tr>\n",
       "      <th>0</th>\n",
       "      <td>35023679</td>\n",
       "      <td>Frequency of PAH Mutations Among Classic Phenylketon Urea Patients in Mazandaran and Golestan Provinces, North of Iran. &lt;h4&gt;Background&lt;/h4&gt;Phenylketonuria (PKU) is the most common aminoacidopathy with an autosomal recessive inheritance pattern. A global PKU prevalence is estimated about 6.002 in 100,000 newborns. In Iran, the prevalence of PKU is estimated at about 1 in 4,698, and it shows an increasing trend from north (0.0015%) to south (0.02%) of the country. Untreated PKU causes mental retardation, microcephaly, and seizure. PAH gene mutations located at chromosome 12q23 are responsible for the classical type of this disease. The spectrum of PAH mutations is varied in different ethnicities and different parts of the world. The aim of this study was to investigate the frequency of PAH mutation in the Mazandaran province, which could be useful for genetic counseling and prenatal diagnosis.&lt;h4&gt;Methods&lt;/h4&gt;A total of 66 individuals from 33 families from two provinces (9 families from Golestan and 24 families from Mazandaran) from north of Iran participated in this study. After genomic DNA extraction, PAH gene analysis was carried out using DNA sequencing of both coding and non-coding regions by ABI 3130XL genetic analyzer.&lt;h4&gt;Results&lt;/h4&gt;Twenty-six different mutations were identified in the PAH gene in this study. Four mutations including IVS10-11 (c.1066-11G&gt;A), c.727C&gt;T (p.Arg243X), c.898G&gt;T (p.Ala300Ser), and c.601C&gt;T (p.His201Tyr) were the most common mutations with 37.48% frequency in Mazandaran province. Most frequent mutations in Golestan province were IVSI0-11 (c.1066-11G&gt;A), c.722delG (p.Arg241fs), c.842C&gt;T (p.Pro281Leu), and IVSII+5 (G&gt;A) with frequency 58.57%.&lt;h4&gt;Conclusions&lt;/h4&gt;The results from the present study verify heterogeneity of the PAH gene and may help to diagnose tests for carrier detection and prenatal diagnosis of the PKU disease in Iranian population.</td>\n",
       "      <td>0.996785</td>\n",
       "      <td>True</td>\n",
       "      <td>[prevalence]</td>\n",
       "      <td>[6 . 002 in 100 , 000 newborns, 1 in 4 , 698, %]</td>\n",
       "      <td>[of iran, global, ira, ma, dar, north, iran]</td>\n",
       "      <td>None</td>\n",
       "      <td>None</td>\n",
       "      <td>[ira]</td>\n",
       "    </tr>\n",
       "    <tr>\n",
       "      <th>1</th>\n",
       "      <td>32893076</td>\n",
       "      <td>Spectrum of PAH gene mutations and genotype-phenotype correlation in patients with phenylalanine hydroxylase deficiency from Shanxi province. &lt;h4&gt;Background&lt;/h4&gt;Phenylalanine hydroxylase deficiency (PAHD) is an autosomal recessive inborn error that affects phenylalanine (Phe) metabolism. It has a complex phenotype with many variants and genotypes among different populations. Shanxi province is a high-prevalence area of PAHD in China.&lt;h4&gt;Methods&lt;/h4&gt;In this study, eighty-nine PAHD patients were subjected to genetic testing using Sanger sequencing, followed by multiplex ligation-dependent probe amplification analysis (MLPA). Allelic and genotypic phenotype values (APV and GPV, respectively) were used for genotype-based phenotypic prediction.&lt;h4&gt;Results&lt;/h4&gt;Fifty-one types of variants, including three novel forms, were identified. The predominant variant was p.R243Q (22.09%), followed by p.R53H (10.47%), p.EX6-96A &gt; G (9.30%), p.V399V (5.23%) and p.R413P (3.49%). Notably, mild hyperphenylalaninemia (MHP) has a high prevalence in this region (up to 45.76%), and the variant p.R53H was solely observed in patients of MHP. According to the genotype-phenotype prediction, the APV/GPV system was well correlated with the metabolic phenotype of most PAHD patients.&lt;h4&gt;Conclusion&lt;/h4&gt;We have systematically constructed the mutational and phenotypic spectrum of PAH in Shanxi province. Hence, this study will help to further understand the genotype-phenotype associations in PAHD patients, and it may offer more reliable genetic counseling and management.</td>\n",
       "      <td>0.842657</td>\n",
       "      <td>True</td>\n",
       "      <td>[prevalence]</td>\n",
       "      <td>None</td>\n",
       "      <td>[shanxi province, chin, a, shan, province]</td>\n",
       "      <td>None</td>\n",
       "      <td>None</td>\n",
       "      <td>None</td>\n",
       "    </tr>\n",
       "  </tbody>\n",
       "</table>\n",
       "</div>"
      ],
      "text/plain": [
       "       PMID  \\\n",
       "2  34082800   \n",
       "0  35023679   \n",
       "1  32893076   \n",
       "\n",
       "                                                                                                                                                                                                                                                                                                                                                                                                                                                                                                                                                                                                                                                                                                                                                                                                                                                                                                                                                                                                                                                                                                                                                                                                                                                                                                                                                                                                                                                                                                                                                                                                                                                                                                                                                                                                                                                                                                                                                                                                                                                                                                                                                                                                                                                                                                                                                                                                                                                                                                                    ABSTRACT  \\\n",
       "2  Birth prevalence of phenylalanine hydroxylase deficiency: a systematic literature review and meta-analysis. <h4>Background</h4>Phenylalanine hydroxylase (PAH) deficiency is an autosomal recessive disorder that results in elevated concentrations of phenylalanine (Phe) in the blood. If left untreated, the accumulation of Phe can result in profound neurocognitive disability. The objective of this systematic literature review and meta-analysis was to estimate the global birth prevalence of PAH deficiency from newborn screening studies and to estimate regional differences, overall and for various clinically relevant Phe cutoff values used in confirmatory testing.<h4>Methods</h4>The protocol for this literature review was registered with PROSPERO (International prospective register of systematic reviews). Pubmed and Embase database searches were used to identify studies that reported the birth prevalence of PAH deficiency. Only studies including numeric birth prevalence reports of confirmed PAH deficiency were included.<h4>Results</h4>From the 85 publications included in the review, 238 birth prevalence estimates were extracted. After excluding prevalence estimates that did not meet quality assessment criteria or because of temporal and regional overlap, estimates from 45 publications were included in the meta-analysis. The global birth prevalence of PAH deficiency, estimated by weighting regional birth prevalences relative to their share of the population of all regions included in the study, was 0.64 (95% confidence interval [CI] 0.53-0.75) per 10,000 births and ranged from 0.03 (95% CI 0.02-0.05) per 10,000 births in Southeast Asia to 1.18 (95% CI 0.64-1.87) per 10,000 births in the Middle East/North Africa. Regionally weighted global birth prevalences per 10,000 births by confirmatory test Phe cutoff values were 0.96 (95% CI 0.50-1.42) for the Phe cutoff value of 360 ± 100 µmol/L; 0.50 (95% CI 0.37-0.64) for the Phe cutoff value of 600 ± 100 µmol/L; and 0.30 (95% CI 0.20-0.40) for the Phe cutoff value of 1200 ± 200 µmol/L.<h4>Conclusions</h4>Substantial regional variation in the birth prevalence of PAH deficiency was observed in this systematic literature review and meta-analysis of published evidence from newborn screening. The precision of the prevalence estimates is limited by relatively small sample sizes, despite widespread and longstanding newborn screening in much of the world.   \n",
       "0                                                                                                                                                                                                                                                                                                                                                                                                                                                                                                                                       Frequency of PAH Mutations Among Classic Phenylketon Urea Patients in Mazandaran and Golestan Provinces, North of Iran. <h4>Background</h4>Phenylketonuria (PKU) is the most common aminoacidopathy with an autosomal recessive inheritance pattern. A global PKU prevalence is estimated about 6.002 in 100,000 newborns. In Iran, the prevalence of PKU is estimated at about 1 in 4,698, and it shows an increasing trend from north (0.0015%) to south (0.02%) of the country. Untreated PKU causes mental retardation, microcephaly, and seizure. PAH gene mutations located at chromosome 12q23 are responsible for the classical type of this disease. The spectrum of PAH mutations is varied in different ethnicities and different parts of the world. The aim of this study was to investigate the frequency of PAH mutation in the Mazandaran province, which could be useful for genetic counseling and prenatal diagnosis.<h4>Methods</h4>A total of 66 individuals from 33 families from two provinces (9 families from Golestan and 24 families from Mazandaran) from north of Iran participated in this study. After genomic DNA extraction, PAH gene analysis was carried out using DNA sequencing of both coding and non-coding regions by ABI 3130XL genetic analyzer.<h4>Results</h4>Twenty-six different mutations were identified in the PAH gene in this study. Four mutations including IVS10-11 (c.1066-11G>A), c.727C>T (p.Arg243X), c.898G>T (p.Ala300Ser), and c.601C>T (p.His201Tyr) were the most common mutations with 37.48% frequency in Mazandaran province. Most frequent mutations in Golestan province were IVSI0-11 (c.1066-11G>A), c.722delG (p.Arg241fs), c.842C>T (p.Pro281Leu), and IVSII+5 (G>A) with frequency 58.57%.<h4>Conclusions</h4>The results from the present study verify heterogeneity of the PAH gene and may help to diagnose tests for carrier detection and prenatal diagnosis of the PKU disease in Iranian population.   \n",
       "1                                                                                                                                                                                                                                                                                                                                                                                                                                                                                                                                                                                                                                                                                                                                                                                                                                                                                                   Spectrum of PAH gene mutations and genotype-phenotype correlation in patients with phenylalanine hydroxylase deficiency from Shanxi province. <h4>Background</h4>Phenylalanine hydroxylase deficiency (PAHD) is an autosomal recessive inborn error that affects phenylalanine (Phe) metabolism. It has a complex phenotype with many variants and genotypes among different populations. Shanxi province is a high-prevalence area of PAHD in China.<h4>Methods</h4>In this study, eighty-nine PAHD patients were subjected to genetic testing using Sanger sequencing, followed by multiplex ligation-dependent probe amplification analysis (MLPA). Allelic and genotypic phenotype values (APV and GPV, respectively) were used for genotype-based phenotypic prediction.<h4>Results</h4>Fifty-one types of variants, including three novel forms, were identified. The predominant variant was p.R243Q (22.09%), followed by p.R53H (10.47%), p.EX6-96A > G (9.30%), p.V399V (5.23%) and p.R413P (3.49%). Notably, mild hyperphenylalaninemia (MHP) has a high prevalence in this region (up to 45.76%), and the variant p.R53H was solely observed in patients of MHP. According to the genotype-phenotype prediction, the APV/GPV system was well correlated with the metabolic phenotype of most PAHD patients.<h4>Conclusion</h4>We have systematically constructed the mutational and phenotypic spectrum of PAH in Shanxi province. Hence, this study will help to further understand the genotype-phenotype associations in PAHD patients, and it may offer more reliable genetic counseling and management.   \n",
       "\n",
       "   EPI_PROB IsEpi  \\\n",
       "2  0.997966  True   \n",
       "0  0.996785  True   \n",
       "1  0.842657  True   \n",
       "\n",
       "                                                                                                   EPI  \\\n",
       "2  [birth prevalence, prevalence, birth prevalence estimates, prevalence estimates, birth prevalences]   \n",
       "0                                                                                         [prevalence]   \n",
       "1                                                                                         [prevalence]   \n",
       "\n",
       "                                               STAT  \\\n",
       "2     [0 . 64, per 10 , 000 births, 0 . 03, 1 . 18]   \n",
       "0  [6 . 002 in 100 , 000 newborns, 1 in 4 , 698, %]   \n",
       "1                                              None   \n",
       "\n",
       "                                                        LOC  DATE   SEX   ETHN  \n",
       "2  [global, southeast asia, the middle east / north africa]  None  None   None  \n",
       "0              [of iran, global, ira, ma, dar, north, iran]  None  None  [ira]  \n",
       "1                [shanxi province, chin, a, shan, province]  None  None   None  "
      ]
     },
     "execution_count": 6,
     "metadata": {},
     "output_type": "execute_result"
    }
   ],
   "source": [
    "c = search('GARD:0007383',50)\n",
    "c"
   ]
  },
  {
   "cell_type": "code",
   "execution_count": 7,
   "id": "87086c93",
   "metadata": {},
   "outputs": [],
   "source": [
    "a.to_csv('case_study/classic-homocystinuria.csv',index=False)\n",
    "b.to_csv('case_study/Fellman-syndrome.csv',index=False)\n",
    "c.to_csv('case_study/phenylketonuria.csv',index=False)"
   ]
  },
  {
   "cell_type": "markdown",
   "id": "7467c18d",
   "metadata": {},
   "source": [
    "Also good\n",
    "- GARD:0009941\n",
    "- GARD:0006667\n",
    "- GARD:0012301\n",
    "- GARD:0007137\n",
    "- GARD:0002470\n",
    "- GARD:0006209\n",
    "- GARD:0006665\n",
    "- GARD:0007383\n",
    "- GARD:0007137\n",
    "- GARD:0005274\n",
    "- GARD:0002153\n",
    "- GARD:0007627\n",
    "- GARD:0000092\n",
    "- GARD:0000111"
   ]
  }
 ],
 "metadata": {
  "kernelspec": {
   "display_name": "Python 3",
   "language": "python",
   "name": "python3"
  },
  "language_info": {
   "codemirror_mode": {
    "name": "ipython",
    "version": 3
   },
   "file_extension": ".py",
   "mimetype": "text/x-python",
   "name": "python",
   "nbconvert_exporter": "python",
   "pygments_lexer": "ipython3",
   "version": "3.6.8"
  }
 },
 "nbformat": 4,
 "nbformat_minor": 5
}

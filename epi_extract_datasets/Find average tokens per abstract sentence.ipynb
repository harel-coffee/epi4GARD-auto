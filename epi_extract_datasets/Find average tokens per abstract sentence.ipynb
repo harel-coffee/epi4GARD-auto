{
 "cells": [
  {
   "cell_type": "code",
   "execution_count": 1,
   "id": "cb949101",
   "metadata": {
    "scrolled": true
   },
   "outputs": [],
   "source": [
    "from transformers import AutoTokenizer\n",
    "tokenizer = AutoTokenizer.from_pretrained('dmis-lab/biobert-large-cased-v1.1')\n",
    "\n",
    "import csv\n",
    "import statistics\n",
    "import matplotlib.pyplot as plt; plt.rcdefaults()"
   ]
  },
  {
   "cell_type": "code",
   "execution_count": 2,
   "id": "58064207",
   "metadata": {},
   "outputs": [],
   "source": [
    "x = tokenizer.tokenize('here we go again')"
   ]
  },
  {
   "cell_type": "code",
   "execution_count": 3,
   "id": "f2635ee4",
   "metadata": {},
   "outputs": [
    {
     "data": {
      "text/plain": [
       "['six',\n",
       " 'newborn',\n",
       " '##s',\n",
       " 'were',\n",
       " 'diagnosed',\n",
       " 'with',\n",
       " 'classic',\n",
       " 'hom',\n",
       " '##oc',\n",
       " '##ys',\n",
       " '##tin',\n",
       " '##uria',\n",
       " 'with',\n",
       " 'an',\n",
       " 'incidence',\n",
       " 'of',\n",
       " '1',\n",
       " ':',\n",
       " '50',\n",
       " ',',\n",
       " '000',\n",
       " ',',\n",
       " 'which',\n",
       " 'is',\n",
       " 'not',\n",
       " 'as',\n",
       " 'high',\n",
       " 'as',\n",
       " 'in',\n",
       " 'qa',\n",
       " '##tar',\n",
       " 'but',\n",
       " 'higher',\n",
       " 'than',\n",
       " 'the',\n",
       " 'global',\n",
       " 'incidence',\n",
       " '.']"
      ]
     },
     "execution_count": 3,
     "metadata": {},
     "output_type": "execute_result"
    }
   ],
   "source": [
    "fig_example = tokenizer.tokenize('Six newborns were diagnosed with classic homocystinuria with an incidence of 1:50,000, which is not as high as in Qatar but higher than the global incidence.')\n",
    "fig_example"
   ]
  },
  {
   "cell_type": "code",
   "execution_count": 4,
   "id": "2582e7f2",
   "metadata": {},
   "outputs": [
    {
     "data": {
      "text/plain": [
       "38"
      ]
     },
     "execution_count": 4,
     "metadata": {},
     "output_type": "execute_result"
    }
   ],
   "source": [
    "len(fig_example)"
   ]
  },
  {
   "cell_type": "code",
   "execution_count": 5,
   "id": "a7982166",
   "metadata": {
    "scrolled": true
   },
   "outputs": [
    {
     "data": {
      "text/plain": [
       "['here', 'we', 'go', 'again']"
      ]
     },
     "execution_count": 5,
     "metadata": {},
     "output_type": "execute_result"
    }
   ],
   "source": [
    "x"
   ]
  },
  {
   "cell_type": "code",
   "execution_count": 6,
   "id": "1eccda39",
   "metadata": {},
   "outputs": [],
   "source": [
    "def get_stats(name):\n",
    "    len_tokens = []\n",
    "    \n",
    "    with open(name+\".tsv\",'r', encoding=\"utf-8\") as f:\n",
    "        reader = csv.reader(f, delimiter=\"\\t\")\n",
    "        sentence_tokens=[]\n",
    "        for row in reader:\n",
    "            if len(row)%2==0:\n",
    "                if row == None or len(row)==0:\n",
    "                    abstract = ' '.join(sentence_tokens)\n",
    "                    len_tokens.append(len(tokenizer.tokenize(abstract)))\n",
    "                    sentence_tokens.clear()\n",
    "                else:\n",
    "                    sentence_tokens.append(row[0])\n",
    "    f.close()\n",
    "\n",
    "    print('max: ',max(len_tokens))\n",
    "    print('min: ',min(len_tokens))\n",
    "    print('mean: ',statistics.mean(len_tokens))\n",
    "    print('standard deviation: ',statistics.stdev(len_tokens))\n",
    "    print('median: ',statistics.median(len_tokens))\n",
    "    \n",
    "    fig = plt.figure()\n",
    "    plt.ylabel('# of Abstracts')\n",
    "    plt.xlabel('# of Tokens')\n",
    "    plt.hist(len_tokens)\n",
    "\n",
    "    plt.show()\n",
    "\n",
    "    Cutoff = statistics.mean(len_tokens)+2*statistics.stdev(len_tokens)\n",
    "    #Find out what is a good cutoff that gets ~95% of all abstracts\n",
    "    print('% covered fully by cutoff: ',len([x for x in len_tokens if x<=Cutoff])/len(len_tokens))\n",
    "    print('cutoff: ',Cutoff)\n",
    "    \n",
    "    custom = int(input(\"Input custom int cut-off: \"))\n",
    "    print('% covered fully by cutoff: ',len([x for x in len_tokens if x<=custom])/len(len_tokens))"
   ]
  },
  {
   "cell_type": "code",
   "execution_count": 7,
   "id": "77c360ea",
   "metadata": {
    "scrolled": true
   },
   "outputs": [
    {
     "name": "stdout",
     "output_type": "stream",
     "text": [
      "max:  225\n",
      "min:  1\n",
      "mean:  32.541903063705625\n",
      "standard deviation:  18.004473332936968\n",
      "median:  29\n"
     ]
    },
    {
     "data": {
      "image/png": "[encoded data removed]",
      "text/plain": [
       "<Figure size 640x480 with 1 Axes>"
      ]
     },
     "metadata": {},
     "output_type": "display_data"
    },
    {
     "name": "stdout",
     "output_type": "stream",
     "text": [
      "% covered fully by cutoff:  0.9594747933214459\n",
      "cutoff:  68.55084972957957\n",
      "Input custom int cut-off: 128\n",
      "% covered fully by cutoff:  0.9967579834657156\n"
     ]
    }
   ],
   "source": [
    "get_stats(\"epi_gold_set\")"
   ]
  }
 ],
 "metadata": {
  "kernelspec": {
   "display_name": "Python 3",
   "language": "python",
   "name": "python3"
  },
  "language_info": {
   "codemirror_mode": {
    "name": "ipython",
    "version": 3
   },
   "file_extension": ".py",
   "mimetype": "text/x-python",
   "name": "python",
   "nbconvert_exporter": "python",
   "pygments_lexer": "ipython3",
   "version": "3.6.8"
  }
 },
 "nbformat": 4,
 "nbformat_minor": 5
}

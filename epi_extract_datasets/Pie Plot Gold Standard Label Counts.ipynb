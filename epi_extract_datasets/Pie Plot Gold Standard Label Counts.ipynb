{
 "cells": [
  {
   "cell_type": "markdown",
   "id": "bb29510a",
   "metadata": {},
   "source": [
    "The goal of this sheet is to create 4 pie plots of this data."
   ]
  },
  {
   "cell_type": "code",
   "execution_count": 8,
   "id": "729122c8",
   "metadata": {
    "scrolled": true
   },
   "outputs": [
    {
     "data": {
      "text/html": [
       "<div>\n",
       "<style scoped>\n",
       "    .dataframe tbody tr th:only-of-type {\n",
       "        vertical-align: middle;\n",
       "    }\n",
       "\n",
       "    .dataframe tbody tr th {\n",
       "        vertical-align: top;\n",
       "    }\n",
       "\n",
       "    .dataframe thead th {\n",
       "        text-align: right;\n",
       "    }\n",
       "</style>\n",
       "<table border=\"1\" class=\"dataframe\">\n",
       "  <thead>\n",
       "    <tr style=\"text-align: right;\">\n",
       "      <th></th>\n",
       "      <th>Dataset</th>\n",
       "      <th>All</th>\n",
       "      <th>O</th>\n",
       "      <th>DIS</th>\n",
       "      <th>ABRV</th>\n",
       "      <th>DATE</th>\n",
       "      <th>LOC</th>\n",
       "      <th>EPI</th>\n",
       "      <th>ETHN</th>\n",
       "      <th>SEX</th>\n",
       "      <th>STAT</th>\n",
       "    </tr>\n",
       "  </thead>\n",
       "  <tbody>\n",
       "    <tr>\n",
       "      <th>0</th>\n",
       "      <td>train</td>\n",
       "      <td>114425</td>\n",
       "      <td>104107</td>\n",
       "      <td>5051</td>\n",
       "      <td>1808</td>\n",
       "      <td>660</td>\n",
       "      <td>764</td>\n",
       "      <td>747</td>\n",
       "      <td>192</td>\n",
       "      <td>282</td>\n",
       "      <td>812</td>\n",
       "    </tr>\n",
       "    <tr>\n",
       "      <th>1</th>\n",
       "      <td>val</td>\n",
       "      <td>30807</td>\n",
       "      <td>28407</td>\n",
       "      <td>1019</td>\n",
       "      <td>421</td>\n",
       "      <td>175</td>\n",
       "      <td>262</td>\n",
       "      <td>230</td>\n",
       "      <td>33</td>\n",
       "      <td>77</td>\n",
       "      <td>183</td>\n",
       "    </tr>\n",
       "    <tr>\n",
       "      <th>2</th>\n",
       "      <td>test</td>\n",
       "      <td>13909</td>\n",
       "      <td>12617</td>\n",
       "      <td>432</td>\n",
       "      <td>272</td>\n",
       "      <td>96</td>\n",
       "      <td>118</td>\n",
       "      <td>116</td>\n",
       "      <td>16</td>\n",
       "      <td>36</td>\n",
       "      <td>206</td>\n",
       "    </tr>\n",
       "    <tr>\n",
       "      <th>3</th>\n",
       "      <td>Total</td>\n",
       "      <td>159141</td>\n",
       "      <td>145131</td>\n",
       "      <td>6502</td>\n",
       "      <td>2501</td>\n",
       "      <td>931</td>\n",
       "      <td>1144</td>\n",
       "      <td>1093</td>\n",
       "      <td>241</td>\n",
       "      <td>395</td>\n",
       "      <td>1201</td>\n",
       "    </tr>\n",
       "  </tbody>\n",
       "</table>\n",
       "</div>"
      ],
      "text/plain": [
       "  Dataset     All       O   DIS  ABRV  DATE   LOC   EPI  ETHN  SEX  STAT\n",
       "0   train  114425  104107  5051  1808   660   764   747   192  282   812\n",
       "1     val   30807   28407  1019   421   175   262   230    33   77   183\n",
       "2    test   13909   12617   432   272    96   118   116    16   36   206\n",
       "3   Total  159141  145131  6502  2501   931  1144  1093   241  395  1201"
      ]
     },
     "execution_count": 8,
     "metadata": {},
     "output_type": "execute_result"
    }
   ],
   "source": [
    "import pandas as pd\n",
    "df = pd.read_csv('gold_set_annotation_counts.csv')\n",
    "df"
   ]
  },
  {
   "cell_type": "code",
   "execution_count": 15,
   "id": "45f2907e",
   "metadata": {},
   "outputs": [
    {
     "data": {
      "text/plain": [
       "[5051, 1808, 660, 764, 747, 192, 282, 812]"
      ]
     },
     "execution_count": 15,
     "metadata": {},
     "output_type": "execute_result"
    }
   ],
   "source": [
    "train = df.iloc[0][3:].to_list()\n",
    "train"
   ]
  },
  {
   "cell_type": "code",
   "execution_count": null,
   "id": "8c039a9e",
   "metadata": {},
   "outputs": [],
   "source": [
    "val = df.iloc[1][3:].to_list()\n",
    "val"
   ]
  },
  {
   "cell_type": "code",
   "execution_count": null,
   "id": "4730c6ba",
   "metadata": {},
   "outputs": [],
   "source": [
    "test = df.iloc[2][3:].to_list()\n",
    "test"
   ]
  },
  {
   "cell_type": "code",
   "execution_count": null,
   "id": "42761577",
   "metadata": {},
   "outputs": [],
   "source": [
    "total = df.iloc[3][3:].to_list()\n",
    "total"
   ]
  },
  {
   "cell_type": "code",
   "execution_count": null,
   "id": "018ce4c8",
   "metadata": {},
   "outputs": [],
   "source": [
    "labels = ['DIS','ABRV','DATE','LOC','EPI','ETHN','SEX','STAT']"
   ]
  },
  {
   "cell_type": "code",
   "execution_count": 21,
   "id": "95e8021b",
   "metadata": {},
   "outputs": [
    {
     "data": {
      "image/png": "[encoded data removed]",
      "text/plain": [
       "<Figure size 432x288 with 4 Axes>"
      ]
     },
     "metadata": {
      "needs_background": "light"
     },
     "output_type": "display_data"
    }
   ],
   "source": [
    "import matplotlib.pyplot as plt\n",
    "import numpy as np\n",
    "\n",
    "# make data\n",
    "x = [1, 2, 3, 4]\n",
    "#colors = plt.get_cmap('Blues')(np.linspace(0.2, 0.7, len(x)))\n",
    "\n",
    "# plot\n",
    "fig, ((train_ax, val_ax), (test_ax, total_ax)) = plt.subplots(2, 2)\n",
    "train_ax.pie(train, colors=colors,\n",
    "       wedgeprops={\"linewidth\": 1, \"edgecolor\": \"white\"}, frame=True)\n",
    "      \n",
    "train_ax.set_title('train_ax')\n",
    "\n",
    "plt.show()"
   ]
  },
  {
   "cell_type": "code",
   "execution_count": null,
   "id": "c2ad98c2",
   "metadata": {},
   "outputs": [],
   "source": []
  }
 ],
 "metadata": {
  "kernelspec": {
   "display_name": "Python 3",
   "language": "python",
   "name": "python3"
  },
  "language_info": {
   "codemirror_mode": {
    "name": "ipython",
    "version": 3
   },
   "file_extension": ".py",
   "mimetype": "text/x-python",
   "name": "python",
   "nbconvert_exporter": "python",
   "pygments_lexer": "ipython3",
   "version": "3.6.8"
  }
 },
 "nbformat": 4,
 "nbformat_minor": 5
}

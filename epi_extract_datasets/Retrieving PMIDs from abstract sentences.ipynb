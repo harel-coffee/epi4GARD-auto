{
 "cells": [
  {
   "cell_type": "markdown",
   "id": "1dfe3dcb",
   "metadata": {},
   "source": [
    "The aim of this is to map the sentences back onto abstracts"
   ]
  },
  {
   "cell_type": "code",
   "execution_count": 1,
   "id": "b032380f",
   "metadata": {},
   "outputs": [],
   "source": [
    "#import sys\n",
    "#!{sys.executable} -m pip install Bio\n",
    "from Bio import Entrez,Medline\n",
    "from tqdm import tqdm\n",
    "import csv"
   ]
  },
  {
   "cell_type": "code",
   "execution_count": 2,
   "id": "ac3a979a",
   "metadata": {},
   "outputs": [
    {
     "name": "stdout",
     "output_type": "stream",
     "text": [
      "['22151970']\n"
     ]
    }
   ],
   "source": [
    "an_abstract = \"\"\"\n",
    "Background\n",
    "Uncovering the relationship between the conserved chromosomal segments and the functional relatedness of elements within these segments is an important question in computational genomics. We build upon the series of works on gene teams and homology teams.\n",
    "\n",
    "Results\n",
    "Our primary contribution is a local sliding-window SYNS (SYNtenic teamS) algorithm that refines an existing family structure into orthologous sub-families by analyzing the neighborhoods around the members of a given family with a locally sliding window. The neighborhood analysis is done by computing conserved gene clusters. We evaluate our algorithm on the existing homologous families from the Genolevures database over five genomes of the Hemyascomycete phylum.\n",
    "\n",
    "Conclusions\n",
    "The result is an efficient algorithm that works on multiple genomes, considers paralogous copies of genes and is able to uncover orthologous clusters even in distant genomes. Resulting orthologous clusters are comparable to those obtained by manual curation.\n",
    "\"\"\"\n",
    "\n",
    "Entrez.email = \"william.kariampuzha@axleinfo.com\"\n",
    "query_template=\"\"\"(%s)\"\"\"\n",
    "\n",
    "query=query_template%(an_abstract.replace(\".\",\" \").lower())\n",
    "search_results = Entrez.read(Entrez.esearch(db=\"pubmed\",term=query))\n",
    "print(search_results['IdList'])"
   ]
  },
  {
   "cell_type": "code",
   "execution_count": 3,
   "id": "244709b5",
   "metadata": {},
   "outputs": [
    {
     "name": "stdout",
     "output_type": "stream",
     "text": [
      "['22151970']\n"
     ]
    }
   ],
   "source": [
    "sentence = \"Uncovering the relationship between the conserved chromosomal segments and the functional relatedness of elements within these segments is an important question in computational genomics\"\n",
    "query=query_template%(sentence.replace(\".\",\" \").lower())\n",
    "search_results = Entrez.read(Entrez.esearch(db=\"pubmed\",term=query))\n",
    "print(search_results['IdList'])"
   ]
  },
  {
   "cell_type": "code",
   "execution_count": 4,
   "id": "792f98a6",
   "metadata": {},
   "outputs": [
    {
     "name": "stdout",
     "output_type": "stream",
     "text": [
      "http://www.ncbi.nlm.nih.gov/pubmed/22151970\n"
     ]
    }
   ],
   "source": [
    "print(\"http://www.ncbi.nlm.nih.gov/pubmed/%s\"%(search_results['IdList'][0])) # http://www.ncbi.nlm.nih.gov/pubmed/22151970"
   ]
  },
  {
   "cell_type": "code",
   "execution_count": 5,
   "id": "5a2a8b69",
   "metadata": {},
   "outputs": [
    {
     "name": "stdout",
     "output_type": "stream",
     "text": [
      "[]\n"
     ]
    }
   ],
   "source": [
    "sent2 = \"Additionally , initial analysis of global cellular gene expression by microarray analysis suggests that p28 results in nominal alterations in cellular gene expression .\"\n",
    "query=query_template%(sent2.replace(\".\",\" \").lower())\n",
    "search_results = Entrez.read(Entrez.esearch(db=\"pubmed\",term=query))\n",
    "print(search_results['IdList'])"
   ]
  },
  {
   "cell_type": "markdown",
   "id": "c49c88be",
   "metadata": {},
   "source": [
    "Import all of the tokens and labels"
   ]
  },
  {
   "cell_type": "code",
   "execution_count": 6,
   "id": "baf09203",
   "metadata": {},
   "outputs": [
    {
     "name": "stdout",
     "output_type": "stream",
     "text": [
      "6169\n"
     ]
    }
   ],
   "source": [
    "sentences = []\n",
    "with open('epi_gold_set.tsv','r', encoding=\"utf-8\") as f:\n",
    "    reader = csv.reader(f, delimiter=\"\\t\")\n",
    "    sentence_tokens,sentences_tags=[],[]\n",
    "    for row in reader:\n",
    "        if len(row)%2==0:\n",
    "            if len(row)==0:\n",
    "                if len(sentence_tokens) != len(sentences_tags):\n",
    "                    print('uh oh', sentence_tokens, sentences_tags, sep='\\n')\n",
    "                sentences.append(sentence_tokens.copy())\n",
    "                #epi_train_labels.append(sentences_tags.copy())\n",
    "                sentence_tokens.clear()\n",
    "                sentences_tags.clear()\n",
    "            else:\n",
    "                sentence_tokens.append(row[0])\n",
    "                sentences_tags.append(row[1])\n",
    "f.close()\n",
    "print(len(sentences))"
   ]
  },
  {
   "cell_type": "code",
   "execution_count": 7,
   "id": "fde84241",
   "metadata": {},
   "outputs": [
    {
     "name": "stderr",
     "output_type": "stream",
     "text": [
      "100%|██████████| 100/100 [00:37<00:00,  2.65it/s]\n"
     ]
    }
   ],
   "source": [
    "pmids = []\n",
    "for sent in tqdm(sentences[:100]):\n",
    "    sentence = ' '.join(sent)\n",
    "    query_template=\"\"\"(%s)\"\"\"\n",
    "    query=query_template%(sentence.replace(\".\",\" \").lower())\n",
    "    search_results = Entrez.read(Entrez.esearch(db=\"pubmed\",term=query))\n",
    "    if len(search_results['IdList'])>1:\n",
    "        #print(sentence)\n",
    "        #print(search_results['IdList'])\n",
    "        pmids.append('[NOT FOUND]')\n",
    "    elif len(search_results['IdList'])==1:\n",
    "        pmids.append(search_results['IdList'][0])\n",
    "    else:\n",
    "        pmids.append('[NOT FOUND]')\n",
    "        #print('**NOT FOUND**',sentence,'**NOT FOUND**')"
   ]
  },
  {
   "cell_type": "code",
   "execution_count": 8,
   "id": "08765ed1",
   "metadata": {},
   "outputs": [
    {
     "data": {
      "text/plain": [
       "52"
      ]
     },
     "execution_count": 8,
     "metadata": {},
     "output_type": "execute_result"
    }
   ],
   "source": [
    "len([pmid for pmid in pmids if pmid =='[NOT FOUND]'])"
   ]
  },
  {
   "cell_type": "code",
   "execution_count": 9,
   "id": "f4f24455",
   "metadata": {},
   "outputs": [
    {
     "data": {
      "text/plain": [
       "['[NOT FOUND]',\n",
       " '[NOT FOUND]',\n",
       " '34157100',\n",
       " '34157100',\n",
       " '[NOT FOUND]',\n",
       " '34157100',\n",
       " '34157100',\n",
       " '[NOT FOUND]',\n",
       " '[NOT FOUND]',\n",
       " '[NOT FOUND]',\n",
       " '[NOT FOUND]',\n",
       " '34157100',\n",
       " '30540124',\n",
       " '[NOT FOUND]',\n",
       " '30540124',\n",
       " '30540124',\n",
       " '30540124',\n",
       " '30540124',\n",
       " '[NOT FOUND]',\n",
       " '[NOT FOUND]',\n",
       " '30540124',\n",
       " '[NOT FOUND]',\n",
       " '30540124',\n",
       " '[NOT FOUND]',\n",
       " '[NOT FOUND]',\n",
       " '[NOT FOUND]',\n",
       " '33668710',\n",
       " '33668710',\n",
       " '[NOT FOUND]',\n",
       " '[NOT FOUND]',\n",
       " '[NOT FOUND]',\n",
       " '[NOT FOUND]',\n",
       " '[NOT FOUND]',\n",
       " '[NOT FOUND]',\n",
       " '[NOT FOUND]',\n",
       " '[NOT FOUND]',\n",
       " '33668710',\n",
       " '[NOT FOUND]',\n",
       " '[NOT FOUND]',\n",
       " '[NOT FOUND]',\n",
       " '33668710',\n",
       " '33668710',\n",
       " '33321342',\n",
       " '[NOT FOUND]',\n",
       " '33321342',\n",
       " '[NOT FOUND]',\n",
       " '33321342',\n",
       " '33321342',\n",
       " '33321342',\n",
       " '33321342',\n",
       " '[NOT FOUND]',\n",
       " '[NOT FOUND]',\n",
       " '33321342',\n",
       " '[NOT FOUND]',\n",
       " '[NOT FOUND]',\n",
       " '[NOT FOUND]',\n",
       " '31073436',\n",
       " '[NOT FOUND]',\n",
       " '31073436',\n",
       " '31073436',\n",
       " '31073436',\n",
       " '31073436',\n",
       " '31073436',\n",
       " '34085330',\n",
       " '34085330',\n",
       " '[NOT FOUND]',\n",
       " '[NOT FOUND]',\n",
       " '34085330',\n",
       " '[NOT FOUND]',\n",
       " '34085330',\n",
       " '[NOT FOUND]',\n",
       " '[NOT FOUND]',\n",
       " '34068894',\n",
       " '[NOT FOUND]',\n",
       " '[NOT FOUND]',\n",
       " '[NOT FOUND]',\n",
       " '34068894',\n",
       " '34068894',\n",
       " '[NOT FOUND]',\n",
       " '[NOT FOUND]',\n",
       " '[NOT FOUND]',\n",
       " '34068894',\n",
       " '34128866',\n",
       " '34128866',\n",
       " '34128866',\n",
       " '34128866',\n",
       " '34128866',\n",
       " '[NOT FOUND]',\n",
       " '[NOT FOUND]',\n",
       " '34128866',\n",
       " '[NOT FOUND]',\n",
       " '34128866',\n",
       " '3348946',\n",
       " '[NOT FOUND]',\n",
       " '[NOT FOUND]',\n",
       " '[NOT FOUND]',\n",
       " '3348946',\n",
       " '29968401',\n",
       " '[NOT FOUND]',\n",
       " '[NOT FOUND]']"
      ]
     },
     "execution_count": 9,
     "metadata": {},
     "output_type": "execute_result"
    }
   ],
   "source": [
    "pmids"
   ]
  },
  {
   "cell_type": "code",
   "execution_count": null,
   "id": "1a44ab73",
   "metadata": {},
   "outputs": [],
   "source": [
    "corrected_pmids = []\n",
    "last_pmid_idx = 0\n",
    "last_pmid = pmids[last_pmid_idx]\n",
    "for i in range(len(pmids)):\n",
    "    current_id = pmids[i]\n",
    "    if current_id == '[NOT FOUND]':\n",
    "        #Do this\n",
    "        continue\n",
    "    elif current_id == last_pmid:\n",
    "        continue\n",
    "    #Need to check if there is a change between two unknowns\n",
    "    \n",
    "    else:\n",
    "        for j in range(last_pmid_idx+1,i):\n",
    "            corrected_pmids[j] = last_pmid\n",
    "        last_pmid_idx = \n",
    "        last_pmid = "
   ]
  }
 ],
 "metadata": {
  "kernelspec": {
   "display_name": "Python 3",
   "language": "python",
   "name": "python3"
  },
  "language_info": {
   "codemirror_mode": {
    "name": "ipython",
    "version": 3
   },
   "file_extension": ".py",
   "mimetype": "text/x-python",
   "name": "python",
   "nbconvert_exporter": "python",
   "pygments_lexer": "ipython3",
   "version": "3.6.8"
  }
 },
 "nbformat": 4,
 "nbformat_minor": 5
}

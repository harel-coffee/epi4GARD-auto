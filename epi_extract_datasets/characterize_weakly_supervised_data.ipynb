{
 "cells": [
  {
   "cell_type": "markdown",
   "id": "6df13fae",
   "metadata": {},
   "source": [
    "## Goals\n",
    "Write a program that counts the labels for the prelabeled dataset."
   ]
  },
  {
   "cell_type": "code",
   "execution_count": 1,
   "id": "f196ff2b",
   "metadata": {
    "scrolled": true
   },
   "outputs": [],
   "source": [
    "import csv\n",
    "import re"
   ]
  },
  {
   "cell_type": "markdown",
   "id": "0469b49c",
   "metadata": {},
   "source": [
    "### Importing files to modify tags"
   ]
  },
  {
   "cell_type": "code",
   "execution_count": 2,
   "id": "86256ab7",
   "metadata": {},
   "outputs": [
    {
     "name": "stdout",
     "output_type": "stream",
     "text": [
      "4580 4580\n"
     ]
    }
   ],
   "source": [
    "epi_train_tokens, epi_train_labels = [],[]\n",
    "with open('epi_train_setV4.tsv','r', encoding=\"utf-8\") as f:\n",
    "    reader = csv.reader(f, delimiter=\"\\t\")\n",
    "    sentence_tokens,sentences_tags=[],[]\n",
    "    for row in reader:\n",
    "        if len(row)%2==0:\n",
    "            if len(row)==0:\n",
    "                if len(sentence_tokens) != len(sentences_tags):\n",
    "                    print('uh oh', sentence_tokens, sentences_tags, sep='\\n')\n",
    "                epi_train_tokens.append(sentence_tokens.copy())\n",
    "                epi_train_labels.append(sentences_tags.copy())\n",
    "                sentence_tokens.clear()\n",
    "                sentences_tags.clear()\n",
    "            else:\n",
    "                sentence_tokens.append(row[0])\n",
    "                sentences_tags.append(row[1])\n",
    "f.close()\n",
    "print(len(epi_train_tokens),len(epi_train_labels))"
   ]
  },
  {
   "cell_type": "code",
   "execution_count": 3,
   "id": "e6746615",
   "metadata": {},
   "outputs": [
    {
     "name": "stdout",
     "output_type": "stream",
     "text": [
      "1227 1227\n"
     ]
    }
   ],
   "source": [
    "epi_val_tokens, epi_val_labels= [],[]\n",
    "with open('epi_val_setV4.tsv','r', encoding=\"utf-8\") as f:\n",
    "    reader = csv.reader(f, delimiter=\"\\t\")\n",
    "    sentence_tokens,sentences_tags=[],[]\n",
    "    for row in reader:\n",
    "        if len(row)%2==0:\n",
    "            if len(row)==0:\n",
    "                epi_val_tokens.append(sentence_tokens.copy())\n",
    "                epi_val_labels.append(sentences_tags.copy())\n",
    "                sentence_tokens.clear()\n",
    "                sentences_tags.clear()\n",
    "            else:\n",
    "                sentence_tokens.append(row[0])\n",
    "                sentences_tags.append(row[1])\n",
    "f.close()\n",
    "print(len(epi_val_tokens),len(epi_val_labels))"
   ]
  },
  {
   "cell_type": "code",
   "execution_count": 4,
   "id": "6837ddf9",
   "metadata": {},
   "outputs": [
    {
     "name": "stdout",
     "output_type": "stream",
     "text": [
      "534 534\n"
     ]
    }
   ],
   "source": [
    "#Need to modify test to calculate labeling accuracy\n",
    "epi_test_tokens, epi_test_labels= [],[]\n",
    "with open('epi_test_setV4.tsv','r', encoding=\"utf-8\") as f:\n",
    "    reader = csv.reader(f, delimiter=\"\\t\")\n",
    "    sentence_tokens,sentences_tags=[],[]\n",
    "    for row in reader:\n",
    "        if len(row)%2==0:\n",
    "            if len(row)==0:\n",
    "                epi_test_tokens.append(sentence_tokens.copy())\n",
    "                epi_test_labels.append(sentences_tags.copy())\n",
    "                sentence_tokens.clear()\n",
    "                sentences_tags.clear()\n",
    "            else:\n",
    "                sentence_tokens.append(row[0])\n",
    "                sentences_tags.append(row[1])\n",
    "f.close()\n",
    "print(len(epi_test_tokens),len(epi_test_labels))"
   ]
  },
  {
   "cell_type": "code",
   "execution_count": 5,
   "id": "8af1f805",
   "metadata": {},
   "outputs": [
    {
     "data": {
      "text/plain": [
       "{'DATE', 'DIS', 'EPI', 'ETHN', 'LOC', 'O', 'SEX', 'STAT'}"
      ]
     },
     "execution_count": 5,
     "metadata": {},
     "output_type": "execute_result"
    }
   ],
   "source": [
    "epi_labels = epi_test_labels+epi_val_labels+epi_train_labels\n",
    "\n",
    "labels = set()\n",
    "\n",
    "for sent in epi_labels:\n",
    "    for l in sent:\n",
    "        labels.add(l)\n",
    "\n",
    "labels = {re.sub('B-|I-','',label) for label in labels}\n",
    "labels"
   ]
  },
  {
   "cell_type": "code",
   "execution_count": 6,
   "id": "599d73ff",
   "metadata": {},
   "outputs": [
    {
     "data": {
      "text/plain": [
       "{'LOC': 961,\n",
       " 'EPI': 1143,\n",
       " 'O': 155837,\n",
       " 'DATE': 856,\n",
       " 'STAT': 1493,\n",
       " 'ETHN': 235,\n",
       " 'DIS': 2139,\n",
       " 'SEX': 396}"
      ]
     },
     "execution_count": 6,
     "metadata": {},
     "output_type": "execute_result"
    }
   ],
   "source": [
    "counts = dict.fromkeys(labels,0)\n",
    "\n",
    "for sent in epi_labels:\n",
    "    for l in sent:\n",
    "        counts[re.sub('B-|I-','',l)]+=1\n",
    "counts"
   ]
  },
  {
   "cell_type": "code",
   "execution_count": 7,
   "id": "31286d3e",
   "metadata": {},
   "outputs": [
    {
     "data": {
      "text/plain": [
       "{'LOC': 0.5893536121673004,\n",
       " 'EPI': 0.7009689684778609,\n",
       " 'O': 95.5703422053232,\n",
       " 'DATE': 0.5249601373727463,\n",
       " 'STAT': 0.915613884459708,\n",
       " 'ETHN': 0.14411872930209738,\n",
       " 'DIS': 1.311787072243346,\n",
       " 'SEX': 0.2428553906537471}"
      ]
     },
     "execution_count": 7,
     "metadata": {},
     "output_type": "execute_result"
    }
   ],
   "source": [
    "total = sum(counts.values())\n",
    "percentage_dict = {k:100*v/total for k,v in counts.items()}\n",
    "percentage_dict"
   ]
  },
  {
   "cell_type": "code",
   "execution_count": 8,
   "id": "50659d13",
   "metadata": {
    "scrolled": true
   },
   "outputs": [
    {
     "data": {
      "text/plain": [
       "{'LOC': 13.304721030042918,\n",
       " 'EPI': 15.824449674650422,\n",
       " 'DATE': 11.851031427384743,\n",
       " 'STAT': 20.670081683511007,\n",
       " 'ETHN': 3.253495777377821,\n",
       " 'DIS': 29.613733905579398,\n",
       " 'SEX': 5.48248650145369}"
      ]
     },
     "execution_count": 8,
     "metadata": {},
     "output_type": "execute_result"
    }
   ],
   "source": [
    "counts.pop('O')\n",
    "entity_total = sum(counts.values())\n",
    "entity_percentage_dict = {k:100*v/entity_total for k,v in counts.items()}\n",
    "entity_percentage_dict"
   ]
  },
  {
   "cell_type": "code",
   "execution_count": 14,
   "id": "1c6747a5",
   "metadata": {},
   "outputs": [
    {
     "name": "stdout",
     "output_type": "stream",
     "text": [
      "Total Entity Labels 7223\n",
      "Total Tokens/Labels 163060\n",
      "Percentage labeled 4.429657794676806\n"
     ]
    }
   ],
   "source": [
    "print(\"Total Entity Labels\",entity_total)\n",
    "total_tokens = sum([len(sent) for sent in epi_val_tokens+epi_test_tokens+epi_train_tokens])\n",
    "print(\"Total Tokens/Labels\",total_tokens)\n",
    "print(\"Percentage labeled\",100*entity_total/total_tokens)"
   ]
  }
 ],
 "metadata": {
  "kernelspec": {
   "display_name": "Python 3",
   "language": "python",
   "name": "python3"
  },
  "language_info": {
   "codemirror_mode": {
    "name": "ipython",
    "version": 3
   },
   "file_extension": ".py",
   "mimetype": "text/x-python",
   "name": "python",
   "nbconvert_exporter": "python",
   "pygments_lexer": "ipython3",
   "version": "3.6.8"
  }
 },
 "nbformat": 4,
 "nbformat_minor": 5
}

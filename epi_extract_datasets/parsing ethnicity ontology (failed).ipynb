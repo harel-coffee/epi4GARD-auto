{
 "cells": [
  {
   "cell_type": "code",
   "execution_count": null,
   "id": "ed00a9cb",
   "metadata": {},
   "outputs": [],
   "source": [
    "#import sys\n",
    "#!{sys.executable} -m pip install bs4\n",
    "import requests\n",
    "import urllib.request\n",
    "import time\n",
    "from bs4 import BeautifulSoup\n",
    "import numpy as np\n",
    "import pandas as pd\n",
    "from urllib.request import urlopen\n",
    "import re"
   ]
  },
  {
   "cell_type": "code",
   "execution_count": 7,
   "id": "1abcff75",
   "metadata": {},
   "outputs": [],
   "source": [
    "#import sys\n",
    "#!{sys.executable} -m pip install Owlready2\n",
    "\n",
    "from owlready2 import *\n",
    "onto = get_ontology(\"ethnicityOntologyv1.owl\")\n",
    "onto_path.append(\"./\")"
   ]
  },
  {
   "cell_type": "code",
   "execution_count": 8,
   "id": "17363a0c",
   "metadata": {},
   "outputs": [],
   "source": [
    "x = onto.load()"
   ]
  },
  {
   "cell_type": "code",
   "execution_count": 9,
   "id": "f5b4034b",
   "metadata": {},
   "outputs": [],
   "source": [
    "x.save()"
   ]
  },
  {
   "cell_type": "code",
   "execution_count": null,
   "id": "3400463d",
   "metadata": {},
   "outputs": [],
   "source": [
    "onto.search(iri = \"*Topping\")"
   ]
  },
  {
   "cell_type": "code",
   "execution_count": null,
   "id": "b4460f22",
   "metadata": {},
   "outputs": [],
   "source": [
    "import xml.etree.ElementTree as ET\n",
    "tree = ET.parse('owlapi.xrdf')\n",
    "root = tree.getroot()"
   ]
  },
  {
   "cell_type": "code",
   "execution_count": null,
   "id": "20f2ec69",
   "metadata": {},
   "outputs": [],
   "source": [
    "for child in root.iter('*'):\n",
    "    print(child)\n",
    "    '''\n",
    "    if child.tag == 'Source' and 'PMID' in child.text:\n",
    "        pmids = re.findall('\\d{6,8}', child.text)\n",
    "        for pmid in pmids:\n",
    "            if pmid not in prev_pmids:\n",
    "                prev_pmids.add(pmid)\n",
    "                '''"
   ]
  },
  {
   "cell_type": "code",
   "execution_count": null,
   "id": "5fc98f80",
   "metadata": {},
   "outputs": [],
   "source": [
    "ethnicities = set() #all names of ethnicities in string set"
   ]
  },
  {
   "cell_type": "code",
   "execution_count": null,
   "id": "f0ed9422",
   "metadata": {},
   "outputs": [],
   "source": [
    "url = 'https://bioportal.bioontology.org/ontologies/EO/?p=classes&conceptid=http%3A%2F%2Fpurl.obolibrary.org%2Fobo%2FBFO_0000001'\n",
    "html = urlopen(url) \n",
    "soup = BeautifulSoup(html, 'html.parser')"
   ]
  },
  {
   "cell_type": "code",
   "execution_count": null,
   "id": "9a3f6939",
   "metadata": {},
   "outputs": [],
   "source": [
    "soup"
   ]
  },
  {
   "cell_type": "code",
   "execution_count": null,
   "id": "d7c9c43b",
   "metadata": {},
   "outputs": [],
   "source": [
    "spans = soup.find_all('li')"
   ]
  },
  {
   "cell_type": "code",
   "execution_count": null,
   "id": "fe291dcf",
   "metadata": {},
   "outputs": [],
   "source": [
    "soup"
   ]
  },
  {
   "cell_type": "code",
   "execution_count": null,
   "id": "b19f454a",
   "metadata": {},
   "outputs": [],
   "source": [
    "spans"
   ]
  },
  {
   "cell_type": "code",
   "execution_count": null,
   "id": "3d399725",
   "metadata": {},
   "outputs": [],
   "source": [
    "for table in tables:\n",
    "    rows = table.find_all('tr')\n",
    "    \n",
    "    for row in rows:\n",
    "        cells = row.find_all('td')\n",
    "        \n",
    "        \n",
    "        if len(cells) > 1:\n",
    "            ethnicity = cells[0]\n",
    "            ethnicity = ethnicity.text.split('\\n')\n",
    "            if len(ethnicity)<=2:\n",
    "                print(ethnicity[0])\n",
    "                ethnicities.add(ethnicity[0].strip())"
   ]
  }
 ],
 "metadata": {
  "kernelspec": {
   "display_name": "Python 3",
   "language": "python",
   "name": "python3"
  },
  "language_info": {
   "codemirror_mode": {
    "name": "ipython",
    "version": 3
   },
   "file_extension": ".py",
   "mimetype": "text/x-python",
   "name": "python",
   "nbconvert_exporter": "python",
   "pygments_lexer": "ipython3",
   "version": "3.6.8"
  }
 },
 "nbformat": 4,
 "nbformat_minor": 5
}

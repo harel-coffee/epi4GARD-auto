{
 "cells": [
  {
   "cell_type": "markdown",
   "id": "3c8f47a6",
   "metadata": {},
   "source": [
    "The purpose of this notebook is to convert the Excel spreadsheet to five tab-separated values files (\\*.xlsx -> \\*.tsv).  \n",
    "*epi_gold_set.tsv* will contain the entirety of the gold standard set.  \n",
    "*epi_gold_kfoldtrain.tsv* will contain the corrected train and validation sets.   \n",
    "*epi_gold_test.tsv* will contain the corrected test set which is exactly 50 abstracts.   \n",
    "*epi_gold_val.tsv* will contain the corrected validation set.  \n",
    "*epi_gold_train.tsv* will contain the corrected train set. "
   ]
  },
  {
   "cell_type": "code",
   "execution_count": 1,
   "id": "ee5b2947",
   "metadata": {},
   "outputs": [],
   "source": [
    "import openpyxl\n",
    "import csv"
   ]
  },
  {
   "cell_type": "code",
   "execution_count": 2,
   "id": "123f5686",
   "metadata": {},
   "outputs": [],
   "source": [
    "wb = openpyxl.load_workbook('Gold_Standard_Dataset.xlsx')\n",
    "accepted_labels = {\"O\", \"B-DIS\",\"I-DIS\",\"B-ABRV\",\"I-ABRV\",\"B-LOC\",\"I-LOC\",\"B-DATE\",\"I-DATE\",\"B-ETHN\",\"I-ETHN\",\"B-SEX\",\"I-SEX\",\"B-EPI\",\"I-EPI\",\"B-STAT\",\"I-STAT\"}"
   ]
  },
  {
   "cell_type": "markdown",
   "id": "33560c09",
   "metadata": {},
   "source": [
    "Test Set"
   ]
  },
  {
   "cell_type": "code",
   "execution_count": 3,
   "id": "ab4de3fd",
   "metadata": {},
   "outputs": [
    {
     "name": "stdout",
     "output_type": "stream",
     "text": [
      "Context O\n"
     ]
    }
   ],
   "source": [
    "testsheet = wb['Test']\n",
    "for row in testsheet.iter_rows(min_row=2,max_col=2,max_row=14447,values_only=True):\n",
    "    print(row[0],row[1])\n",
    "    break"
   ]
  },
  {
   "cell_type": "code",
   "execution_count": 4,
   "id": "2799b1c7",
   "metadata": {
    "scrolled": true
   },
   "outputs": [
    {
     "name": "stdout",
     "output_type": "stream",
     "text": [
      "\n",
      "TYPE ERROR \n",
      "ROW:  2228\n",
      "ROW VALUE:  (None, None) \n",
      "COL1:  None \n",
      "COL2:  None\n",
      "\n",
      "TYPE ERROR \n",
      "ROW:  2438\n",
      "ROW VALUE:  (None, None) \n",
      "COL1:  None \n",
      "COL2:  None\n",
      "\n",
      "TYPE ERROR \n",
      "ROW:  2574\n",
      "ROW VALUE:  (None, None) \n",
      "COL1:  None \n",
      "COL2:  None\n"
     ]
    }
   ],
   "source": [
    "num_sents = 0\n",
    "test_tokens, test_labels = [],[]\n",
    "sentence_tokens, sentences_labels=[],[]\n",
    "i=2\n",
    "for row in testsheet.iter_rows(min_row=2,max_col=2,max_row=14447,values_only=True):\n",
    "    row0 = row[0]\n",
    "    row1 = row[1]\n",
    "    if isinstance(row0,str) == False or isinstance(row1,str)==False:\n",
    "        if isinstance(row0,int) or isinstance(row0,float):\n",
    "            row0 = str(row0)\n",
    "        else:\n",
    "            print('\\nTYPE ERROR \\nROW: ',i)\n",
    "            print('ROW VALUE: ',row,'\\nCOL1: ',row0,'\\nCOL2: ',row1)\n",
    "            \n",
    "    if (row0 == None and row1 == None) or (len(row0)==0 and len(row1)==0):\n",
    "        num_sents+=1\n",
    "        test_tokens.append(sentence_tokens.copy())\n",
    "        test_labels.append(sentences_labels.copy())\n",
    "        sentence_tokens.clear()\n",
    "        sentences_labels.clear()\n",
    "    elif len(row0)==0 or len(row1)==0:\n",
    "        print('\\nLENGTH ERROR')\n",
    "        print(i,row,row0,row1)\n",
    "    else:\n",
    "        if row1 not in accepted_labels:\n",
    "            print('\\nUNEXPECTED LABEL')\n",
    "        sentence_tokens.append(row0)\n",
    "        sentences_labels.append(row1)\n",
    "    i+=1"
   ]
  },
  {
   "cell_type": "code",
   "execution_count": 5,
   "id": "00e4317f",
   "metadata": {},
   "outputs": [
    {
     "name": "stdout",
     "output_type": "stream",
     "text": [
      "537\n"
     ]
    }
   ],
   "source": [
    "print(num_sents)"
   ]
  },
  {
   "cell_type": "code",
   "execution_count": 6,
   "id": "28bd0033",
   "metadata": {},
   "outputs": [
    {
     "name": "stdout",
     "output_type": "stream",
     "text": [
      "sentence num 0 done\n",
      "sentence num 100 done\n",
      "sentence num 200 done\n",
      "sentence num 300 done\n",
      "sentence num 400 done\n",
      "sentence num 500 done\n"
     ]
    }
   ],
   "source": [
    "with open('epi_gold_test.tsv', \"w\") as f:\n",
    "    for i in range(len(test_tokens)): #for sentence in sentences\n",
    "        for j in range(len(test_tokens[i])): #for token in sentence\n",
    "            output = str(test_tokens[i][j]) +'\\t' +str(test_labels[i][j])+'\\n'\n",
    "            f.write(output)\n",
    "        f.write('\\n')\n",
    "        if i%100==0:\n",
    "            print('sentence num',i,'done')\n",
    "f.close()"
   ]
  },
  {
   "cell_type": "markdown",
   "id": "632c9570",
   "metadata": {},
   "source": [
    "Validation Set"
   ]
  },
  {
   "cell_type": "code",
   "execution_count": 7,
   "id": "d2142dd2",
   "metadata": {
    "scrolled": true
   },
   "outputs": [],
   "source": [
    "num_sents = 0\n",
    "valsheet = wb['Validation']\n",
    "val_tokens, val_labels = [],[]\n",
    "sentence_tokens, sentences_labels=[],[]\n",
    "i=2\n",
    "for row in valsheet.iter_rows(min_row=2,max_col=2,max_row=32014,values_only=True):\n",
    "    row0 = row[0]\n",
    "    row1 = row[1]\n",
    "    if isinstance(row0,str) == False or isinstance(row1,str)==False:\n",
    "        if isinstance(row0,int) or isinstance(row0,float):\n",
    "            row0 = str(row0)\n",
    "        else:\n",
    "            print('\\nTYPE ERROR \\nROW: ',i)\n",
    "            print('ROW VALUE: ',row,'\\nCOL1: ',row0,'\\nCOL2: ',row1)\n",
    "    if (row0 == None and row1 == None) or (len(row0)==0 and len(row1)==0):\n",
    "        num_sents+=1\n",
    "        val_tokens.append(sentence_tokens.copy())\n",
    "        val_labels.append(sentences_labels.copy())\n",
    "        sentence_tokens.clear()\n",
    "        sentences_labels.clear()\n",
    "    elif len(row0)==0 or len(row1)==0:\n",
    "        print('\\nLENGTH ERROR')\n",
    "        print(i,row,row0,row1)\n",
    "    else:\n",
    "        if row1 not in accepted_labels:\n",
    "            print('\\nUNEXPECTED LABEL')\n",
    "        sentence_tokens.append(row0)\n",
    "        sentences_labels.append(row1)\n",
    "    i+=1"
   ]
  },
  {
   "cell_type": "code",
   "execution_count": 8,
   "id": "d9f2f472",
   "metadata": {},
   "outputs": [
    {
     "name": "stdout",
     "output_type": "stream",
     "text": [
      "1206\n"
     ]
    }
   ],
   "source": [
    "print(num_sents)"
   ]
  },
  {
   "cell_type": "code",
   "execution_count": 9,
   "id": "b3fd276e",
   "metadata": {},
   "outputs": [
    {
     "name": "stdout",
     "output_type": "stream",
     "text": [
      "sentence num 0 done\n",
      "sentence num 100 done\n",
      "sentence num 200 done\n",
      "sentence num 300 done\n",
      "sentence num 400 done\n",
      "sentence num 500 done\n",
      "sentence num 600 done\n",
      "sentence num 700 done\n",
      "sentence num 800 done\n",
      "sentence num 900 done\n",
      "sentence num 1000 done\n",
      "sentence num 1100 done\n",
      "sentence num 1200 done\n"
     ]
    }
   ],
   "source": [
    "with open('epi_gold_val.tsv', \"w\") as f:\n",
    "    for i in range(len(val_tokens)): #for sentence in sentences\n",
    "        for j in range(len(val_tokens[i])): #for token in sentence\n",
    "            output = str(val_tokens[i][j]) +'\\t' +str(val_labels[i][j])+'\\n'\n",
    "            f.write(output)\n",
    "        f.write('\\n')\n",
    "        if i%100==0:\n",
    "            print('sentence num',i,'done')\n",
    "f.close()"
   ]
  },
  {
   "cell_type": "markdown",
   "id": "f03732f7",
   "metadata": {},
   "source": [
    "Train Sheet"
   ]
  },
  {
   "cell_type": "code",
   "execution_count": 10,
   "id": "0b68df8a",
   "metadata": {
    "scrolled": true
   },
   "outputs": [
    {
     "name": "stdout",
     "output_type": "stream",
     "text": [
      "\n",
      "TYPE ERROR \n",
      "ROW:  3866\n",
      "ROW VALUE:  (None, None) \n",
      "COL1:  None \n",
      "COL2:  None\n",
      "\n",
      "TYPE ERROR \n",
      "ROW:  19724\n",
      "ROW VALUE:  (None, None) \n",
      "COL1:  None \n",
      "COL2:  None\n",
      "\n",
      "TYPE ERROR \n",
      "ROW:  30344\n",
      "ROW VALUE:  (None, None) \n",
      "COL1:  None \n",
      "COL2:  None\n",
      "\n",
      "TYPE ERROR \n",
      "ROW:  35769\n",
      "ROW VALUE:  (None, None) \n",
      "COL1:  None \n",
      "COL2:  None\n",
      "\n",
      "TYPE ERROR \n",
      "ROW:  51949\n",
      "ROW VALUE:  (None, None) \n",
      "COL1:  None \n",
      "COL2:  None\n",
      "\n",
      "TYPE ERROR \n",
      "ROW:  80985\n",
      "ROW VALUE:  (None, None) \n",
      "COL1:  None \n",
      "COL2:  None\n",
      "\n",
      "TYPE ERROR \n",
      "ROW:  118852\n",
      "ROW VALUE:  (None, None) \n",
      "COL1:  None \n",
      "COL2:  None\n"
     ]
    }
   ],
   "source": [
    "num_sents = 0\n",
    "trainsheet = wb['Train']\n",
    "train_tokens, train_labels = [],[]\n",
    "sentence_tokens, sentences_labels=[],[]\n",
    "i=2\n",
    "for row in trainsheet.iter_rows(min_row=2,max_col=2,max_row=118852,values_only=True):\n",
    "    row0 = row[0]\n",
    "    row1 = row[1]\n",
    "    if isinstance(row0,str) == False or isinstance(row1,str)==False:\n",
    "        if isinstance(row0,int) or isinstance(row0,float):\n",
    "            row0 = str(row0)\n",
    "        else:\n",
    "            print('\\nTYPE ERROR \\nROW: ',i)\n",
    "            print('ROW VALUE: ',row,'\\nCOL1: ',row0,'\\nCOL2: ',row1)\n",
    "    if (row0 == None and row1 == None) or (len(row0)==0 and len(row1)==0):\n",
    "        num_sents+=1\n",
    "        train_tokens.append(sentence_tokens.copy())\n",
    "        train_labels.append(sentences_labels.copy())\n",
    "        sentence_tokens.clear()\n",
    "        sentences_labels.clear()\n",
    "    elif len(row0)==0 or len(row1)==0:\n",
    "        print('\\nLENGTH ERROR')\n",
    "        print(i,row,row0,row1)\n",
    "    else:\n",
    "        if row1 not in accepted_labels:\n",
    "            print('\\nUNEXPECTED LABEL \\nROW: ',i)\n",
    "            print('ROW VALUE: ',row,'\\nCOL1: ',row0,'\\nCOL2: ',row1)\n",
    "        sentence_tokens.append(row0)\n",
    "        sentences_labels.append(row1)\n",
    "    i+=1"
   ]
  },
  {
   "cell_type": "code",
   "execution_count": 11,
   "id": "7359cfe9",
   "metadata": {},
   "outputs": [
    {
     "name": "stdout",
     "output_type": "stream",
     "text": [
      "4426\n"
     ]
    }
   ],
   "source": [
    "print(num_sents)"
   ]
  },
  {
   "cell_type": "code",
   "execution_count": 12,
   "id": "5ef4c3c2",
   "metadata": {},
   "outputs": [
    {
     "name": "stdout",
     "output_type": "stream",
     "text": [
      "sentence num 0 done\n",
      "sentence num 500 done\n",
      "sentence num 1000 done\n",
      "sentence num 1500 done\n",
      "sentence num 2000 done\n",
      "sentence num 2500 done\n",
      "sentence num 3000 done\n",
      "sentence num 3500 done\n",
      "sentence num 4000 done\n"
     ]
    }
   ],
   "source": [
    "with open('epi_gold_train.tsv', \"w\") as f:\n",
    "    for i in range(len(train_tokens)): #for sentence in sentences\n",
    "        for j in range(len(train_tokens[i])): #for token in sentence\n",
    "            output = str(train_tokens[i][j]) +'\\t' +str(train_labels[i][j])+'\\n'\n",
    "            f.write(output)\n",
    "        f.write('\\n')\n",
    "        if i%500==0:\n",
    "            print('sentence num',i,'done')\n",
    "f.close()"
   ]
  },
  {
   "cell_type": "markdown",
   "id": "6f6de41c",
   "metadata": {},
   "source": [
    "Save as .tsv files"
   ]
  },
  {
   "cell_type": "code",
   "execution_count": 13,
   "id": "b64e1cb4",
   "metadata": {},
   "outputs": [
    {
     "name": "stdout",
     "output_type": "stream",
     "text": [
      "sentence num 0 done\n",
      "sentence num 500 done\n",
      "sentence num 1000 done\n",
      "sentence num 1500 done\n",
      "sentence num 2000 done\n",
      "sentence num 2500 done\n",
      "sentence num 3000 done\n",
      "sentence num 3500 done\n",
      "sentence num 4000 done\n",
      "sentence num 4500 done\n",
      "sentence num 5000 done\n",
      "sentence num 5500 done\n",
      "sentence num 6000 done\n"
     ]
    }
   ],
   "source": [
    "tokens = train_tokens + val_tokens + test_tokens\n",
    "labels = train_labels + val_labels + test_labels\n",
    "with open('epi_gold_set.tsv', \"w\") as f:\n",
    "    for i in range(len(tokens)): #for sentence in sentences\n",
    "        for j in range(len(tokens[i])): #for token in sentence\n",
    "            output = str(tokens[i][j]) +'\\t' +str(labels[i][j])+'\\n'\n",
    "            f.write(output)\n",
    "        f.write('\\n')\n",
    "        if i%500==0:\n",
    "            print('sentence num',i,'done')\n",
    "f.close()"
   ]
  },
  {
   "cell_type": "code",
   "execution_count": 14,
   "id": "957604b7",
   "metadata": {},
   "outputs": [
    {
     "name": "stdout",
     "output_type": "stream",
     "text": [
      "sentence num 0 done\n",
      "sentence num 500 done\n",
      "sentence num 1000 done\n",
      "sentence num 1500 done\n",
      "sentence num 2000 done\n",
      "sentence num 2500 done\n",
      "sentence num 3000 done\n",
      "sentence num 3500 done\n",
      "sentence num 4000 done\n",
      "sentence num 4500 done\n",
      "sentence num 5000 done\n",
      "sentence num 5500 done\n"
     ]
    }
   ],
   "source": [
    "tokens = train_tokens + val_tokens\n",
    "labels = train_labels + val_labels\n",
    "with open('epi_gold_kfoldtrain.tsv', \"w\") as f:\n",
    "    for i in range(len(tokens)): #for sentence in sentences\n",
    "        for j in range(len(tokens[i])): #for token in sentence\n",
    "            output = str(tokens[i][j]) +'\\t' +str(labels[i][j])+'\\n'\n",
    "            f.write(output)\n",
    "        f.write('\\n')\n",
    "        if i%500==0:\n",
    "            print('sentence num',i,'done')\n",
    "f.close()"
   ]
  }
 ],
 "metadata": {
  "kernelspec": {
   "display_name": "Python 3",
   "language": "python",
   "name": "python3"
  },
  "language_info": {
   "codemirror_mode": {
    "name": "ipython",
    "version": 3
   },
   "file_extension": ".py",
   "mimetype": "text/x-python",
   "name": "python",
   "nbconvert_exporter": "python",
   "pygments_lexer": "ipython3",
   "version": "3.6.8"
  }
 },
 "nbformat": 4,
 "nbformat_minor": 5
}

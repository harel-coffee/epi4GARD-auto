{
 "cells": [
  {
   "cell_type": "code",
   "execution_count": 1,
   "metadata": {},
   "outputs": [],
   "source": [
    "# Determines if text matches the pattern of:\n",
    "# (number) (patients|cases|subjects|individuals) (something) (reported|seen|found|identified)\n",
    "def matchXCases(text, verbose=False):\n",
    "    result = re.search(r\"[^.,]* (patients|cases|subjects|individuals)[^.,]* (reported|seen|found|identified)[^.,]*\", text)\n",
    "    if verbose:\n",
    "        print(result.group(0), '\\n', text)\n",
    "    if result != None:\n",
    "        split_text = result.group(0).split()\n",
    "        if containsNum(split_text[0]) or containsNum(split_text[1]):\n",
    "            if checkDependence(result.group(0)):\n",
    "                return True\n",
    "    return False"
   ]
  },
  {
   "cell_type": "code",
   "execution_count": null,
   "metadata": {},
   "outputs": [],
   "source": [
    "letters = list(string.ascii_lowercase)\n",
    "letters.append('0')\n",
    "dz_urls = set()\n",
    "\n",
    "for letter in letters:\n",
    "    URL = 'https://ghr.nlm.nih.gov/condition?initial='+letter\n",
    "    page = requests.get(URL)\n",
    "    soup = BeautifulSoup(page.content, 'html.parser')\n",
    "\n",
    "    ul = soup.findAll(\"ul\", {\"class\": \"browse-results\"})\n",
    "    lis = ul[0].findChildren(\"li\" , recursive=False)\n",
    "\n",
    "    for li in lis:\n",
    "        url = 'https://ghr.nlm.nih.gov' + li.contents[-1]['href']\n",
    "        if url not in dz_urls:\n",
    "            dz_urls.add(url)"
   ]
  },
  {
   "cell_type": "code",
   "execution_count": null,
   "metadata": {},
   "outputs": [],
   "source": [
    "ghr_pmids = set()\n",
    "i=0\n",
    "for URL in dz_urls:\n",
    "    if i%100 == 0:\n",
    "        print(i)\n",
    "    i+=1\n",
    "    page = requests.get(URL)\n",
    "\n",
    "    soup = BeautifulSoup(page.content, 'html.parser')\n",
    "\n",
    "    pmc_divs = soup.findAll(\"div\", {\"class\": \"pubmed-links\"})\n",
    "    pmids = set()\n",
    "    for div in pmc_divs:\n",
    "        link = div.contents[0]['href']\n",
    "        link_list = link.split('/')\n",
    "        pmid = link_list[-1]\n",
    "        if pmid not in ghr_pmids:\n",
    "            ghr_pmids.add(pmid)"
   ]
  }
 ],
 "metadata": {
  "kernelspec": {
   "display_name": "Python 3",
   "language": "python",
   "name": "python3"
  },
  "language_info": {
   "codemirror_mode": {
    "name": "ipython",
    "version": 3
   },
   "file_extension": ".py",
   "mimetype": "text/x-python",
   "name": "python",
   "nbconvert_exporter": "python",
   "pygments_lexer": "ipython3",
   "version": "3.7.5"
  }
 },
 "nbformat": 4,
 "nbformat_minor": 4
}

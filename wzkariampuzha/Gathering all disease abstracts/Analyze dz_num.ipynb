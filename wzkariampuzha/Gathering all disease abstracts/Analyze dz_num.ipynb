{
 "cells": [
  {
   "cell_type": "code",
   "execution_count": 2,
   "id": "c977b4ea",
   "metadata": {},
   "outputs": [
    {
     "name": "stderr",
     "output_type": "stream",
     "text": [
      "2021-07-06 11:01:44.491562: W tensorflow/stream_executor/platform/default/dso_loader.cc:64] Could not load dynamic library 'libcudart.so.11.0'; dlerror: libcudart.so.11.0: cannot open shared object file: No such file or directory\n",
      "2021-07-06 11:01:44.491587: I tensorflow/stream_executor/cuda/cudart_stub.cc:29] Ignore above cudart dlerror if you do not have a GPU set up on your machine.\n"
     ]
    }
   ],
   "source": [
    "#Download any necessary datasets & dependencies, only need to do this once\n",
    "#import sys\n",
    "#!{sys.executable} -m pip install spacy\n",
    "#!{sys.executable} -m spacy download en_core_web_lg\n",
    "#!{sys.executable} -m pip install https://s3-us-west-2.amazonaws.com/ai2-s2-scispacy/releases/v0.4.0/en_ner_bc5cdr_md-0.4.0.tar.gz\n",
    "#!{sys.executable} -m pip install https://s3-us-west-2.amazonaws.com/ai2-s2-scispacy/releases/v0.4.0/en_ner_bionlp13cg_md-0.4.0.tar.gz\n",
    "#!{sys.executable} -m pip install numpy\n",
    "#!{sys.executable} -m pip install pandas\n",
    "#!{sys.executable} -m pip install requests\n",
    "#!{sys.executable} -m pip install matplotlib\n",
    "\n",
    "#Installing dependencies for classify_abs.py\n",
    "#!{sys.executable} -m pip install tensorflow\n",
    "#!{sys.executable} -m pip install nltk\n",
    "#import nltk\n",
    "#nltk.download('stopwords')\n",
    "#nltk.download('punkt')\n",
    "\n",
    "import numpy as np\n",
    "import pandas as pd\n",
    "import requests\n",
    "import xml.etree.ElementTree as ET\n",
    "import spacy\n",
    "import time\n",
    "import datetime\n",
    "from collections import OrderedDict\n",
    "import matplotlib.pyplot as plt; plt.rcdefaults()"
   ]
  },
  {
   "cell_type": "code",
   "execution_count": 3,
   "id": "0d0e4770",
   "metadata": {},
   "outputs": [],
   "source": [
    "df = pd.read_csv('all_dz_abstract_set20.csv')"
   ]
  },
  {
   "cell_type": "code",
   "execution_count": 4,
   "id": "4e4f6eba",
   "metadata": {
    "scrolled": false
   },
   "outputs": [
    {
     "data": {
      "text/html": [
       "<div>\n",
       "<style scoped>\n",
       "    .dataframe tbody tr th:only-of-type {\n",
       "        vertical-align: middle;\n",
       "    }\n",
       "\n",
       "    .dataframe tbody tr th {\n",
       "        vertical-align: top;\n",
       "    }\n",
       "\n",
       "    .dataframe thead th {\n",
       "        text-align: right;\n",
       "    }\n",
       "</style>\n",
       "<table border=\"1\" class=\"dataframe\">\n",
       "  <thead>\n",
       "    <tr style=\"text-align: right;\">\n",
       "      <th></th>\n",
       "      <th>disease</th>\n",
       "      <th>pmid</th>\n",
       "      <th>abstract</th>\n",
       "    </tr>\n",
       "  </thead>\n",
       "  <tbody>\n",
       "    <tr>\n",
       "      <th>98547</th>\n",
       "      <td>Sphingosine phosphate lyase insufficiency synd...</td>\n",
       "      <td>34131653</td>\n",
       "      <td>Systemic sclerosis (SSc) is a connective tissu...</td>\n",
       "    </tr>\n",
       "    <tr>\n",
       "      <th>98548</th>\n",
       "      <td>Sphingosine phosphate lyase insufficiency synd...</td>\n",
       "      <td>34155851</td>\n",
       "      <td>&lt;h4&gt;Background&lt;/h4&gt;Surgical interventions in p...</td>\n",
       "    </tr>\n",
       "    <tr>\n",
       "      <th>98549</th>\n",
       "      <td>Sphingosine phosphate lyase insufficiency synd...</td>\n",
       "      <td>34163540</td>\n",
       "      <td>&lt;h4&gt;Background&lt;/h4&gt;Systemic sclerosis (SSc) al...</td>\n",
       "    </tr>\n",
       "    <tr>\n",
       "      <th>98550</th>\n",
       "      <td>Sphingosine phosphate lyase insufficiency synd...</td>\n",
       "      <td>34071779</td>\n",
       "      <td>&lt;b&gt;Objective:&lt;/b&gt; This nationwide study aimed ...</td>\n",
       "    </tr>\n",
       "    <tr>\n",
       "      <th>98551</th>\n",
       "      <td>Sphingosine phosphate lyase insufficiency synd...</td>\n",
       "      <td>33548375</td>\n",
       "      <td>Digital ulcers (DU) are one of the most common...</td>\n",
       "    </tr>\n",
       "  </tbody>\n",
       "</table>\n",
       "</div>"
      ],
      "text/plain": [
       "                                                 disease      pmid  \\\n",
       "98547  Sphingosine phosphate lyase insufficiency synd...  34131653   \n",
       "98548  Sphingosine phosphate lyase insufficiency synd...  34155851   \n",
       "98549  Sphingosine phosphate lyase insufficiency synd...  34163540   \n",
       "98550  Sphingosine phosphate lyase insufficiency synd...  34071779   \n",
       "98551  Sphingosine phosphate lyase insufficiency synd...  33548375   \n",
       "\n",
       "                                                abstract  \n",
       "98547  Systemic sclerosis (SSc) is a connective tissu...  \n",
       "98548  <h4>Background</h4>Surgical interventions in p...  \n",
       "98549  <h4>Background</h4>Systemic sclerosis (SSc) al...  \n",
       "98550  <b>Objective:</b> This nationwide study aimed ...  \n",
       "98551  Digital ulcers (DU) are one of the most common...  "
      ]
     },
     "execution_count": 4,
     "metadata": {},
     "output_type": "execute_result"
    }
   ],
   "source": [
    "df.tail()"
   ]
  },
  {
   "cell_type": "code",
   "execution_count": 4,
   "id": "30a2c80c",
   "metadata": {},
   "outputs": [],
   "source": [
    "dz_num = {}\n",
    "for row in df.iterrows():\n",
    "    if len(row[1][2])>5: #Check abstract length\n",
    "        if row[1][0] in dz_num.keys(): #Check if disease name is in dictionary\n",
    "            dz_num[row[1][0]]+=1\n",
    "        else:\n",
    "            dz_num[row[1][0]] = 1\n",
    "    if len(row[1][2])<=5:\n",
    "        if row[1][0] not in dz_num.keys():\n",
    "            dz_num[row[1][0]] = 0"
   ]
  },
  {
   "cell_type": "code",
   "execution_count": 5,
   "id": "92d6c57a",
   "metadata": {
    "scrolled": true
   },
   "outputs": [
    {
     "data": {
      "image/png": "[encoded data removed]",
      "text/plain": [
       "<Figure size 640x480 with 1 Axes>"
      ]
     },
     "metadata": {},
     "output_type": "display_data"
    }
   ],
   "source": [
    "#Plot the figure\n",
    "objects = tuple(dz_num)\n",
    "performance = list(dz_num.values())\n",
    "#y_pos = np.arange(performance)\n",
    "\n",
    "fig = plt.figure()\n",
    "plt.ylabel('# of Diseases')\n",
    "plt.xlabel('# of Articles')\n",
    "plt.hist(performance)\n",
    "\n",
    "plt.show()"
   ]
  },
  {
   "cell_type": "code",
   "execution_count": 6,
   "id": "b2dce45b",
   "metadata": {},
   "outputs": [],
   "source": [
    "fig.savefig('All_Disease_Hist20.png', dpi=400, bbox_inches='tight')"
   ]
  },
  {
   "cell_type": "code",
   "execution_count": 7,
   "id": "d4c17fdd",
   "metadata": {},
   "outputs": [],
   "source": [
    "dz_num_less5 ={}\n",
    "zero, five, ten, fifteen,twentyplus =0,0,0,0,0\n",
    "for k, v in dz_num.items():\n",
    "        if v<20:\n",
    "            dz_num_less5[k]=v\n",
    "        if v>=20:\n",
    "            twentyplus+=1\n",
    "        elif v>=15:\n",
    "            fifteen+=1\n",
    "        elif v>=10:\n",
    "            ten+=1\n",
    "        elif v>=5:\n",
    "            five+=1\n",
    "        elif v<5:\n",
    "            zero+=1"
   ]
  },
  {
   "cell_type": "code",
   "execution_count": 8,
   "id": "13d1c084",
   "metadata": {},
   "outputs": [
    {
     "data": {
      "image/png": "[encoded data removed]",
      "text/plain": [
       "<Figure size 640x480 with 1 Axes>"
      ]
     },
     "metadata": {},
     "output_type": "display_data"
    }
   ],
   "source": [
    "#Plot the figure\n",
    "objects = tuple(dz_num_less5)\n",
    "performance = list(dz_num_less5.values())\n",
    "#y_pos = np.arange(performance)\n",
    "\n",
    "fig = plt.figure()\n",
    "plt.ylabel('# of Diseases')\n",
    "plt.xlabel('# of Articles')\n",
    "plt.hist(performance)\n",
    "\n",
    "plt.show()"
   ]
  },
  {
   "cell_type": "code",
   "execution_count": 9,
   "id": "27daeffb",
   "metadata": {},
   "outputs": [
    {
     "name": "stdout",
     "output_type": "stream",
     "text": [
      "494\n",
      "275\n",
      "372\n",
      "1405\n",
      "3314\n"
     ]
    }
   ],
   "source": [
    "print(zero)\n",
    "print(five)\n",
    "print(ten)\n",
    "print(fifteen)\n",
    "print(twentyplus)"
   ]
  },
  {
   "cell_type": "code",
   "execution_count": 10,
   "id": "1c3ffd60",
   "metadata": {},
   "outputs": [],
   "source": [
    "fig.savefig('All_Disease20_Less5_Hist.png', dpi=400, bbox_inches='tight')"
   ]
  }
 ],
 "metadata": {
  "kernelspec": {
   "display_name": "Python 3 (ipykernel)",
   "language": "python",
   "name": "python3"
  },
  "language_info": {
   "codemirror_mode": {
    "name": "ipython",
    "version": 3
   },
   "file_extension": ".py",
   "mimetype": "text/x-python",
   "name": "python",
   "nbconvert_exporter": "python",
   "pygments_lexer": "ipython3",
   "version": "3.8.0"
  }
 },
 "nbformat": 4,
 "nbformat_minor": 5
}
